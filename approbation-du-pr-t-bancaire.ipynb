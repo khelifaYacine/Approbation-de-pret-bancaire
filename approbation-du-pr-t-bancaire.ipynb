{
 "cells": [
  {
   "cell_type": "markdown",
   "id": "7ae28e83",
   "metadata": {
    "papermill": {
     "duration": 0.023759,
     "end_time": "2024-10-09T20:45:43.123075",
     "exception": false,
     "start_time": "2024-10-09T20:45:43.099316",
     "status": "completed"
    },
    "tags": []
   },
   "source": [
    "# Exploration des données :"
   ]
  },
  {
   "cell_type": "code",
   "execution_count": 4,
   "id": "af6c15d3",
   "metadata": {
    "execution": {
     "iopub.execute_input": "2024-10-09T20:45:43.172928Z",
     "iopub.status.busy": "2024-10-09T20:45:43.172329Z",
     "iopub.status.idle": "2024-10-09T20:45:45.701461Z",
     "shell.execute_reply": "2024-10-09T20:45:45.700428Z"
    },
    "papermill": {
     "duration": 2.557324,
     "end_time": "2024-10-09T20:45:45.704346",
     "exception": false,
     "start_time": "2024-10-09T20:45:43.147022",
     "status": "completed"
    },
    "tags": []
   },
   "outputs": [],
   "source": [
    "# Importation des packages\n",
    "\n",
    "import pandas as pd\n",
    "import seaborn as sns\n",
    "import matplotlib.pyplot as plt\n",
    "from sklearn.preprocessing import LabelEncoder\n",
    "from sklearn.model_selection import train_test_split\n",
    "from sklearn.linear_model import LogisticRegression\n",
    "from sklearn.ensemble import RandomForestClassifier\n",
    "from sklearn.metrics import roc_auc_score\n",
    "\n",
    "# Package modélisation \n",
    "from sklearn.model_selection import train_test_split, cross_val_score\n",
    "from sklearn.metrics import accuracy_score, roc_auc_score, confusion_matrix, classification_report\n",
    "from sklearn.ensemble import RandomForestClassifier\n",
    "from sklearn.linear_model import LogisticRegression\n",
    "from sklearn.svm import SVC\n",
    "from sklearn.neighbors import KNeighborsClassifier\n",
    "from sklearn.tree import DecisionTreeClassifier\n",
    "from xgboost import XGBClassifier\n",
    "from sklearn.model_selection import GridSearchCV\n",
    "\n",
    "\n"
   ]
  },
  {
   "cell_type": "code",
   "execution_count": 5,
   "id": "4aeaaf35",
   "metadata": {
    "execution": {
     "iopub.execute_input": "2024-10-09T20:45:45.755606Z",
     "iopub.status.busy": "2024-10-09T20:45:45.754981Z",
     "iopub.status.idle": "2024-10-09T20:45:46.061972Z",
     "shell.execute_reply": "2024-10-09T20:45:46.060769Z"
    },
    "papermill": {
     "duration": 0.335643,
     "end_time": "2024-10-09T20:45:46.064630",
     "exception": false,
     "start_time": "2024-10-09T20:45:45.728987",
     "status": "completed"
    },
    "tags": []
   },
   "outputs": [
    {
     "data": {
      "text/html": [
       "<div>\n",
       "<style scoped>\n",
       "    .dataframe tbody tr th:only-of-type {\n",
       "        vertical-align: middle;\n",
       "    }\n",
       "\n",
       "    .dataframe tbody tr th {\n",
       "        vertical-align: top;\n",
       "    }\n",
       "\n",
       "    .dataframe thead th {\n",
       "        text-align: right;\n",
       "    }\n",
       "</style>\n",
       "<table border=\"1\" class=\"dataframe\">\n",
       "  <thead>\n",
       "    <tr style=\"text-align: right;\">\n",
       "      <th></th>\n",
       "      <th>id</th>\n",
       "      <th>person_age</th>\n",
       "      <th>person_income</th>\n",
       "      <th>person_home_ownership</th>\n",
       "      <th>person_emp_length</th>\n",
       "      <th>loan_intent</th>\n",
       "      <th>loan_grade</th>\n",
       "      <th>loan_amnt</th>\n",
       "      <th>loan_int_rate</th>\n",
       "      <th>loan_percent_income</th>\n",
       "      <th>cb_person_default_on_file</th>\n",
       "      <th>cb_person_cred_hist_length</th>\n",
       "      <th>loan_status</th>\n",
       "    </tr>\n",
       "  </thead>\n",
       "  <tbody>\n",
       "    <tr>\n",
       "      <th>0</th>\n",
       "      <td>0</td>\n",
       "      <td>37</td>\n",
       "      <td>35000</td>\n",
       "      <td>RENT</td>\n",
       "      <td>0.0</td>\n",
       "      <td>EDUCATION</td>\n",
       "      <td>B</td>\n",
       "      <td>6000</td>\n",
       "      <td>11.49</td>\n",
       "      <td>0.17</td>\n",
       "      <td>N</td>\n",
       "      <td>14</td>\n",
       "      <td>0</td>\n",
       "    </tr>\n",
       "    <tr>\n",
       "      <th>1</th>\n",
       "      <td>1</td>\n",
       "      <td>22</td>\n",
       "      <td>56000</td>\n",
       "      <td>OWN</td>\n",
       "      <td>6.0</td>\n",
       "      <td>MEDICAL</td>\n",
       "      <td>C</td>\n",
       "      <td>4000</td>\n",
       "      <td>13.35</td>\n",
       "      <td>0.07</td>\n",
       "      <td>N</td>\n",
       "      <td>2</td>\n",
       "      <td>0</td>\n",
       "    </tr>\n",
       "    <tr>\n",
       "      <th>2</th>\n",
       "      <td>2</td>\n",
       "      <td>29</td>\n",
       "      <td>28800</td>\n",
       "      <td>OWN</td>\n",
       "      <td>8.0</td>\n",
       "      <td>PERSONAL</td>\n",
       "      <td>A</td>\n",
       "      <td>6000</td>\n",
       "      <td>8.90</td>\n",
       "      <td>0.21</td>\n",
       "      <td>N</td>\n",
       "      <td>10</td>\n",
       "      <td>0</td>\n",
       "    </tr>\n",
       "    <tr>\n",
       "      <th>3</th>\n",
       "      <td>3</td>\n",
       "      <td>30</td>\n",
       "      <td>70000</td>\n",
       "      <td>RENT</td>\n",
       "      <td>14.0</td>\n",
       "      <td>VENTURE</td>\n",
       "      <td>B</td>\n",
       "      <td>12000</td>\n",
       "      <td>11.11</td>\n",
       "      <td>0.17</td>\n",
       "      <td>N</td>\n",
       "      <td>5</td>\n",
       "      <td>0</td>\n",
       "    </tr>\n",
       "    <tr>\n",
       "      <th>4</th>\n",
       "      <td>4</td>\n",
       "      <td>22</td>\n",
       "      <td>60000</td>\n",
       "      <td>RENT</td>\n",
       "      <td>2.0</td>\n",
       "      <td>MEDICAL</td>\n",
       "      <td>A</td>\n",
       "      <td>6000</td>\n",
       "      <td>6.92</td>\n",
       "      <td>0.10</td>\n",
       "      <td>N</td>\n",
       "      <td>3</td>\n",
       "      <td>0</td>\n",
       "    </tr>\n",
       "    <tr>\n",
       "      <th>5</th>\n",
       "      <td>5</td>\n",
       "      <td>27</td>\n",
       "      <td>45000</td>\n",
       "      <td>RENT</td>\n",
       "      <td>2.0</td>\n",
       "      <td>VENTURE</td>\n",
       "      <td>A</td>\n",
       "      <td>9000</td>\n",
       "      <td>8.94</td>\n",
       "      <td>0.20</td>\n",
       "      <td>N</td>\n",
       "      <td>5</td>\n",
       "      <td>0</td>\n",
       "    </tr>\n",
       "    <tr>\n",
       "      <th>6</th>\n",
       "      <td>6</td>\n",
       "      <td>25</td>\n",
       "      <td>45000</td>\n",
       "      <td>MORTGAGE</td>\n",
       "      <td>9.0</td>\n",
       "      <td>EDUCATION</td>\n",
       "      <td>A</td>\n",
       "      <td>12000</td>\n",
       "      <td>6.54</td>\n",
       "      <td>0.27</td>\n",
       "      <td>N</td>\n",
       "      <td>3</td>\n",
       "      <td>0</td>\n",
       "    </tr>\n",
       "    <tr>\n",
       "      <th>7</th>\n",
       "      <td>7</td>\n",
       "      <td>21</td>\n",
       "      <td>20000</td>\n",
       "      <td>RENT</td>\n",
       "      <td>0.0</td>\n",
       "      <td>PERSONAL</td>\n",
       "      <td>C</td>\n",
       "      <td>2500</td>\n",
       "      <td>13.49</td>\n",
       "      <td>0.13</td>\n",
       "      <td>Y</td>\n",
       "      <td>3</td>\n",
       "      <td>0</td>\n",
       "    </tr>\n",
       "    <tr>\n",
       "      <th>8</th>\n",
       "      <td>8</td>\n",
       "      <td>37</td>\n",
       "      <td>69600</td>\n",
       "      <td>RENT</td>\n",
       "      <td>11.0</td>\n",
       "      <td>EDUCATION</td>\n",
       "      <td>D</td>\n",
       "      <td>5000</td>\n",
       "      <td>14.84</td>\n",
       "      <td>0.07</td>\n",
       "      <td>Y</td>\n",
       "      <td>11</td>\n",
       "      <td>0</td>\n",
       "    </tr>\n",
       "    <tr>\n",
       "      <th>9</th>\n",
       "      <td>9</td>\n",
       "      <td>35</td>\n",
       "      <td>110000</td>\n",
       "      <td>MORTGAGE</td>\n",
       "      <td>0.0</td>\n",
       "      <td>DEBTCONSOLIDATION</td>\n",
       "      <td>C</td>\n",
       "      <td>15000</td>\n",
       "      <td>12.98</td>\n",
       "      <td>0.14</td>\n",
       "      <td>Y</td>\n",
       "      <td>6</td>\n",
       "      <td>0</td>\n",
       "    </tr>\n",
       "  </tbody>\n",
       "</table>\n",
       "</div>"
      ],
      "text/plain": [
       "   id  person_age  person_income person_home_ownership  person_emp_length  \\\n",
       "0   0          37          35000                  RENT                0.0   \n",
       "1   1          22          56000                   OWN                6.0   \n",
       "2   2          29          28800                   OWN                8.0   \n",
       "3   3          30          70000                  RENT               14.0   \n",
       "4   4          22          60000                  RENT                2.0   \n",
       "5   5          27          45000                  RENT                2.0   \n",
       "6   6          25          45000              MORTGAGE                9.0   \n",
       "7   7          21          20000                  RENT                0.0   \n",
       "8   8          37          69600                  RENT               11.0   \n",
       "9   9          35         110000              MORTGAGE                0.0   \n",
       "\n",
       "         loan_intent loan_grade  loan_amnt  loan_int_rate  \\\n",
       "0          EDUCATION          B       6000          11.49   \n",
       "1            MEDICAL          C       4000          13.35   \n",
       "2           PERSONAL          A       6000           8.90   \n",
       "3            VENTURE          B      12000          11.11   \n",
       "4            MEDICAL          A       6000           6.92   \n",
       "5            VENTURE          A       9000           8.94   \n",
       "6          EDUCATION          A      12000           6.54   \n",
       "7           PERSONAL          C       2500          13.49   \n",
       "8          EDUCATION          D       5000          14.84   \n",
       "9  DEBTCONSOLIDATION          C      15000          12.98   \n",
       "\n",
       "   loan_percent_income cb_person_default_on_file  cb_person_cred_hist_length  \\\n",
       "0                 0.17                         N                          14   \n",
       "1                 0.07                         N                           2   \n",
       "2                 0.21                         N                          10   \n",
       "3                 0.17                         N                           5   \n",
       "4                 0.10                         N                           3   \n",
       "5                 0.20                         N                           5   \n",
       "6                 0.27                         N                           3   \n",
       "7                 0.13                         Y                           3   \n",
       "8                 0.07                         Y                          11   \n",
       "9                 0.14                         Y                           6   \n",
       "\n",
       "   loan_status  \n",
       "0            0  \n",
       "1            0  \n",
       "2            0  \n",
       "3            0  \n",
       "4            0  \n",
       "5            0  \n",
       "6            0  \n",
       "7            0  \n",
       "8            0  \n",
       "9            0  "
      ]
     },
     "execution_count": 5,
     "metadata": {},
     "output_type": "execute_result"
    }
   ],
   "source": [
    "# Importation des données \n",
    "df_train = pd.read_csv(\"train.csv\")\n",
    "df_test = pd.read_csv (\"test.csv\")\n",
    "df_train.head(10)"
   ]
  },
  {
   "cell_type": "markdown",
   "id": "e308fca6",
   "metadata": {
    "papermill": {
     "duration": 0.024052,
     "end_time": "2024-10-09T20:45:46.113161",
     "exception": false,
     "start_time": "2024-10-09T20:45:46.089109",
     "status": "completed"
    },
    "tags": []
   },
   "source": [
    "Description des colonnes :\n",
    "- id : Identifiant unique pour chaque observation.\n",
    "- person_age : Âge du demandeur de prêt.\n",
    "- person_income : Revenu annuel du demandeur.\n",
    "- person_home_ownership : Statut de propriété du logement (par exemple : RENT, OWN, MORTGAGE).\n",
    "- person_emp_length : Nombre d'années d'emploi du demandeur.\n",
    "- loan_intent : Raison du prêt (par exemple : EDUCATION, MEDICAL, VENTURE).\n",
    "- loan_grade : Classement du prêt attribué (par exemple : A, B, C).\n",
    "- loan_amnt : Montant demandé pour le prêt.\n",
    "- loan_int_rate : Taux d'intérêt du prêt.\n",
    "- loan_percent_income : Proportion du revenu du demandeur par rapport au montant du prêt.\n",
    "- cb_person_default_on_file : Indicateur de défaut de paiement dans l'historique de crédit du demandeur (Y/N).\n",
    "- cb_person_cred_hist_length : Durée de l'historique de crédit du demandeur (en années).\n",
    "- loan_status : Statut du prêt (0 pour refusé, 1 pour approuvé)."
   ]
  },
  {
   "cell_type": "code",
   "execution_count": 6,
   "id": "e6394440",
   "metadata": {
    "execution": {
     "iopub.execute_input": "2024-10-09T20:45:46.163863Z",
     "iopub.status.busy": "2024-10-09T20:45:46.163377Z",
     "iopub.status.idle": "2024-10-09T20:45:46.186026Z",
     "shell.execute_reply": "2024-10-09T20:45:46.184801Z"
    },
    "papermill": {
     "duration": 0.051201,
     "end_time": "2024-10-09T20:45:46.188592",
     "exception": false,
     "start_time": "2024-10-09T20:45:46.137391",
     "status": "completed"
    },
    "tags": []
   },
   "outputs": [
    {
     "data": {
      "text/html": [
       "<div>\n",
       "<style scoped>\n",
       "    .dataframe tbody tr th:only-of-type {\n",
       "        vertical-align: middle;\n",
       "    }\n",
       "\n",
       "    .dataframe tbody tr th {\n",
       "        vertical-align: top;\n",
       "    }\n",
       "\n",
       "    .dataframe thead th {\n",
       "        text-align: right;\n",
       "    }\n",
       "</style>\n",
       "<table border=\"1\" class=\"dataframe\">\n",
       "  <thead>\n",
       "    <tr style=\"text-align: right;\">\n",
       "      <th></th>\n",
       "      <th>id</th>\n",
       "      <th>person_age</th>\n",
       "      <th>person_income</th>\n",
       "      <th>person_home_ownership</th>\n",
       "      <th>person_emp_length</th>\n",
       "      <th>loan_intent</th>\n",
       "      <th>loan_grade</th>\n",
       "      <th>loan_amnt</th>\n",
       "      <th>loan_int_rate</th>\n",
       "      <th>loan_percent_income</th>\n",
       "      <th>cb_person_default_on_file</th>\n",
       "      <th>cb_person_cred_hist_length</th>\n",
       "    </tr>\n",
       "  </thead>\n",
       "  <tbody>\n",
       "    <tr>\n",
       "      <th>0</th>\n",
       "      <td>58645</td>\n",
       "      <td>23</td>\n",
       "      <td>69000</td>\n",
       "      <td>RENT</td>\n",
       "      <td>3.0</td>\n",
       "      <td>HOMEIMPROVEMENT</td>\n",
       "      <td>F</td>\n",
       "      <td>25000</td>\n",
       "      <td>15.76</td>\n",
       "      <td>0.36</td>\n",
       "      <td>N</td>\n",
       "      <td>2</td>\n",
       "    </tr>\n",
       "    <tr>\n",
       "      <th>1</th>\n",
       "      <td>58646</td>\n",
       "      <td>26</td>\n",
       "      <td>96000</td>\n",
       "      <td>MORTGAGE</td>\n",
       "      <td>6.0</td>\n",
       "      <td>PERSONAL</td>\n",
       "      <td>C</td>\n",
       "      <td>10000</td>\n",
       "      <td>12.68</td>\n",
       "      <td>0.10</td>\n",
       "      <td>Y</td>\n",
       "      <td>4</td>\n",
       "    </tr>\n",
       "    <tr>\n",
       "      <th>2</th>\n",
       "      <td>58647</td>\n",
       "      <td>26</td>\n",
       "      <td>30000</td>\n",
       "      <td>RENT</td>\n",
       "      <td>5.0</td>\n",
       "      <td>VENTURE</td>\n",
       "      <td>E</td>\n",
       "      <td>4000</td>\n",
       "      <td>17.19</td>\n",
       "      <td>0.13</td>\n",
       "      <td>Y</td>\n",
       "      <td>2</td>\n",
       "    </tr>\n",
       "    <tr>\n",
       "      <th>3</th>\n",
       "      <td>58648</td>\n",
       "      <td>33</td>\n",
       "      <td>50000</td>\n",
       "      <td>RENT</td>\n",
       "      <td>4.0</td>\n",
       "      <td>DEBTCONSOLIDATION</td>\n",
       "      <td>A</td>\n",
       "      <td>7000</td>\n",
       "      <td>8.90</td>\n",
       "      <td>0.14</td>\n",
       "      <td>N</td>\n",
       "      <td>7</td>\n",
       "    </tr>\n",
       "    <tr>\n",
       "      <th>4</th>\n",
       "      <td>58649</td>\n",
       "      <td>26</td>\n",
       "      <td>102000</td>\n",
       "      <td>MORTGAGE</td>\n",
       "      <td>8.0</td>\n",
       "      <td>HOMEIMPROVEMENT</td>\n",
       "      <td>D</td>\n",
       "      <td>15000</td>\n",
       "      <td>16.32</td>\n",
       "      <td>0.15</td>\n",
       "      <td>Y</td>\n",
       "      <td>4</td>\n",
       "    </tr>\n",
       "    <tr>\n",
       "      <th>5</th>\n",
       "      <td>58650</td>\n",
       "      <td>23</td>\n",
       "      <td>66000</td>\n",
       "      <td>RENT</td>\n",
       "      <td>5.0</td>\n",
       "      <td>EDUCATION</td>\n",
       "      <td>D</td>\n",
       "      <td>22000</td>\n",
       "      <td>14.09</td>\n",
       "      <td>0.33</td>\n",
       "      <td>N</td>\n",
       "      <td>2</td>\n",
       "    </tr>\n",
       "    <tr>\n",
       "      <th>6</th>\n",
       "      <td>58651</td>\n",
       "      <td>26</td>\n",
       "      <td>75000</td>\n",
       "      <td>OWN</td>\n",
       "      <td>10.0</td>\n",
       "      <td>PERSONAL</td>\n",
       "      <td>B</td>\n",
       "      <td>8000</td>\n",
       "      <td>10.62</td>\n",
       "      <td>0.11</td>\n",
       "      <td>N</td>\n",
       "      <td>4</td>\n",
       "    </tr>\n",
       "    <tr>\n",
       "      <th>7</th>\n",
       "      <td>58652</td>\n",
       "      <td>23</td>\n",
       "      <td>55000</td>\n",
       "      <td>MORTGAGE</td>\n",
       "      <td>6.0</td>\n",
       "      <td>PERSONAL</td>\n",
       "      <td>A</td>\n",
       "      <td>6250</td>\n",
       "      <td>6.76</td>\n",
       "      <td>0.12</td>\n",
       "      <td>N</td>\n",
       "      <td>2</td>\n",
       "    </tr>\n",
       "    <tr>\n",
       "      <th>8</th>\n",
       "      <td>58653</td>\n",
       "      <td>32</td>\n",
       "      <td>29124</td>\n",
       "      <td>RENT</td>\n",
       "      <td>0.0</td>\n",
       "      <td>PERSONAL</td>\n",
       "      <td>C</td>\n",
       "      <td>7200</td>\n",
       "      <td>13.11</td>\n",
       "      <td>0.26</td>\n",
       "      <td>Y</td>\n",
       "      <td>6</td>\n",
       "    </tr>\n",
       "    <tr>\n",
       "      <th>9</th>\n",
       "      <td>58654</td>\n",
       "      <td>22</td>\n",
       "      <td>90000</td>\n",
       "      <td>RENT</td>\n",
       "      <td>4.0</td>\n",
       "      <td>DEBTCONSOLIDATION</td>\n",
       "      <td>C</td>\n",
       "      <td>10000</td>\n",
       "      <td>13.49</td>\n",
       "      <td>0.11</td>\n",
       "      <td>Y</td>\n",
       "      <td>3</td>\n",
       "    </tr>\n",
       "  </tbody>\n",
       "</table>\n",
       "</div>"
      ],
      "text/plain": [
       "      id  person_age  person_income person_home_ownership  person_emp_length  \\\n",
       "0  58645          23          69000                  RENT                3.0   \n",
       "1  58646          26          96000              MORTGAGE                6.0   \n",
       "2  58647          26          30000                  RENT                5.0   \n",
       "3  58648          33          50000                  RENT                4.0   \n",
       "4  58649          26         102000              MORTGAGE                8.0   \n",
       "5  58650          23          66000                  RENT                5.0   \n",
       "6  58651          26          75000                   OWN               10.0   \n",
       "7  58652          23          55000              MORTGAGE                6.0   \n",
       "8  58653          32          29124                  RENT                0.0   \n",
       "9  58654          22          90000                  RENT                4.0   \n",
       "\n",
       "         loan_intent loan_grade  loan_amnt  loan_int_rate  \\\n",
       "0    HOMEIMPROVEMENT          F      25000          15.76   \n",
       "1           PERSONAL          C      10000          12.68   \n",
       "2            VENTURE          E       4000          17.19   \n",
       "3  DEBTCONSOLIDATION          A       7000           8.90   \n",
       "4    HOMEIMPROVEMENT          D      15000          16.32   \n",
       "5          EDUCATION          D      22000          14.09   \n",
       "6           PERSONAL          B       8000          10.62   \n",
       "7           PERSONAL          A       6250           6.76   \n",
       "8           PERSONAL          C       7200          13.11   \n",
       "9  DEBTCONSOLIDATION          C      10000          13.49   \n",
       "\n",
       "   loan_percent_income cb_person_default_on_file  cb_person_cred_hist_length  \n",
       "0                 0.36                         N                           2  \n",
       "1                 0.10                         Y                           4  \n",
       "2                 0.13                         Y                           2  \n",
       "3                 0.14                         N                           7  \n",
       "4                 0.15                         Y                           4  \n",
       "5                 0.33                         N                           2  \n",
       "6                 0.11                         N                           4  \n",
       "7                 0.12                         N                           2  \n",
       "8                 0.26                         Y                           6  \n",
       "9                 0.11                         Y                           3  "
      ]
     },
     "execution_count": 6,
     "metadata": {},
     "output_type": "execute_result"
    }
   ],
   "source": [
    "df_test.head(10)"
   ]
  },
  {
   "cell_type": "code",
   "execution_count": 7,
   "id": "8dd6c53d",
   "metadata": {
    "execution": {
     "iopub.execute_input": "2024-10-09T20:45:46.241247Z",
     "iopub.status.busy": "2024-10-09T20:45:46.240234Z",
     "iopub.status.idle": "2024-10-09T20:45:46.299037Z",
     "shell.execute_reply": "2024-10-09T20:45:46.297647Z"
    },
    "papermill": {
     "duration": 0.088442,
     "end_time": "2024-10-09T20:45:46.301989",
     "exception": false,
     "start_time": "2024-10-09T20:45:46.213547",
     "status": "completed"
    },
    "tags": []
   },
   "outputs": [
    {
     "name": "stdout",
     "output_type": "stream",
     "text": [
      "<class 'pandas.core.frame.DataFrame'>\n",
      "RangeIndex: 58645 entries, 0 to 58644\n",
      "Data columns (total 13 columns):\n",
      " #   Column                      Non-Null Count  Dtype  \n",
      "---  ------                      --------------  -----  \n",
      " 0   id                          58645 non-null  int64  \n",
      " 1   person_age                  58645 non-null  int64  \n",
      " 2   person_income               58645 non-null  int64  \n",
      " 3   person_home_ownership       58645 non-null  object \n",
      " 4   person_emp_length           58645 non-null  float64\n",
      " 5   loan_intent                 58645 non-null  object \n",
      " 6   loan_grade                  58645 non-null  object \n",
      " 7   loan_amnt                   58645 non-null  int64  \n",
      " 8   loan_int_rate               58645 non-null  float64\n",
      " 9   loan_percent_income         58645 non-null  float64\n",
      " 10  cb_person_default_on_file   58645 non-null  object \n",
      " 11  cb_person_cred_hist_length  58645 non-null  int64  \n",
      " 12  loan_status                 58645 non-null  int64  \n",
      "dtypes: float64(3), int64(6), object(4)\n",
      "memory usage: 5.8+ MB\n"
     ]
    }
   ],
   "source": [
    "df_train.info()"
   ]
  },
  {
   "cell_type": "code",
   "execution_count": 8,
   "id": "0d0acc1b",
   "metadata": {
    "execution": {
     "iopub.execute_input": "2024-10-09T20:45:46.354438Z",
     "iopub.status.busy": "2024-10-09T20:45:46.354010Z",
     "iopub.status.idle": "2024-10-09T20:45:46.390863Z",
     "shell.execute_reply": "2024-10-09T20:45:46.389694Z"
    },
    "jupyter": {
     "source_hidden": true
    },
    "papermill": {
     "duration": 0.066447,
     "end_time": "2024-10-09T20:45:46.393558",
     "exception": false,
     "start_time": "2024-10-09T20:45:46.327111",
     "status": "completed"
    },
    "tags": []
   },
   "outputs": [
    {
     "data": {
      "text/plain": [
       "id                            0\n",
       "person_age                    0\n",
       "person_income                 0\n",
       "person_home_ownership         0\n",
       "person_emp_length             0\n",
       "loan_intent                   0\n",
       "loan_grade                    0\n",
       "loan_amnt                     0\n",
       "loan_int_rate                 0\n",
       "loan_percent_income           0\n",
       "cb_person_default_on_file     0\n",
       "cb_person_cred_hist_length    0\n",
       "loan_status                   0\n",
       "dtype: int64"
      ]
     },
     "execution_count": 8,
     "metadata": {},
     "output_type": "execute_result"
    }
   ],
   "source": [
    "#Analyse de valeurs manquantes\n",
    "df_train.isna().sum()#aucune valeure manquante !"
   ]
  },
  {
   "cell_type": "code",
   "execution_count": 9,
   "id": "10bb6912",
   "metadata": {
    "execution": {
     "iopub.execute_input": "2024-10-09T20:45:46.445877Z",
     "iopub.status.busy": "2024-10-09T20:45:46.445422Z",
     "iopub.status.idle": "2024-10-09T20:45:46.506285Z",
     "shell.execute_reply": "2024-10-09T20:45:46.505155Z"
    },
    "jupyter": {
     "source_hidden": true
    },
    "papermill": {
     "duration": 0.090077,
     "end_time": "2024-10-09T20:45:46.508913",
     "exception": false,
     "start_time": "2024-10-09T20:45:46.418836",
     "status": "completed"
    },
    "tags": []
   },
   "outputs": [
    {
     "data": {
      "text/html": [
       "<div>\n",
       "<style scoped>\n",
       "    .dataframe tbody tr th:only-of-type {\n",
       "        vertical-align: middle;\n",
       "    }\n",
       "\n",
       "    .dataframe tbody tr th {\n",
       "        vertical-align: top;\n",
       "    }\n",
       "\n",
       "    .dataframe thead th {\n",
       "        text-align: right;\n",
       "    }\n",
       "</style>\n",
       "<table border=\"1\" class=\"dataframe\">\n",
       "  <thead>\n",
       "    <tr style=\"text-align: right;\">\n",
       "      <th></th>\n",
       "      <th>id</th>\n",
       "      <th>person_age</th>\n",
       "      <th>person_income</th>\n",
       "      <th>person_emp_length</th>\n",
       "      <th>loan_amnt</th>\n",
       "      <th>loan_int_rate</th>\n",
       "      <th>loan_percent_income</th>\n",
       "      <th>cb_person_cred_hist_length</th>\n",
       "      <th>loan_status</th>\n",
       "    </tr>\n",
       "  </thead>\n",
       "  <tbody>\n",
       "    <tr>\n",
       "      <th>count</th>\n",
       "      <td>58645.000000</td>\n",
       "      <td>58645.000000</td>\n",
       "      <td>5.864500e+04</td>\n",
       "      <td>58645.000000</td>\n",
       "      <td>58645.000000</td>\n",
       "      <td>58645.000000</td>\n",
       "      <td>58645.000000</td>\n",
       "      <td>58645.000000</td>\n",
       "      <td>58645.000000</td>\n",
       "    </tr>\n",
       "    <tr>\n",
       "      <th>mean</th>\n",
       "      <td>29322.000000</td>\n",
       "      <td>27.550857</td>\n",
       "      <td>6.404617e+04</td>\n",
       "      <td>4.701015</td>\n",
       "      <td>9217.556518</td>\n",
       "      <td>10.677874</td>\n",
       "      <td>0.159238</td>\n",
       "      <td>5.813556</td>\n",
       "      <td>0.142382</td>\n",
       "    </tr>\n",
       "    <tr>\n",
       "      <th>std</th>\n",
       "      <td>16929.497605</td>\n",
       "      <td>6.033216</td>\n",
       "      <td>3.793111e+04</td>\n",
       "      <td>3.959784</td>\n",
       "      <td>5563.807384</td>\n",
       "      <td>3.034697</td>\n",
       "      <td>0.091692</td>\n",
       "      <td>4.029196</td>\n",
       "      <td>0.349445</td>\n",
       "    </tr>\n",
       "    <tr>\n",
       "      <th>min</th>\n",
       "      <td>0.000000</td>\n",
       "      <td>20.000000</td>\n",
       "      <td>4.200000e+03</td>\n",
       "      <td>0.000000</td>\n",
       "      <td>500.000000</td>\n",
       "      <td>5.420000</td>\n",
       "      <td>0.000000</td>\n",
       "      <td>2.000000</td>\n",
       "      <td>0.000000</td>\n",
       "    </tr>\n",
       "    <tr>\n",
       "      <th>25%</th>\n",
       "      <td>14661.000000</td>\n",
       "      <td>23.000000</td>\n",
       "      <td>4.200000e+04</td>\n",
       "      <td>2.000000</td>\n",
       "      <td>5000.000000</td>\n",
       "      <td>7.880000</td>\n",
       "      <td>0.090000</td>\n",
       "      <td>3.000000</td>\n",
       "      <td>0.000000</td>\n",
       "    </tr>\n",
       "    <tr>\n",
       "      <th>50%</th>\n",
       "      <td>29322.000000</td>\n",
       "      <td>26.000000</td>\n",
       "      <td>5.800000e+04</td>\n",
       "      <td>4.000000</td>\n",
       "      <td>8000.000000</td>\n",
       "      <td>10.750000</td>\n",
       "      <td>0.140000</td>\n",
       "      <td>4.000000</td>\n",
       "      <td>0.000000</td>\n",
       "    </tr>\n",
       "    <tr>\n",
       "      <th>75%</th>\n",
       "      <td>43983.000000</td>\n",
       "      <td>30.000000</td>\n",
       "      <td>7.560000e+04</td>\n",
       "      <td>7.000000</td>\n",
       "      <td>12000.000000</td>\n",
       "      <td>12.990000</td>\n",
       "      <td>0.210000</td>\n",
       "      <td>8.000000</td>\n",
       "      <td>0.000000</td>\n",
       "    </tr>\n",
       "    <tr>\n",
       "      <th>max</th>\n",
       "      <td>58644.000000</td>\n",
       "      <td>123.000000</td>\n",
       "      <td>1.900000e+06</td>\n",
       "      <td>123.000000</td>\n",
       "      <td>35000.000000</td>\n",
       "      <td>23.220000</td>\n",
       "      <td>0.830000</td>\n",
       "      <td>30.000000</td>\n",
       "      <td>1.000000</td>\n",
       "    </tr>\n",
       "  </tbody>\n",
       "</table>\n",
       "</div>"
      ],
      "text/plain": [
       "                 id    person_age  person_income  person_emp_length  \\\n",
       "count  58645.000000  58645.000000   5.864500e+04       58645.000000   \n",
       "mean   29322.000000     27.550857   6.404617e+04           4.701015   \n",
       "std    16929.497605      6.033216   3.793111e+04           3.959784   \n",
       "min        0.000000     20.000000   4.200000e+03           0.000000   \n",
       "25%    14661.000000     23.000000   4.200000e+04           2.000000   \n",
       "50%    29322.000000     26.000000   5.800000e+04           4.000000   \n",
       "75%    43983.000000     30.000000   7.560000e+04           7.000000   \n",
       "max    58644.000000    123.000000   1.900000e+06         123.000000   \n",
       "\n",
       "          loan_amnt  loan_int_rate  loan_percent_income  \\\n",
       "count  58645.000000   58645.000000         58645.000000   \n",
       "mean    9217.556518      10.677874             0.159238   \n",
       "std     5563.807384       3.034697             0.091692   \n",
       "min      500.000000       5.420000             0.000000   \n",
       "25%     5000.000000       7.880000             0.090000   \n",
       "50%     8000.000000      10.750000             0.140000   \n",
       "75%    12000.000000      12.990000             0.210000   \n",
       "max    35000.000000      23.220000             0.830000   \n",
       "\n",
       "       cb_person_cred_hist_length   loan_status  \n",
       "count                58645.000000  58645.000000  \n",
       "mean                     5.813556      0.142382  \n",
       "std                      4.029196      0.349445  \n",
       "min                      2.000000      0.000000  \n",
       "25%                      3.000000      0.000000  \n",
       "50%                      4.000000      0.000000  \n",
       "75%                      8.000000      0.000000  \n",
       "max                     30.000000      1.000000  "
      ]
     },
     "execution_count": 9,
     "metadata": {},
     "output_type": "execute_result"
    }
   ],
   "source": [
    "#Analyse des statistiques descriptives :\n",
    "df_train.describe()"
   ]
  },
  {
   "cell_type": "markdown",
   "id": "77352263",
   "metadata": {
    "papermill": {
     "duration": 0.025772,
     "end_time": "2024-10-09T20:45:46.561080",
     "exception": false,
     "start_time": "2024-10-09T20:45:46.535308",
     "status": "completed"
    },
    "tags": []
   },
   "source": [
    "## DataViz"
   ]
  },
  {
   "cell_type": "markdown",
   "id": "6f8a3092",
   "metadata": {
    "papermill": {
     "duration": 0.024944,
     "end_time": "2024-10-09T20:45:46.611433",
     "exception": false,
     "start_time": "2024-10-09T20:45:46.586489",
     "status": "completed"
    },
    "tags": []
   },
   "source": [
    "1. Visualisation de la distribution de la cible (loan_status) :"
   ]
  },
  {
   "cell_type": "code",
   "execution_count": 10,
   "id": "5b7f08a1",
   "metadata": {
    "execution": {
     "iopub.execute_input": "2024-10-09T20:45:46.664642Z",
     "iopub.status.busy": "2024-10-09T20:45:46.663569Z",
     "iopub.status.idle": "2024-10-09T20:45:46.903209Z",
     "shell.execute_reply": "2024-10-09T20:45:46.901883Z"
    },
    "papermill": {
     "duration": 0.269109,
     "end_time": "2024-10-09T20:45:46.905717",
     "exception": false,
     "start_time": "2024-10-09T20:45:46.636608",
     "status": "completed"
    },
    "tags": []
   },
   "outputs": [
    {
     "data": {
      "image/png": "[encoded data removed]",
      "text/plain": [
       "<Figure size 800x500 with 1 Axes>"
      ]
     },
     "metadata": {},
     "output_type": "display_data"
    }
   ],
   "source": [
    "plt.figure(figsize=(8, 5))\n",
    "sns.countplot(data=df_train, x='loan_status')\n",
    "plt.title('Distribution de la variable cible (loan_status)')\n",
    "plt.xlabel('Loan Status (0: Non-Approved, 1: Approved)')\n",
    "plt.ylabel('Count')\n",
    "plt.show()"
   ]
  },
  {
   "cell_type": "markdown",
   "id": "8fb51248",
   "metadata": {
    "papermill": {
     "duration": 0.033472,
     "end_time": "2024-10-09T20:45:46.967166",
     "exception": false,
     "start_time": "2024-10-09T20:45:46.933694",
     "status": "completed"
    },
    "tags": []
   },
   "source": [
    "2. Vérification des corrélations entre les variables numériques :"
   ]
  },
  {
   "cell_type": "code",
   "execution_count": 11,
   "id": "c9ab67be",
   "metadata": {
    "execution": {
     "iopub.execute_input": "2024-10-09T20:45:47.027326Z",
     "iopub.status.busy": "2024-10-09T20:45:47.026895Z",
     "iopub.status.idle": "2024-10-09T20:45:47.732767Z",
     "shell.execute_reply": "2024-10-09T20:45:47.731587Z"
    },
    "papermill": {
     "duration": 0.736766,
     "end_time": "2024-10-09T20:45:47.736264",
     "exception": false,
     "start_time": "2024-10-09T20:45:46.999498",
     "status": "completed"
    },
    "tags": []
   },
   "outputs": [
    {
     "data": {
      "image/png": "[encoded data removed]",
      "text/plain": [
       "<Figure size 1000x600 with 2 Axes>"
      ]
     },
     "metadata": {},
     "output_type": "display_data"
    }
   ],
   "source": [
    "# Sélectionner les colonnes numériques uniquement\n",
    "numerical_cols = df_train.select_dtypes(include=['int64', 'float64'])\n",
    "\n",
    "# Calculer la matrice de corrélation\n",
    "corr_matrix = numerical_cols.corr()\n",
    "\n",
    "# Afficher la matrice de corrélation\n",
    "plt.figure(figsize=(10, 6))\n",
    "sns.heatmap(corr_matrix, annot=True, cmap='coolwarm', fmt='.2f')\n",
    "plt.title('Matrice de corrélation entre les variables numériques')\n",
    "plt.show()\n",
    "\n"
   ]
  },
  {
   "cell_type": "markdown",
   "id": "55a1105a",
   "metadata": {
    "papermill": {
     "duration": 0.027559,
     "end_time": "2024-10-09T20:45:47.792070",
     "exception": false,
     "start_time": "2024-10-09T20:45:47.764511",
     "status": "completed"
    },
    "tags": []
   },
   "source": [
    "Étape 2 : Visualisation des Relations"
   ]
  },
  {
   "cell_type": "markdown",
   "id": "22d27b61",
   "metadata": {
    "papermill": {
     "duration": 0.028827,
     "end_time": "2024-10-09T20:45:47.850184",
     "exception": false,
     "start_time": "2024-10-09T20:45:47.821357",
     "status": "completed"
    },
    "tags": []
   },
   "source": [
    "3) Visualisation des relations entre les caractéristiques et la cible :"
   ]
  },
  {
   "cell_type": "markdown",
   "id": "aca5bd89",
   "metadata": {
    "papermill": {
     "duration": 0.027588,
     "end_time": "2024-10-09T20:45:47.906895",
     "exception": false,
     "start_time": "2024-10-09T20:45:47.879307",
     "status": "completed"
    },
    "tags": []
   },
   "source": [
    "Age et Loan Status :"
   ]
  },
  {
   "cell_type": "code",
   "execution_count": 12,
   "id": "9a749b86",
   "metadata": {
    "execution": {
     "iopub.execute_input": "2024-10-09T20:45:47.964948Z",
     "iopub.status.busy": "2024-10-09T20:45:47.963917Z",
     "iopub.status.idle": "2024-10-09T20:45:48.194052Z",
     "shell.execute_reply": "2024-10-09T20:45:48.192783Z"
    },
    "papermill": {
     "duration": 0.262415,
     "end_time": "2024-10-09T20:45:48.196826",
     "exception": false,
     "start_time": "2024-10-09T20:45:47.934411",
     "status": "completed"
    },
    "tags": []
   },
   "outputs": [
    {
     "data": {
      "image/png": "[encoded data removed]",
      "text/plain": [
       "<Figure size 800x500 with 1 Axes>"
      ]
     },
     "metadata": {},
     "output_type": "display_data"
    }
   ],
   "source": [
    "plt.figure(figsize=(8, 5))\n",
    "sns.boxplot(data=df_train, x='loan_status', y='person_age')\n",
    "plt.title('Âge des demandeurs selon le statut du prêt')\n",
    "plt.xlabel('Loan Status')\n",
    "plt.ylabel('Age')\n",
    "plt.xticks([0, 1], ['Non-Approved', 'Approved'])\n",
    "plt.show()\n"
   ]
  },
  {
   "cell_type": "markdown",
   "id": "7becf08b",
   "metadata": {
    "papermill": {
     "duration": 0.027968,
     "end_time": "2024-10-09T20:45:48.253461",
     "exception": false,
     "start_time": "2024-10-09T20:45:48.225493",
     "status": "completed"
    },
    "tags": []
   },
   "source": [
    "Revenu et Loan Status :"
   ]
  },
  {
   "cell_type": "code",
   "execution_count": 13,
   "id": "591ed49c",
   "metadata": {
    "execution": {
     "iopub.execute_input": "2024-10-09T20:45:48.314096Z",
     "iopub.status.busy": "2024-10-09T20:45:48.313631Z",
     "iopub.status.idle": "2024-10-09T20:45:48.558722Z",
     "shell.execute_reply": "2024-10-09T20:45:48.557434Z"
    },
    "papermill": {
     "duration": 0.278212,
     "end_time": "2024-10-09T20:45:48.561453",
     "exception": false,
     "start_time": "2024-10-09T20:45:48.283241",
     "status": "completed"
    },
    "tags": []
   },
   "outputs": [
    {
     "data": {
      "image/png": "[encoded data removed]",
      "text/plain": [
       "<Figure size 800x500 with 1 Axes>"
      ]
     },
     "metadata": {},
     "output_type": "display_data"
    }
   ],
   "source": [
    "plt.figure(figsize=(8, 5))\n",
    "sns.boxplot(data=df_train, x='loan_status', y='person_income')\n",
    "plt.title('Revenu des demandeurs selon le statut du prêt')\n",
    "plt.xlabel('Loan Status')\n",
    "plt.ylabel('Income')\n",
    "plt.xticks([0, 1], ['Non-Approved', 'Approved'])\n",
    "plt.show()\n"
   ]
  },
  {
   "cell_type": "markdown",
   "id": "a59931f8",
   "metadata": {
    "papermill": {
     "duration": 0.028423,
     "end_time": "2024-10-09T20:45:48.618817",
     "exception": false,
     "start_time": "2024-10-09T20:45:48.590394",
     "status": "completed"
    },
    "tags": []
   },
   "source": [
    "4) Visualisation des catégories :"
   ]
  },
  {
   "cell_type": "code",
   "execution_count": 14,
   "id": "ab7f037a",
   "metadata": {
    "execution": {
     "iopub.execute_input": "2024-10-09T20:45:48.678561Z",
     "iopub.status.busy": "2024-10-09T20:45:48.678150Z",
     "iopub.status.idle": "2024-10-09T20:45:49.012260Z",
     "shell.execute_reply": "2024-10-09T20:45:49.010955Z"
    },
    "papermill": {
     "duration": 0.367375,
     "end_time": "2024-10-09T20:45:49.014882",
     "exception": false,
     "start_time": "2024-10-09T20:45:48.647507",
     "status": "completed"
    },
    "tags": []
   },
   "outputs": [
    {
     "data": {
      "image/png": "[encoded data removed]",
      "text/plain": [
       "<Figure size 1200x600 with 1 Axes>"
      ]
     },
     "metadata": {},
     "output_type": "display_data"
    }
   ],
   "source": [
    "plt.figure(figsize=(12, 6))\n",
    "sns.countplot(data=df_train, x='person_home_ownership', hue='loan_status')\n",
    "plt.title('Propriétés de logement selon le statut du prêt')\n",
    "plt.xlabel('Home Ownership')\n",
    "plt.ylabel('Count')\n",
    "plt.legend(title='Loan Status', loc='upper right', labels=['Non-Approved', 'Approved'])\n",
    "plt.show()\n"
   ]
  },
  {
   "cell_type": "code",
   "execution_count": 15,
   "id": "97ebbc49",
   "metadata": {
    "execution": {
     "iopub.execute_input": "2024-10-09T20:45:49.076393Z",
     "iopub.status.busy": "2024-10-09T20:45:49.075959Z",
     "iopub.status.idle": "2024-10-09T20:45:49.282348Z",
     "shell.execute_reply": "2024-10-09T20:45:49.280854Z"
    },
    "papermill": {
     "duration": 0.240574,
     "end_time": "2024-10-09T20:45:49.285153",
     "exception": false,
     "start_time": "2024-10-09T20:45:49.044579",
     "status": "completed"
    },
    "tags": []
   },
   "outputs": [
    {
     "data": {
      "image/png": "[encoded data removed]",
      "text/plain": [
       "<Figure size 640x480 with 1 Axes>"
      ]
     },
     "metadata": {},
     "output_type": "display_data"
    }
   ],
   "source": [
    "\n",
    "sns.boxplot(df_train['person_income'])\n",
    "plt.title('Distribution du revenu')\n",
    "plt.show()\n"
   ]
  },
  {
   "cell_type": "markdown",
   "id": "37483eba",
   "metadata": {
    "papermill": {
     "duration": 0.030268,
     "end_time": "2024-10-09T20:45:49.345677",
     "exception": false,
     "start_time": "2024-10-09T20:45:49.315409",
     "status": "completed"
    },
    "tags": []
   },
   "source": [
    "Visualisation des distributions avec KDE (Estimation de Densité Noyau) :"
   ]
  },
  {
   "cell_type": "code",
   "execution_count": 16,
   "id": "b35bd625",
   "metadata": {
    "execution": {
     "iopub.execute_input": "2024-10-09T20:45:49.408227Z",
     "iopub.status.busy": "2024-10-09T20:45:49.407697Z",
     "iopub.status.idle": "2024-10-09T20:45:50.252862Z",
     "shell.execute_reply": "2024-10-09T20:45:50.251594Z"
    },
    "papermill": {
     "duration": 0.879869,
     "end_time": "2024-10-09T20:45:50.255766",
     "exception": false,
     "start_time": "2024-10-09T20:45:49.375897",
     "status": "completed"
    },
    "tags": []
   },
   "outputs": [
    {
     "data": {
      "image/png": "[encoded data removed]",
      "text/plain": [
       "<Figure size 640x480 with 1 Axes>"
      ]
     },
     "metadata": {},
     "output_type": "display_data"
    }
   ],
   "source": [
    "sns.kdeplot(df_train, x='person_income',hue='loan_status')\n",
    "plt.title('Distribution du revenu par statut du prêt')\n",
    "plt.show()"
   ]
  },
  {
   "cell_type": "markdown",
   "id": "96f25050",
   "metadata": {
    "papermill": {
     "duration": 0.030525,
     "end_time": "2024-10-09T20:45:50.317260",
     "exception": false,
     "start_time": "2024-10-09T20:45:50.286735",
     "status": "completed"
    },
    "tags": []
   },
   "source": [
    "Statistiques sur les outliers : \n",
    "- Calculer le nombre d'observations qui sont considérées comme des outliers. Cela peut être fait en utilisant l'écart interquartile (IQR) pour définir des seuils."
   ]
  },
  {
   "cell_type": "code",
   "execution_count": 17,
   "id": "9a699154",
   "metadata": {
    "execution": {
     "iopub.execute_input": "2024-10-09T20:45:50.381640Z",
     "iopub.status.busy": "2024-10-09T20:45:50.381207Z",
     "iopub.status.idle": "2024-10-09T20:45:50.396556Z",
     "shell.execute_reply": "2024-10-09T20:45:50.395251Z"
    },
    "papermill": {
     "duration": 0.050825,
     "end_time": "2024-10-09T20:45:50.399104",
     "exception": false,
     "start_time": "2024-10-09T20:45:50.348279",
     "status": "completed"
    },
    "tags": []
   },
   "outputs": [
    {
     "name": "stdout",
     "output_type": "stream",
     "text": [
      "Nombre d'outliers dans person_income : 2411\n"
     ]
    }
   ],
   "source": [
    "Q1 = df_train['person_income'].quantile(0.25)\n",
    "Q3 = df_train['person_income'].quantile(0.75)\n",
    "IQR = Q3 - Q1\n",
    "\n",
    "outliers = df_train[(df_train['person_income'] < (Q1 - 1.5 * IQR)) | (df_train['person_income'] > (Q3 + 1.5 * IQR))]\n",
    "print(f\"Nombre d'outliers dans person_income : {len(outliers)}\")\n"
   ]
  },
  {
   "cell_type": "code",
   "execution_count": 18,
   "id": "86ca69f5",
   "metadata": {
    "execution": {
     "iopub.execute_input": "2024-10-09T20:45:50.463660Z",
     "iopub.status.busy": "2024-10-09T20:45:50.463162Z",
     "iopub.status.idle": "2024-10-09T20:45:50.715738Z",
     "shell.execute_reply": "2024-10-09T20:45:50.714475Z"
    },
    "papermill": {
     "duration": 0.287446,
     "end_time": "2024-10-09T20:45:50.718430",
     "exception": false,
     "start_time": "2024-10-09T20:45:50.430984",
     "status": "completed"
    },
    "tags": []
   },
   "outputs": [
    {
     "data": {
      "image/png": "[encoded data removed]",
      "text/plain": [
       "<Figure size 640x480 with 1 Axes>"
      ]
     },
     "metadata": {},
     "output_type": "display_data"
    }
   ],
   "source": [
    "sns.boxplot(df_train[df_train['person_income'] < (Q3 + 1.5 * IQR)]['person_income'])\n",
    "plt.title('Distribution du revenu sans outliers')\n",
    "plt.show()\n"
   ]
  },
  {
   "cell_type": "markdown",
   "id": "8720ec6c",
   "metadata": {
    "papermill": {
     "duration": 0.031223,
     "end_time": "2024-10-09T20:45:50.781291",
     "exception": false,
     "start_time": "2024-10-09T20:45:50.750068",
     "status": "completed"
    },
    "tags": []
   },
   "source": [
    "Distribution log-transformée :\n",
    "- Si les valeurs extrêmes sont légitimes et qu'il est nécessaire de travailler avec ces données, appliquer une transformation logarithmique peut aider à normaliser la distribution."
   ]
  },
  {
   "cell_type": "markdown",
   "id": "15ed2ec0",
   "metadata": {
    "papermill": {
     "duration": 0.030672,
     "end_time": "2024-10-09T20:45:50.843681",
     "exception": false,
     "start_time": "2024-10-09T20:45:50.813009",
     "status": "completed"
    },
    "tags": []
   },
   "source": [
    "Résumé des Étapes d'EDA :\n",
    "- Visualisation de la distribution de la variable cible pour voir la balance des classes.\n",
    "- Analyse descriptive pour comprendre les caractéristiques des données.\n",
    "- Corrélations pour identifier les relations entre les variables.\n",
    "- Visualisation des relations entre les caractéristiques et la cible pour mieux comprendre l'impact de chaque variable."
   ]
  },
  {
   "cell_type": "markdown",
   "id": "8ab5f60d",
   "metadata": {
    "papermill": {
     "duration": 0.030863,
     "end_time": "2024-10-09T20:45:50.906360",
     "exception": false,
     "start_time": "2024-10-09T20:45:50.875497",
     "status": "completed"
    },
    "tags": []
   },
   "source": [
    "# Preprocessing de données "
   ]
  },
  {
   "cell_type": "markdown",
   "id": "00940490",
   "metadata": {
    "papermill": {
     "duration": 0.030666,
     "end_time": "2024-10-09T20:45:50.968017",
     "exception": false,
     "start_time": "2024-10-09T20:45:50.937351",
     "status": "completed"
    },
    "tags": []
   },
   "source": [
    "Encodage des variables df_train"
   ]
  },
  {
   "cell_type": "code",
   "execution_count": 19,
   "id": "8f0aabc1",
   "metadata": {
    "execution": {
     "iopub.execute_input": "2024-10-09T20:45:51.035825Z",
     "iopub.status.busy": "2024-10-09T20:45:51.035364Z",
     "iopub.status.idle": "2024-10-09T20:45:51.113954Z",
     "shell.execute_reply": "2024-10-09T20:45:51.112726Z"
    },
    "papermill": {
     "duration": 0.11482,
     "end_time": "2024-10-09T20:45:51.116838",
     "exception": false,
     "start_time": "2024-10-09T20:45:51.002018",
     "status": "completed"
    },
    "tags": []
   },
   "outputs": [],
   "source": [
    "label_encoder = LabelEncoder()\n",
    "df_train['person_home_ownership'] = label_encoder.fit_transform(df_train['person_home_ownership'])\n",
    "df_train['loan_intent'] = label_encoder.fit_transform(df_train['loan_intent'])\n",
    "df_train['loan_grade'] = label_encoder.fit_transform(df_train['loan_grade'])\n",
    "df_train['cb_person_default_on_file'] = label_encoder.fit_transform(df_train['cb_person_default_on_file'])"
   ]
  },
  {
   "cell_type": "code",
   "execution_count": 20,
   "id": "ed3e52b6",
   "metadata": {
    "execution": {
     "iopub.execute_input": "2024-10-09T20:45:51.182713Z",
     "iopub.status.busy": "2024-10-09T20:45:51.182250Z",
     "iopub.status.idle": "2024-10-09T20:45:51.195600Z",
     "shell.execute_reply": "2024-10-09T20:45:51.194375Z"
    },
    "papermill": {
     "duration": 0.049843,
     "end_time": "2024-10-09T20:45:51.198362",
     "exception": false,
     "start_time": "2024-10-09T20:45:51.148519",
     "status": "completed"
    },
    "tags": []
   },
   "outputs": [
    {
     "name": "stdout",
     "output_type": "stream",
     "text": [
      "<class 'pandas.core.frame.DataFrame'>\n",
      "RangeIndex: 58645 entries, 0 to 58644\n",
      "Data columns (total 13 columns):\n",
      " #   Column                      Non-Null Count  Dtype  \n",
      "---  ------                      --------------  -----  \n",
      " 0   id                          58645 non-null  int64  \n",
      " 1   person_age                  58645 non-null  int64  \n",
      " 2   person_income               58645 non-null  int64  \n",
      " 3   person_home_ownership       58645 non-null  int32  \n",
      " 4   person_emp_length           58645 non-null  float64\n",
      " 5   loan_intent                 58645 non-null  int32  \n",
      " 6   loan_grade                  58645 non-null  int32  \n",
      " 7   loan_amnt                   58645 non-null  int64  \n",
      " 8   loan_int_rate               58645 non-null  float64\n",
      " 9   loan_percent_income         58645 non-null  float64\n",
      " 10  cb_person_default_on_file   58645 non-null  int32  \n",
      " 11  cb_person_cred_hist_length  58645 non-null  int64  \n",
      " 12  loan_status                 58645 non-null  int64  \n",
      "dtypes: float64(3), int32(4), int64(6)\n",
      "memory usage: 4.9 MB\n"
     ]
    }
   ],
   "source": [
    "df_train.info()\n",
    "\n"
   ]
  },
  {
   "cell_type": "markdown",
   "id": "6f746171",
   "metadata": {
    "papermill": {
     "duration": 0.031163,
     "end_time": "2024-10-09T20:45:51.261389",
     "exception": false,
     "start_time": "2024-10-09T20:45:51.230226",
     "status": "completed"
    },
    "tags": []
   },
   "source": [
    "Encodage du dataset df_test"
   ]
  },
  {
   "cell_type": "code",
   "execution_count": 21,
   "id": "95a089f6",
   "metadata": {
    "execution": {
     "iopub.execute_input": "2024-10-09T20:45:51.327257Z",
     "iopub.status.busy": "2024-10-09T20:45:51.326678Z",
     "iopub.status.idle": "2024-10-09T20:45:51.381737Z",
     "shell.execute_reply": "2024-10-09T20:45:51.380440Z"
    },
    "papermill": {
     "duration": 0.092098,
     "end_time": "2024-10-09T20:45:51.384805",
     "exception": false,
     "start_time": "2024-10-09T20:45:51.292707",
     "status": "completed"
    },
    "tags": []
   },
   "outputs": [],
   "source": [
    "df_test['person_home_ownership'] = label_encoder.fit_transform(df_test['person_home_ownership'])\n",
    "df_test['loan_intent'] = label_encoder.fit_transform(df_test['loan_intent'])\n",
    "df_test['loan_grade'] = label_encoder.fit_transform(df_test['loan_grade'])\n",
    "df_test['cb_person_default_on_file'] = label_encoder.fit_transform(df_test['cb_person_default_on_file'])\n"
   ]
  },
  {
   "cell_type": "code",
   "execution_count": 22,
   "id": "b5bc6eae",
   "metadata": {
    "execution": {
     "iopub.execute_input": "2024-10-09T20:45:51.451222Z",
     "iopub.status.busy": "2024-10-09T20:45:51.450631Z",
     "iopub.status.idle": "2024-10-09T20:45:51.465501Z",
     "shell.execute_reply": "2024-10-09T20:45:51.463632Z"
    },
    "papermill": {
     "duration": 0.051433,
     "end_time": "2024-10-09T20:45:51.468271",
     "exception": false,
     "start_time": "2024-10-09T20:45:51.416838",
     "status": "completed"
    },
    "tags": []
   },
   "outputs": [
    {
     "name": "stdout",
     "output_type": "stream",
     "text": [
      "<class 'pandas.core.frame.DataFrame'>\n",
      "RangeIndex: 39098 entries, 0 to 39097\n",
      "Data columns (total 12 columns):\n",
      " #   Column                      Non-Null Count  Dtype  \n",
      "---  ------                      --------------  -----  \n",
      " 0   id                          39098 non-null  int64  \n",
      " 1   person_age                  39098 non-null  int64  \n",
      " 2   person_income               39098 non-null  int64  \n",
      " 3   person_home_ownership       39098 non-null  int32  \n",
      " 4   person_emp_length           39098 non-null  float64\n",
      " 5   loan_intent                 39098 non-null  int32  \n",
      " 6   loan_grade                  39098 non-null  int32  \n",
      " 7   loan_amnt                   39098 non-null  int64  \n",
      " 8   loan_int_rate               39098 non-null  float64\n",
      " 9   loan_percent_income         39098 non-null  float64\n",
      " 10  cb_person_default_on_file   39098 non-null  int32  \n",
      " 11  cb_person_cred_hist_length  39098 non-null  int64  \n",
      "dtypes: float64(3), int32(4), int64(5)\n",
      "memory usage: 3.0 MB\n"
     ]
    }
   ],
   "source": [
    "df_test.info()"
   ]
  },
  {
   "cell_type": "code",
   "execution_count": 23,
   "id": "18f5a4c2",
   "metadata": {
    "execution": {
     "iopub.execute_input": "2024-10-09T20:45:51.533891Z",
     "iopub.status.busy": "2024-10-09T20:45:51.533410Z",
     "iopub.status.idle": "2024-10-09T20:45:51.544932Z",
     "shell.execute_reply": "2024-10-09T20:45:51.543553Z"
    },
    "papermill": {
     "duration": 0.04713,
     "end_time": "2024-10-09T20:45:51.547418",
     "exception": false,
     "start_time": "2024-10-09T20:45:51.500288",
     "status": "completed"
    },
    "tags": []
   },
   "outputs": [
    {
     "name": "stdout",
     "output_type": "stream",
     "text": [
      "Les colonnes correspondent.\n"
     ]
    }
   ],
   "source": [
    "# Vérifier si les colonnes de df_train (sans la cible) et df_test correspondent\n",
    "train_columns = df_train.drop(columns=['loan_status']).columns\n",
    "test_columns = df_test.columns\n",
    "\n",
    "# Vérification des différences\n",
    "if set(train_columns) != set(test_columns):\n",
    "    print(\"Les colonnes entre df_train et df_test ne correspondent pas.\")\n",
    "    print(\"Colonnes manquantes dans df_test :\", set(train_columns) - set(test_columns))\n",
    "    print(\"Colonnes supplémentaires dans df_test :\", set(test_columns) - set(train_columns))\n",
    "else:\n",
    "    print(\"Les colonnes correspondent.\")\n"
   ]
  },
  {
   "cell_type": "markdown",
   "id": "87191de5",
   "metadata": {
    "papermill": {
     "duration": 0.031246,
     "end_time": "2024-10-09T20:45:51.611269",
     "exception": false,
     "start_time": "2024-10-09T20:45:51.580023",
     "status": "completed"
    },
    "tags": []
   },
   "source": [
    "5. Séparation des données en train/test (Validation) :\n",
    "\n",
    "Avant d'entraîner ton modèle, il est nécessaire de séparer notre dataset en données d'entraînement et de test pour éviter le surapprentissage et tester la généralisation du modèle."
   ]
  },
  {
   "cell_type": "code",
   "execution_count": 24,
   "id": "afca6490",
   "metadata": {
    "execution": {
     "iopub.execute_input": "2024-10-09T20:45:51.676870Z",
     "iopub.status.busy": "2024-10-09T20:45:51.675652Z",
     "iopub.status.idle": "2024-10-09T20:45:51.702608Z",
     "shell.execute_reply": "2024-10-09T20:45:51.701322Z"
    },
    "papermill": {
     "duration": 0.062682,
     "end_time": "2024-10-09T20:45:51.705531",
     "exception": false,
     "start_time": "2024-10-09T20:45:51.642849",
     "status": "completed"
    },
    "tags": []
   },
   "outputs": [],
   "source": [
    "from sklearn.model_selection import train_test_split\n",
    "\n",
    "# Séparation des données (80% train, 20% test)\n",
    "X = df_train.drop('loan_status', axis=1)\n",
    "y = df_train['loan_status']\n",
    "\n",
    "X_train, X_test, y_train, y_test = train_test_split(X, y, test_size=0.2, random_state=42)\n"
   ]
  },
  {
   "cell_type": "markdown",
   "id": "f5e93a3f",
   "metadata": {
    "papermill": {
     "duration": 0.031834,
     "end_time": "2024-10-09T20:45:51.770504",
     "exception": false,
     "start_time": "2024-10-09T20:45:51.738670",
     "status": "completed"
    },
    "tags": []
   },
   "source": [
    "# Modélisation "
   ]
  },
  {
   "cell_type": "markdown",
   "id": "e3eaa538",
   "metadata": {
    "papermill": {
     "duration": 0.031415,
     "end_time": "2024-10-09T20:45:51.833986",
     "exception": false,
     "start_time": "2024-10-09T20:45:51.802571",
     "status": "completed"
    },
    "tags": []
   },
   "source": [
    "1. Choix du modèle :\n",
    "\n",
    "Plusieurs modèles peuvent être testés, par exemple :\n",
    "- Régression Logistique\n",
    "- Arbres de décision\n",
    "- Random Forest\n",
    "- Gradient Boosting\n",
    "- XGBoost\n",
    "- LightGBM"
   ]
  },
  {
   "cell_type": "markdown",
   "id": "7507dc68",
   "metadata": {
    "papermill": {
     "duration": 0.031532,
     "end_time": "2024-10-09T20:45:51.897955",
     "exception": false,
     "start_time": "2024-10-09T20:45:51.866423",
     "status": "completed"
    },
    "tags": []
   },
   "source": [
    "1. model Logistic Regression"
   ]
  },
  {
   "cell_type": "code",
   "execution_count": 25,
   "id": "be9c2db6",
   "metadata": {
    "execution": {
     "iopub.execute_input": "2024-10-09T20:45:51.964744Z",
     "iopub.status.busy": "2024-10-09T20:45:51.963498Z",
     "iopub.status.idle": "2024-10-09T20:45:55.994073Z",
     "shell.execute_reply": "2024-10-09T20:45:55.992440Z"
    },
    "papermill": {
     "duration": 4.068547,
     "end_time": "2024-10-09T20:45:55.998700",
     "exception": false,
     "start_time": "2024-10-09T20:45:51.930153",
     "status": "completed"
    },
    "tags": []
   },
   "outputs": [
    {
     "name": "stderr",
     "output_type": "stream",
     "text": [
      "c:\\Users\\yacin\\AppData\\Local\\Programs\\Python\\Python310\\lib\\site-packages\\sklearn\\linear_model\\_logistic.py:469: ConvergenceWarning: lbfgs failed to converge (status=1):\n",
      "STOP: TOTAL NO. of ITERATIONS REACHED LIMIT.\n",
      "\n",
      "Increase the number of iterations (max_iter) or scale the data as shown in:\n",
      "    https://scikit-learn.org/stable/modules/preprocessing.html\n",
      "Please also refer to the documentation for alternative solver options:\n",
      "    https://scikit-learn.org/stable/modules/linear_model.html#logistic-regression\n",
      "  n_iter_i = _check_optimize_result(\n",
      "c:\\Users\\yacin\\AppData\\Local\\Programs\\Python\\Python310\\lib\\site-packages\\sklearn\\linear_model\\_logistic.py:469: ConvergenceWarning: lbfgs failed to converge (status=1):\n",
      "STOP: TOTAL NO. of ITERATIONS REACHED LIMIT.\n",
      "\n",
      "Increase the number of iterations (max_iter) or scale the data as shown in:\n",
      "    https://scikit-learn.org/stable/modules/preprocessing.html\n",
      "Please also refer to the documentation for alternative solver options:\n",
      "    https://scikit-learn.org/stable/modules/linear_model.html#logistic-regression\n",
      "  n_iter_i = _check_optimize_result(\n",
      "c:\\Users\\yacin\\AppData\\Local\\Programs\\Python\\Python310\\lib\\site-packages\\sklearn\\linear_model\\_logistic.py:469: ConvergenceWarning: lbfgs failed to converge (status=1):\n",
      "STOP: TOTAL NO. of ITERATIONS REACHED LIMIT.\n",
      "\n",
      "Increase the number of iterations (max_iter) or scale the data as shown in:\n",
      "    https://scikit-learn.org/stable/modules/preprocessing.html\n",
      "Please also refer to the documentation for alternative solver options:\n",
      "    https://scikit-learn.org/stable/modules/linear_model.html#logistic-regression\n",
      "  n_iter_i = _check_optimize_result(\n",
      "c:\\Users\\yacin\\AppData\\Local\\Programs\\Python\\Python310\\lib\\site-packages\\sklearn\\linear_model\\_logistic.py:469: ConvergenceWarning: lbfgs failed to converge (status=1):\n",
      "STOP: TOTAL NO. of ITERATIONS REACHED LIMIT.\n",
      "\n",
      "Increase the number of iterations (max_iter) or scale the data as shown in:\n",
      "    https://scikit-learn.org/stable/modules/preprocessing.html\n",
      "Please also refer to the documentation for alternative solver options:\n",
      "    https://scikit-learn.org/stable/modules/linear_model.html#logistic-regression\n",
      "  n_iter_i = _check_optimize_result(\n",
      "c:\\Users\\yacin\\AppData\\Local\\Programs\\Python\\Python310\\lib\\site-packages\\sklearn\\linear_model\\_logistic.py:469: ConvergenceWarning: lbfgs failed to converge (status=1):\n",
      "STOP: TOTAL NO. of ITERATIONS REACHED LIMIT.\n",
      "\n",
      "Increase the number of iterations (max_iter) or scale the data as shown in:\n",
      "    https://scikit-learn.org/stable/modules/preprocessing.html\n",
      "Please also refer to the documentation for alternative solver options:\n",
      "    https://scikit-learn.org/stable/modules/linear_model.html#logistic-regression\n",
      "  n_iter_i = _check_optimize_result(\n",
      "c:\\Users\\yacin\\AppData\\Local\\Programs\\Python\\Python310\\lib\\site-packages\\sklearn\\linear_model\\_logistic.py:469: ConvergenceWarning: lbfgs failed to converge (status=1):\n",
      "STOP: TOTAL NO. of ITERATIONS REACHED LIMIT.\n",
      "\n",
      "Increase the number of iterations (max_iter) or scale the data as shown in:\n",
      "    https://scikit-learn.org/stable/modules/preprocessing.html\n",
      "Please also refer to the documentation for alternative solver options:\n",
      "    https://scikit-learn.org/stable/modules/linear_model.html#logistic-regression\n",
      "  n_iter_i = _check_optimize_result(\n",
      "c:\\Users\\yacin\\AppData\\Local\\Programs\\Python\\Python310\\lib\\site-packages\\sklearn\\linear_model\\_logistic.py:469: ConvergenceWarning: lbfgs failed to converge (status=1):\n",
      "STOP: TOTAL NO. of ITERATIONS REACHED LIMIT.\n",
      "\n",
      "Increase the number of iterations (max_iter) or scale the data as shown in:\n",
      "    https://scikit-learn.org/stable/modules/preprocessing.html\n",
      "Please also refer to the documentation for alternative solver options:\n",
      "    https://scikit-learn.org/stable/modules/linear_model.html#logistic-regression\n",
      "  n_iter_i = _check_optimize_result(\n",
      "c:\\Users\\yacin\\AppData\\Local\\Programs\\Python\\Python310\\lib\\site-packages\\sklearn\\linear_model\\_logistic.py:469: ConvergenceWarning: lbfgs failed to converge (status=1):\n",
      "STOP: TOTAL NO. of ITERATIONS REACHED LIMIT.\n",
      "\n",
      "Increase the number of iterations (max_iter) or scale the data as shown in:\n",
      "    https://scikit-learn.org/stable/modules/preprocessing.html\n",
      "Please also refer to the documentation for alternative solver options:\n",
      "    https://scikit-learn.org/stable/modules/linear_model.html#logistic-regression\n",
      "  n_iter_i = _check_optimize_result(\n",
      "c:\\Users\\yacin\\AppData\\Local\\Programs\\Python\\Python310\\lib\\site-packages\\sklearn\\linear_model\\_logistic.py:469: ConvergenceWarning: lbfgs failed to converge (status=1):\n",
      "STOP: TOTAL NO. of ITERATIONS REACHED LIMIT.\n",
      "\n",
      "Increase the number of iterations (max_iter) or scale the data as shown in:\n",
      "    https://scikit-learn.org/stable/modules/preprocessing.html\n",
      "Please also refer to the documentation for alternative solver options:\n",
      "    https://scikit-learn.org/stable/modules/linear_model.html#logistic-regression\n",
      "  n_iter_i = _check_optimize_result(\n",
      "c:\\Users\\yacin\\AppData\\Local\\Programs\\Python\\Python310\\lib\\site-packages\\sklearn\\linear_model\\_logistic.py:469: ConvergenceWarning: lbfgs failed to converge (status=1):\n",
      "STOP: TOTAL NO. of ITERATIONS REACHED LIMIT.\n",
      "\n",
      "Increase the number of iterations (max_iter) or scale the data as shown in:\n",
      "    https://scikit-learn.org/stable/modules/preprocessing.html\n",
      "Please also refer to the documentation for alternative solver options:\n",
      "    https://scikit-learn.org/stable/modules/linear_model.html#logistic-regression\n",
      "  n_iter_i = _check_optimize_result(\n"
     ]
    },
    {
     "name": "stdout",
     "output_type": "stream",
     "text": [
      "Logistic Regression - Accuracy: 0.8910, ROC AUC (CV 5 folds): 0.8673\n"
     ]
    },
    {
     "name": "stderr",
     "output_type": "stream",
     "text": [
      "c:\\Users\\yacin\\AppData\\Local\\Programs\\Python\\Python310\\lib\\site-packages\\sklearn\\linear_model\\_logistic.py:469: ConvergenceWarning: lbfgs failed to converge (status=1):\n",
      "STOP: TOTAL NO. of ITERATIONS REACHED LIMIT.\n",
      "\n",
      "Increase the number of iterations (max_iter) or scale the data as shown in:\n",
      "    https://scikit-learn.org/stable/modules/preprocessing.html\n",
      "Please also refer to the documentation for alternative solver options:\n",
      "    https://scikit-learn.org/stable/modules/linear_model.html#logistic-regression\n",
      "  n_iter_i = _check_optimize_result(\n"
     ]
    }
   ],
   "source": [
    "from sklearn.model_selection import cross_val_score\n",
    "\n",
    "# Logistic Regression\n",
    "model_log_reg = LogisticRegression(max_iter=1000)\n",
    "model_log_reg.fit(X, y)\n",
    "log_reg_acc = cross_val_score(model_log_reg, X, y, cv=5, scoring='accuracy').mean()\n",
    "log_reg_roc_auc = cross_val_score(model_log_reg, X, y, cv=5, scoring='roc_auc').mean()\n",
    "\n",
    "print(f\"Logistic Regression - Accuracy: {log_reg_acc:.4f}, ROC AUC (CV 5 folds): {log_reg_roc_auc:.4f}\")"
   ]
  },
  {
   "cell_type": "markdown",
   "id": "47c67142",
   "metadata": {
    "papermill": {
     "duration": 0.037713,
     "end_time": "2024-10-09T20:45:56.123502",
     "exception": false,
     "start_time": "2024-10-09T20:45:56.085789",
     "status": "completed"
    },
    "tags": []
   },
   "source": [
    "Optimisation des hyperparamettres pour Logistic Regression"
   ]
  },
  {
   "cell_type": "code",
   "execution_count": 26,
   "id": "395ac910",
   "metadata": {
    "execution": {
     "iopub.execute_input": "2024-10-09T20:45:56.189739Z",
     "iopub.status.busy": "2024-10-09T20:45:56.189283Z",
     "iopub.status.idle": "2024-10-09T20:46:01.802876Z",
     "shell.execute_reply": "2024-10-09T20:46:01.801176Z"
    },
    "papermill": {
     "duration": 5.650345,
     "end_time": "2024-10-09T20:46:01.805503",
     "exception": false,
     "start_time": "2024-10-09T20:45:56.155158",
     "status": "completed"
    },
    "tags": []
   },
   "outputs": [
    {
     "name": "stdout",
     "output_type": "stream",
     "text": [
      "Meilleurs paramètres pour Logistic Regression : {'C': 0.01, 'solver': 'liblinear'}\n",
      "Meilleur score ROC AUC pour Logistic Regression : 0.7828313310748024\n"
     ]
    }
   ],
   "source": [
    "# Définir les hyperparamètres à tester\n",
    "param_grid_log_reg = {\n",
    "    'C': [0.01, 0.1, 1, 10],\n",
    "    'solver': ['liblinear']\n",
    "}\n",
    "\n",
    "# Instancier le modèle\n",
    "model_log_reg = LogisticRegression(max_iter=1000)\n",
    "\n",
    "# Effectuer la recherche sur grille\n",
    "grid_search_log_reg = GridSearchCV(model_log_reg, param_grid_log_reg, cv=5, scoring='roc_auc')\n",
    "grid_search_log_reg.fit(X, y)\n",
    "\n",
    "# Afficher les meilleurs paramètres et le score\n",
    "print(\"Meilleurs paramètres pour Logistic Regression :\", grid_search_log_reg.best_params_)\n",
    "print(\"Meilleur score ROC AUC pour Logistic Regression :\", grid_search_log_reg.best_score_)\n"
   ]
  },
  {
   "cell_type": "markdown",
   "id": "24b0531d",
   "metadata": {
    "papermill": {
     "duration": 0.031646,
     "end_time": "2024-10-09T20:46:01.869115",
     "exception": false,
     "start_time": "2024-10-09T20:46:01.837469",
     "status": "completed"
    },
    "tags": []
   },
   "source": [
    "2. model RandomForest"
   ]
  },
  {
   "cell_type": "code",
   "execution_count": 27,
   "id": "7dde48b0",
   "metadata": {
    "execution": {
     "iopub.execute_input": "2024-10-09T20:46:01.934511Z",
     "iopub.status.busy": "2024-10-09T20:46:01.933670Z",
     "iopub.status.idle": "2024-10-09T20:47:44.657490Z",
     "shell.execute_reply": "2024-10-09T20:47:44.656178Z"
    },
    "papermill": {
     "duration": 102.791516,
     "end_time": "2024-10-09T20:47:44.692186",
     "exception": false,
     "start_time": "2024-10-09T20:46:01.900670",
     "status": "completed"
    },
    "tags": []
   },
   "outputs": [
    {
     "name": "stdout",
     "output_type": "stream",
     "text": [
      "Random Forest - Accuracy: 0.8035, ROC AUC (CV 5 folds): 0.9155\n"
     ]
    }
   ],
   "source": [
    "# Random Forest\n",
    "model_rf = RandomForestClassifier()\n",
    "model_rf.fit(X, y)\n",
    "rf_acc = cross_val_score(model_rf, X, y, cv=5, scoring='accuracy').mean()\n",
    "rf_roc_auc = cross_val_score(model_rf, X, y, cv=5, scoring='roc_auc').mean()\n",
    "\n",
    "print(f\"Random Forest - Accuracy: {rf_acc:.4f}, ROC AUC (CV 5 folds): {rf_roc_auc:.4f}\")"
   ]
  },
  {
   "cell_type": "markdown",
   "id": "0b8631a6",
   "metadata": {
    "papermill": {
     "duration": 0.031648,
     "end_time": "2024-10-09T20:47:44.756103",
     "exception": false,
     "start_time": "2024-10-09T20:47:44.724455",
     "status": "completed"
    },
    "tags": []
   },
   "source": [
    "Optimisation des hyperparamètre pour RandomForest"
   ]
  },
  {
   "cell_type": "code",
   "execution_count": 28,
   "id": "55a9e4eb",
   "metadata": {
    "execution": {
     "iopub.execute_input": "2024-10-09T20:47:44.822071Z",
     "iopub.status.busy": "2024-10-09T20:47:44.821561Z",
     "iopub.status.idle": "2024-10-09T21:00:09.816269Z",
     "shell.execute_reply": "2024-10-09T21:00:09.815151Z"
    },
    "papermill": {
     "duration": 745.063334,
     "end_time": "2024-10-09T21:00:09.851274",
     "exception": false,
     "start_time": "2024-10-09T20:47:44.787940",
     "status": "completed"
    },
    "tags": []
   },
   "outputs": [
    {
     "name": "stdout",
     "output_type": "stream",
     "text": [
      "Meilleurs paramètres : {'max_depth': 20, 'min_samples_split': 2, 'n_estimators': 200}\n",
      "Meilleur score ROC AUC : 0.9218400955321686\n"
     ]
    }
   ],
   "source": [
    "from sklearn.ensemble import RandomForestClassifier\n",
    "from sklearn.model_selection import GridSearchCV\n",
    "\n",
    "# Définir les hyperparamètres à tester\n",
    "param_grid = {\n",
    "    'n_estimators': [100, 200],\n",
    "    'max_depth': [None, 10, 20],\n",
    "    'min_samples_split': [2, 5]\n",
    "}\n",
    "\n",
    "# Instancier le modèle\n",
    "model_rf = RandomForestClassifier()\n",
    "\n",
    "# Effectuer la recherche sur grille\n",
    "grid_search = GridSearchCV(model_rf, param_grid, cv=5, scoring='roc_auc')\n",
    "grid_search.fit(X, y)\n",
    "\n",
    "# Afficher les meilleurs paramètres et le score\n",
    "print(\"Meilleurs paramètres :\", grid_search.best_params_)\n",
    "print(\"Meilleur score ROC AUC :\", grid_search.best_score_)\n"
   ]
  },
  {
   "cell_type": "markdown",
   "id": "55546620",
   "metadata": {
    "papermill": {
     "duration": 0.031574,
     "end_time": "2024-10-09T21:00:09.914630",
     "exception": false,
     "start_time": "2024-10-09T21:00:09.883056",
     "status": "completed"
    },
    "tags": []
   },
   "source": [
    "3. Model KNN"
   ]
  },
  {
   "cell_type": "code",
   "execution_count": 29,
   "id": "ec5e347c",
   "metadata": {
    "execution": {
     "iopub.execute_input": "2024-10-09T21:00:09.982591Z",
     "iopub.status.busy": "2024-10-09T21:00:09.981605Z",
     "iopub.status.idle": "2024-10-09T21:00:16.468578Z",
     "shell.execute_reply": "2024-10-09T21:00:16.466984Z"
    },
    "papermill": {
     "duration": 6.523364,
     "end_time": "2024-10-09T21:00:16.471273",
     "exception": false,
     "start_time": "2024-10-09T21:00:09.947909",
     "status": "completed"
    },
    "tags": []
   },
   "outputs": [
    {
     "name": "stdout",
     "output_type": "stream",
     "text": [
      "KNN - Accuracy: 0.8360, ROC AUC (CV 5 folds): 0.7081\n"
     ]
    }
   ],
   "source": [
    "# KNN\n",
    "model_knn = KNeighborsClassifier()\n",
    "model_knn.fit(X, y)\n",
    "knn_acc = cross_val_score(model_knn, X, y, cv=5, scoring='accuracy').mean()\n",
    "knn_roc_auc = cross_val_score(model_knn, X, y, cv=5, scoring='roc_auc').mean()\n",
    "\n",
    "print(f\"KNN - Accuracy: {knn_acc:.4f}, ROC AUC (CV 5 folds): {knn_roc_auc:.4f}\")"
   ]
  },
  {
   "cell_type": "markdown",
   "id": "cb3fc4b0",
   "metadata": {
    "papermill": {
     "duration": 0.032799,
     "end_time": "2024-10-09T21:00:16.536031",
     "exception": false,
     "start_time": "2024-10-09T21:00:16.503232",
     "status": "completed"
    },
    "tags": []
   },
   "source": [
    "Optimisation des Hyperparamettres KNN"
   ]
  },
  {
   "cell_type": "code",
   "execution_count": 30,
   "id": "54195299",
   "metadata": {
    "execution": {
     "iopub.execute_input": "2024-10-09T21:00:16.601744Z",
     "iopub.status.busy": "2024-10-09T21:00:16.601276Z",
     "iopub.status.idle": "2024-10-09T21:00:41.314330Z",
     "shell.execute_reply": "2024-10-09T21:00:41.312945Z"
    },
    "papermill": {
     "duration": 24.749003,
     "end_time": "2024-10-09T21:00:41.316966",
     "exception": false,
     "start_time": "2024-10-09T21:00:16.567963",
     "status": "completed"
    },
    "tags": []
   },
   "outputs": [
    {
     "name": "stdout",
     "output_type": "stream",
     "text": [
      "Meilleurs paramètres pour KNN : {'metric': 'manhattan', 'n_neighbors': 9, 'weights': 'distance'}\n",
      "Meilleur score ROC AUC pour KNN : 0.7729494306942333\n"
     ]
    }
   ],
   "source": [
    "# Définir les hyperparamètres à tester\n",
    "param_grid_knn = {\n",
    "    'n_neighbors': [3, 5, 7, 9],\n",
    "    'weights': ['uniform', 'distance'],\n",
    "    'metric': ['euclidean', 'manhattan']\n",
    "}\n",
    "\n",
    "# Instancier le modèle KNN\n",
    "model_knn = KNeighborsClassifier()\n",
    "\n",
    "# Effectuer la recherche sur grille\n",
    "grid_search_knn = GridSearchCV(model_knn, param_grid_knn, cv=5, scoring='roc_auc')\n",
    "grid_search_knn.fit(X, y)\n",
    "\n",
    "# Afficher les meilleurs paramètres et le score\n",
    "print(\"Meilleurs paramètres pour KNN :\", grid_search_knn.best_params_)\n",
    "print(\"Meilleur score ROC AUC pour KNN :\", grid_search_knn.best_score_)\n"
   ]
  },
  {
   "cell_type": "markdown",
   "id": "f651e4c0",
   "metadata": {
    "papermill": {
     "duration": 0.031497,
     "end_time": "2024-10-09T21:00:41.380282",
     "exception": false,
     "start_time": "2024-10-09T21:00:41.348785",
     "status": "completed"
    },
    "tags": []
   },
   "source": [
    "5. Modèl Decision Tree"
   ]
  },
  {
   "cell_type": "code",
   "execution_count": 31,
   "id": "7edaf98f",
   "metadata": {
    "execution": {
     "iopub.execute_input": "2024-10-09T21:00:41.445713Z",
     "iopub.status.busy": "2024-10-09T21:00:41.445237Z",
     "iopub.status.idle": "2024-10-09T21:00:46.930210Z",
     "shell.execute_reply": "2024-10-09T21:00:46.928782Z"
    },
    "papermill": {
     "duration": 5.52176,
     "end_time": "2024-10-09T21:00:46.933726",
     "exception": false,
     "start_time": "2024-10-09T21:00:41.411966",
     "status": "completed"
    },
    "tags": []
   },
   "outputs": [
    {
     "name": "stdout",
     "output_type": "stream",
     "text": [
      "Decision Tree - Accuracy: 0.7398, ROC AUC (CV 5 folds): 0.7076\n"
     ]
    }
   ],
   "source": [
    "# Decision Tree\n",
    "model_dt = DecisionTreeClassifier()\n",
    "model_dt.fit(X, y)\n",
    "dt_acc = cross_val_score(model_dt, X, y, cv=5, scoring='accuracy').mean()\n",
    "dt_roc_auc = cross_val_score(model_dt, X, y, cv=5, scoring='roc_auc').mean()\n",
    "\n",
    "print(f\"Decision Tree - Accuracy: {dt_acc:.4f}, ROC AUC (CV 5 folds): {dt_roc_auc:.4f}\")"
   ]
  },
  {
   "cell_type": "markdown",
   "id": "925f4b4e",
   "metadata": {
    "papermill": {
     "duration": 0.034604,
     "end_time": "2024-10-09T21:00:47.061736",
     "exception": false,
     "start_time": "2024-10-09T21:00:47.027132",
     "status": "completed"
    },
    "tags": []
   },
   "source": [
    "Optimisation des Hyperparamettres pour DécisionTREE"
   ]
  },
  {
   "cell_type": "code",
   "execution_count": 32,
   "id": "6fd6b02b",
   "metadata": {
    "execution": {
     "iopub.execute_input": "2024-10-09T21:00:47.128653Z",
     "iopub.status.busy": "2024-10-09T21:00:47.128179Z",
     "iopub.status.idle": "2024-10-09T21:01:39.469865Z",
     "shell.execute_reply": "2024-10-09T21:01:39.468590Z"
    },
    "papermill": {
     "duration": 52.411428,
     "end_time": "2024-10-09T21:01:39.505506",
     "exception": false,
     "start_time": "2024-10-09T21:00:47.094078",
     "status": "completed"
    },
    "tags": []
   },
   "outputs": [
    {
     "name": "stdout",
     "output_type": "stream",
     "text": [
      "Meilleurs paramètres pour Decision Tree : {'criterion': 'entropy', 'max_depth': 10, 'min_samples_split': 10}\n",
      "Meilleur score ROC AUC pour Decision Tree : 0.8563061529788618\n"
     ]
    }
   ],
   "source": [
    "# Définir les hyperparamètres à tester\n",
    "param_grid_dt = {\n",
    "    'max_depth': [None, 10, 20, 30],\n",
    "    'min_samples_split': [2, 5, 10],\n",
    "    'criterion': ['gini', 'entropy']\n",
    "}\n",
    "\n",
    "# Instancier le modèle d'arbre de décision\n",
    "model_dt = DecisionTreeClassifier()\n",
    "\n",
    "# Effectuer la recherche sur grille\n",
    "grid_search_dt = GridSearchCV(model_dt, param_grid_dt, cv=5, scoring='roc_auc')\n",
    "grid_search_dt.fit(X, y)\n",
    "\n",
    "# Afficher les meilleurs paramètres et le score\n",
    "print(\"Meilleurs paramètres pour Decision Tree :\", grid_search_dt.best_params_)\n",
    "print(\"Meilleur score ROC AUC pour Decision Tree :\", grid_search_dt.best_score_)\n"
   ]
  },
  {
   "cell_type": "markdown",
   "id": "c864bf00",
   "metadata": {
    "papermill": {
     "duration": 0.03235,
     "end_time": "2024-10-09T21:01:39.571073",
     "exception": false,
     "start_time": "2024-10-09T21:01:39.538723",
     "status": "completed"
    },
    "tags": []
   },
   "source": [
    "6. Modèle XGBOOST"
   ]
  },
  {
   "cell_type": "code",
   "execution_count": 33,
   "id": "4d6e700f",
   "metadata": {
    "execution": {
     "iopub.execute_input": "2024-10-09T21:01:39.639244Z",
     "iopub.status.busy": "2024-10-09T21:01:39.638796Z",
     "iopub.status.idle": "2024-10-09T21:01:44.106468Z",
     "shell.execute_reply": "2024-10-09T21:01:44.105534Z"
    },
    "papermill": {
     "duration": 4.504327,
     "end_time": "2024-10-09T21:01:44.108974",
     "exception": false,
     "start_time": "2024-10-09T21:01:39.604647",
     "status": "completed"
    },
    "tags": []
   },
   "outputs": [
    {
     "name": "stderr",
     "output_type": "stream",
     "text": [
      "c:\\Users\\yacin\\AppData\\Local\\Programs\\Python\\Python310\\lib\\site-packages\\xgboost\\core.py:158: UserWarning: [00:20:45] WARNING: C:\\buildkite-agent\\builds\\buildkite-windows-cpu-autoscaling-group-i-0c55ff5f71b100e98-1\\xgboost\\xgboost-ci-windows\\src\\learner.cc:740: \n",
      "Parameters: { \"use_label_encoder\" } are not used.\n",
      "\n",
      "  warnings.warn(smsg, UserWarning)\n",
      "c:\\Users\\yacin\\AppData\\Local\\Programs\\Python\\Python310\\lib\\site-packages\\xgboost\\core.py:158: UserWarning: [00:20:46] WARNING: C:\\buildkite-agent\\builds\\buildkite-windows-cpu-autoscaling-group-i-0c55ff5f71b100e98-1\\xgboost\\xgboost-ci-windows\\src\\learner.cc:740: \n",
      "Parameters: { \"use_label_encoder\" } are not used.\n",
      "\n",
      "  warnings.warn(smsg, UserWarning)\n",
      "c:\\Users\\yacin\\AppData\\Local\\Programs\\Python\\Python310\\lib\\site-packages\\xgboost\\core.py:158: UserWarning: [00:20:47] WARNING: C:\\buildkite-agent\\builds\\buildkite-windows-cpu-autoscaling-group-i-0c55ff5f71b100e98-1\\xgboost\\xgboost-ci-windows\\src\\learner.cc:740: \n",
      "Parameters: { \"use_label_encoder\" } are not used.\n",
      "\n",
      "  warnings.warn(smsg, UserWarning)\n",
      "c:\\Users\\yacin\\AppData\\Local\\Programs\\Python\\Python310\\lib\\site-packages\\xgboost\\core.py:158: UserWarning: [00:20:47] WARNING: C:\\buildkite-agent\\builds\\buildkite-windows-cpu-autoscaling-group-i-0c55ff5f71b100e98-1\\xgboost\\xgboost-ci-windows\\src\\learner.cc:740: \n",
      "Parameters: { \"use_label_encoder\" } are not used.\n",
      "\n",
      "  warnings.warn(smsg, UserWarning)\n",
      "c:\\Users\\yacin\\AppData\\Local\\Programs\\Python\\Python310\\lib\\site-packages\\xgboost\\core.py:158: UserWarning: [00:20:48] WARNING: C:\\buildkite-agent\\builds\\buildkite-windows-cpu-autoscaling-group-i-0c55ff5f71b100e98-1\\xgboost\\xgboost-ci-windows\\src\\learner.cc:740: \n",
      "Parameters: { \"use_label_encoder\" } are not used.\n",
      "\n",
      "  warnings.warn(smsg, UserWarning)\n",
      "c:\\Users\\yacin\\AppData\\Local\\Programs\\Python\\Python310\\lib\\site-packages\\xgboost\\core.py:158: UserWarning: [00:20:48] WARNING: C:\\buildkite-agent\\builds\\buildkite-windows-cpu-autoscaling-group-i-0c55ff5f71b100e98-1\\xgboost\\xgboost-ci-windows\\src\\learner.cc:740: \n",
      "Parameters: { \"use_label_encoder\" } are not used.\n",
      "\n",
      "  warnings.warn(smsg, UserWarning)\n",
      "c:\\Users\\yacin\\AppData\\Local\\Programs\\Python\\Python310\\lib\\site-packages\\xgboost\\core.py:158: UserWarning: [00:20:49] WARNING: C:\\buildkite-agent\\builds\\buildkite-windows-cpu-autoscaling-group-i-0c55ff5f71b100e98-1\\xgboost\\xgboost-ci-windows\\src\\learner.cc:740: \n",
      "Parameters: { \"use_label_encoder\" } are not used.\n",
      "\n",
      "  warnings.warn(smsg, UserWarning)\n",
      "c:\\Users\\yacin\\AppData\\Local\\Programs\\Python\\Python310\\lib\\site-packages\\xgboost\\core.py:158: UserWarning: [00:20:49] WARNING: C:\\buildkite-agent\\builds\\buildkite-windows-cpu-autoscaling-group-i-0c55ff5f71b100e98-1\\xgboost\\xgboost-ci-windows\\src\\learner.cc:740: \n",
      "Parameters: { \"use_label_encoder\" } are not used.\n",
      "\n",
      "  warnings.warn(smsg, UserWarning)\n",
      "c:\\Users\\yacin\\AppData\\Local\\Programs\\Python\\Python310\\lib\\site-packages\\xgboost\\core.py:158: UserWarning: [00:20:50] WARNING: C:\\buildkite-agent\\builds\\buildkite-windows-cpu-autoscaling-group-i-0c55ff5f71b100e98-1\\xgboost\\xgboost-ci-windows\\src\\learner.cc:740: \n",
      "Parameters: { \"use_label_encoder\" } are not used.\n",
      "\n",
      "  warnings.warn(smsg, UserWarning)\n",
      "c:\\Users\\yacin\\AppData\\Local\\Programs\\Python\\Python310\\lib\\site-packages\\xgboost\\core.py:158: UserWarning: [00:20:51] WARNING: C:\\buildkite-agent\\builds\\buildkite-windows-cpu-autoscaling-group-i-0c55ff5f71b100e98-1\\xgboost\\xgboost-ci-windows\\src\\learner.cc:740: \n",
      "Parameters: { \"use_label_encoder\" } are not used.\n",
      "\n",
      "  warnings.warn(smsg, UserWarning)\n",
      "c:\\Users\\yacin\\AppData\\Local\\Programs\\Python\\Python310\\lib\\site-packages\\xgboost\\core.py:158: UserWarning: [00:20:51] WARNING: C:\\buildkite-agent\\builds\\buildkite-windows-cpu-autoscaling-group-i-0c55ff5f71b100e98-1\\xgboost\\xgboost-ci-windows\\src\\learner.cc:740: \n",
      "Parameters: { \"use_label_encoder\" } are not used.\n",
      "\n",
      "  warnings.warn(smsg, UserWarning)\n"
     ]
    },
    {
     "name": "stdout",
     "output_type": "stream",
     "text": [
      "XGBoost - Accuracy: 0.9330, ROC AUC (CV 5 folds): 0.9462\n"
     ]
    }
   ],
   "source": [
    "# XGBoost\n",
    "model_xgb = XGBClassifier(use_label_encoder=False, eval_metric='logloss')\n",
    "model_xgb.fit(X, y)\n",
    "xgb_acc = cross_val_score(model_xgb, X, y, cv=5, scoring='accuracy').mean()\n",
    "xgb_roc_auc = cross_val_score(model_xgb, X, y, cv=5, scoring='roc_auc').mean()\n",
    "\n",
    "print(f\"XGBoost - Accuracy: {xgb_acc:.4f}, ROC AUC (CV 5 folds): {xgb_roc_auc:.4f}\")"
   ]
  },
  {
   "cell_type": "markdown",
   "id": "c4cc6811",
   "metadata": {
    "papermill": {
     "duration": 0.031683,
     "end_time": "2024-10-09T21:01:44.173606",
     "exception": false,
     "start_time": "2024-10-09T21:01:44.141923",
     "status": "completed"
    },
    "tags": []
   },
   "source": [
    "Optimisation des hyperparamètre pour GXBOOST"
   ]
  },
  {
   "cell_type": "code",
   "execution_count": 34,
   "id": "90933e44",
   "metadata": {
    "execution": {
     "iopub.execute_input": "2024-10-09T21:01:44.240613Z",
     "iopub.status.busy": "2024-10-09T21:01:44.239813Z",
     "iopub.status.idle": "2024-10-09T21:03:26.564745Z",
     "shell.execute_reply": "2024-10-09T21:03:26.563826Z"
    },
    "papermill": {
     "duration": 102.395141,
     "end_time": "2024-10-09T21:03:26.601259",
     "exception": false,
     "start_time": "2024-10-09T21:01:44.206118",
     "status": "completed"
    },
    "tags": []
   },
   "outputs": [
    {
     "name": "stderr",
     "output_type": "stream",
     "text": [
      "c:\\Users\\yacin\\AppData\\Local\\Programs\\Python\\Python310\\lib\\site-packages\\xgboost\\core.py:158: UserWarning: [00:20:52] WARNING: C:\\buildkite-agent\\builds\\buildkite-windows-cpu-autoscaling-group-i-0c55ff5f71b100e98-1\\xgboost\\xgboost-ci-windows\\src\\learner.cc:740: \n",
      "Parameters: { \"use_label_encoder\" } are not used.\n",
      "\n",
      "  warnings.warn(smsg, UserWarning)\n",
      "c:\\Users\\yacin\\AppData\\Local\\Programs\\Python\\Python310\\lib\\site-packages\\xgboost\\core.py:158: UserWarning: [00:20:52] WARNING: C:\\buildkite-agent\\builds\\buildkite-windows-cpu-autoscaling-group-i-0c55ff5f71b100e98-1\\xgboost\\xgboost-ci-windows\\src\\learner.cc:740: \n",
      "Parameters: { \"use_label_encoder\" } are not used.\n",
      "\n",
      "  warnings.warn(smsg, UserWarning)\n",
      "c:\\Users\\yacin\\AppData\\Local\\Programs\\Python\\Python310\\lib\\site-packages\\xgboost\\core.py:158: UserWarning: [00:20:52] WARNING: C:\\buildkite-agent\\builds\\buildkite-windows-cpu-autoscaling-group-i-0c55ff5f71b100e98-1\\xgboost\\xgboost-ci-windows\\src\\learner.cc:740: \n",
      "Parameters: { \"use_label_encoder\" } are not used.\n",
      "\n",
      "  warnings.warn(smsg, UserWarning)\n",
      "c:\\Users\\yacin\\AppData\\Local\\Programs\\Python\\Python310\\lib\\site-packages\\xgboost\\core.py:158: UserWarning: [00:20:53] WARNING: C:\\buildkite-agent\\builds\\buildkite-windows-cpu-autoscaling-group-i-0c55ff5f71b100e98-1\\xgboost\\xgboost-ci-windows\\src\\learner.cc:740: \n",
      "Parameters: { \"use_label_encoder\" } are not used.\n",
      "\n",
      "  warnings.warn(smsg, UserWarning)\n",
      "c:\\Users\\yacin\\AppData\\Local\\Programs\\Python\\Python310\\lib\\site-packages\\xgboost\\core.py:158: UserWarning: [00:20:53] WARNING: C:\\buildkite-agent\\builds\\buildkite-windows-cpu-autoscaling-group-i-0c55ff5f71b100e98-1\\xgboost\\xgboost-ci-windows\\src\\learner.cc:740: \n",
      "Parameters: { \"use_label_encoder\" } are not used.\n",
      "\n",
      "  warnings.warn(smsg, UserWarning)\n",
      "c:\\Users\\yacin\\AppData\\Local\\Programs\\Python\\Python310\\lib\\site-packages\\xgboost\\core.py:158: UserWarning: [00:20:54] WARNING: C:\\buildkite-agent\\builds\\buildkite-windows-cpu-autoscaling-group-i-0c55ff5f71b100e98-1\\xgboost\\xgboost-ci-windows\\src\\learner.cc:740: \n",
      "Parameters: { \"use_label_encoder\" } are not used.\n",
      "\n",
      "  warnings.warn(smsg, UserWarning)\n",
      "c:\\Users\\yacin\\AppData\\Local\\Programs\\Python\\Python310\\lib\\site-packages\\xgboost\\core.py:158: UserWarning: [00:20:54] WARNING: C:\\buildkite-agent\\builds\\buildkite-windows-cpu-autoscaling-group-i-0c55ff5f71b100e98-1\\xgboost\\xgboost-ci-windows\\src\\learner.cc:740: \n",
      "Parameters: { \"use_label_encoder\" } are not used.\n",
      "\n",
      "  warnings.warn(smsg, UserWarning)\n",
      "c:\\Users\\yacin\\AppData\\Local\\Programs\\Python\\Python310\\lib\\site-packages\\xgboost\\core.py:158: UserWarning: [00:20:54] WARNING: C:\\buildkite-agent\\builds\\buildkite-windows-cpu-autoscaling-group-i-0c55ff5f71b100e98-1\\xgboost\\xgboost-ci-windows\\src\\learner.cc:740: \n",
      "Parameters: { \"use_label_encoder\" } are not used.\n",
      "\n",
      "  warnings.warn(smsg, UserWarning)\n",
      "c:\\Users\\yacin\\AppData\\Local\\Programs\\Python\\Python310\\lib\\site-packages\\xgboost\\core.py:158: UserWarning: [00:20:55] WARNING: C:\\buildkite-agent\\builds\\buildkite-windows-cpu-autoscaling-group-i-0c55ff5f71b100e98-1\\xgboost\\xgboost-ci-windows\\src\\learner.cc:740: \n",
      "Parameters: { \"use_label_encoder\" } are not used.\n",
      "\n",
      "  warnings.warn(smsg, UserWarning)\n",
      "c:\\Users\\yacin\\AppData\\Local\\Programs\\Python\\Python310\\lib\\site-packages\\xgboost\\core.py:158: UserWarning: [00:20:55] WARNING: C:\\buildkite-agent\\builds\\buildkite-windows-cpu-autoscaling-group-i-0c55ff5f71b100e98-1\\xgboost\\xgboost-ci-windows\\src\\learner.cc:740: \n",
      "Parameters: { \"use_label_encoder\" } are not used.\n",
      "\n",
      "  warnings.warn(smsg, UserWarning)\n",
      "c:\\Users\\yacin\\AppData\\Local\\Programs\\Python\\Python310\\lib\\site-packages\\xgboost\\core.py:158: UserWarning: [00:20:55] WARNING: C:\\buildkite-agent\\builds\\buildkite-windows-cpu-autoscaling-group-i-0c55ff5f71b100e98-1\\xgboost\\xgboost-ci-windows\\src\\learner.cc:740: \n",
      "Parameters: { \"use_label_encoder\" } are not used.\n",
      "\n",
      "  warnings.warn(smsg, UserWarning)\n",
      "c:\\Users\\yacin\\AppData\\Local\\Programs\\Python\\Python310\\lib\\site-packages\\xgboost\\core.py:158: UserWarning: [00:20:56] WARNING: C:\\buildkite-agent\\builds\\buildkite-windows-cpu-autoscaling-group-i-0c55ff5f71b100e98-1\\xgboost\\xgboost-ci-windows\\src\\learner.cc:740: \n",
      "Parameters: { \"use_label_encoder\" } are not used.\n",
      "\n",
      "  warnings.warn(smsg, UserWarning)\n",
      "c:\\Users\\yacin\\AppData\\Local\\Programs\\Python\\Python310\\lib\\site-packages\\xgboost\\core.py:158: UserWarning: [00:20:57] WARNING: C:\\buildkite-agent\\builds\\buildkite-windows-cpu-autoscaling-group-i-0c55ff5f71b100e98-1\\xgboost\\xgboost-ci-windows\\src\\learner.cc:740: \n",
      "Parameters: { \"use_label_encoder\" } are not used.\n",
      "\n",
      "  warnings.warn(smsg, UserWarning)\n",
      "c:\\Users\\yacin\\AppData\\Local\\Programs\\Python\\Python310\\lib\\site-packages\\xgboost\\core.py:158: UserWarning: [00:20:58] WARNING: C:\\buildkite-agent\\builds\\buildkite-windows-cpu-autoscaling-group-i-0c55ff5f71b100e98-1\\xgboost\\xgboost-ci-windows\\src\\learner.cc:740: \n",
      "Parameters: { \"use_label_encoder\" } are not used.\n",
      "\n",
      "  warnings.warn(smsg, UserWarning)\n",
      "c:\\Users\\yacin\\AppData\\Local\\Programs\\Python\\Python310\\lib\\site-packages\\xgboost\\core.py:158: UserWarning: [00:20:58] WARNING: C:\\buildkite-agent\\builds\\buildkite-windows-cpu-autoscaling-group-i-0c55ff5f71b100e98-1\\xgboost\\xgboost-ci-windows\\src\\learner.cc:740: \n",
      "Parameters: { \"use_label_encoder\" } are not used.\n",
      "\n",
      "  warnings.warn(smsg, UserWarning)\n",
      "c:\\Users\\yacin\\AppData\\Local\\Programs\\Python\\Python310\\lib\\site-packages\\xgboost\\core.py:158: UserWarning: [00:20:59] WARNING: C:\\buildkite-agent\\builds\\buildkite-windows-cpu-autoscaling-group-i-0c55ff5f71b100e98-1\\xgboost\\xgboost-ci-windows\\src\\learner.cc:740: \n",
      "Parameters: { \"use_label_encoder\" } are not used.\n",
      "\n",
      "  warnings.warn(smsg, UserWarning)\n",
      "c:\\Users\\yacin\\AppData\\Local\\Programs\\Python\\Python310\\lib\\site-packages\\xgboost\\core.py:158: UserWarning: [00:21:00] WARNING: C:\\buildkite-agent\\builds\\buildkite-windows-cpu-autoscaling-group-i-0c55ff5f71b100e98-1\\xgboost\\xgboost-ci-windows\\src\\learner.cc:740: \n",
      "Parameters: { \"use_label_encoder\" } are not used.\n",
      "\n",
      "  warnings.warn(smsg, UserWarning)\n",
      "c:\\Users\\yacin\\AppData\\Local\\Programs\\Python\\Python310\\lib\\site-packages\\xgboost\\core.py:158: UserWarning: [00:21:00] WARNING: C:\\buildkite-agent\\builds\\buildkite-windows-cpu-autoscaling-group-i-0c55ff5f71b100e98-1\\xgboost\\xgboost-ci-windows\\src\\learner.cc:740: \n",
      "Parameters: { \"use_label_encoder\" } are not used.\n",
      "\n",
      "  warnings.warn(smsg, UserWarning)\n",
      "c:\\Users\\yacin\\AppData\\Local\\Programs\\Python\\Python310\\lib\\site-packages\\xgboost\\core.py:158: UserWarning: [00:21:01] WARNING: C:\\buildkite-agent\\builds\\buildkite-windows-cpu-autoscaling-group-i-0c55ff5f71b100e98-1\\xgboost\\xgboost-ci-windows\\src\\learner.cc:740: \n",
      "Parameters: { \"use_label_encoder\" } are not used.\n",
      "\n",
      "  warnings.warn(smsg, UserWarning)\n",
      "c:\\Users\\yacin\\AppData\\Local\\Programs\\Python\\Python310\\lib\\site-packages\\xgboost\\core.py:158: UserWarning: [00:21:02] WARNING: C:\\buildkite-agent\\builds\\buildkite-windows-cpu-autoscaling-group-i-0c55ff5f71b100e98-1\\xgboost\\xgboost-ci-windows\\src\\learner.cc:740: \n",
      "Parameters: { \"use_label_encoder\" } are not used.\n",
      "\n",
      "  warnings.warn(smsg, UserWarning)\n",
      "c:\\Users\\yacin\\AppData\\Local\\Programs\\Python\\Python310\\lib\\site-packages\\xgboost\\core.py:158: UserWarning: [00:21:02] WARNING: C:\\buildkite-agent\\builds\\buildkite-windows-cpu-autoscaling-group-i-0c55ff5f71b100e98-1\\xgboost\\xgboost-ci-windows\\src\\learner.cc:740: \n",
      "Parameters: { \"use_label_encoder\" } are not used.\n",
      "\n",
      "  warnings.warn(smsg, UserWarning)\n",
      "c:\\Users\\yacin\\AppData\\Local\\Programs\\Python\\Python310\\lib\\site-packages\\xgboost\\core.py:158: UserWarning: [00:21:03] WARNING: C:\\buildkite-agent\\builds\\buildkite-windows-cpu-autoscaling-group-i-0c55ff5f71b100e98-1\\xgboost\\xgboost-ci-windows\\src\\learner.cc:740: \n",
      "Parameters: { \"use_label_encoder\" } are not used.\n",
      "\n",
      "  warnings.warn(smsg, UserWarning)\n",
      "c:\\Users\\yacin\\AppData\\Local\\Programs\\Python\\Python310\\lib\\site-packages\\xgboost\\core.py:158: UserWarning: [00:21:03] WARNING: C:\\buildkite-agent\\builds\\buildkite-windows-cpu-autoscaling-group-i-0c55ff5f71b100e98-1\\xgboost\\xgboost-ci-windows\\src\\learner.cc:740: \n",
      "Parameters: { \"use_label_encoder\" } are not used.\n",
      "\n",
      "  warnings.warn(smsg, UserWarning)\n",
      "c:\\Users\\yacin\\AppData\\Local\\Programs\\Python\\Python310\\lib\\site-packages\\xgboost\\core.py:158: UserWarning: [00:21:04] WARNING: C:\\buildkite-agent\\builds\\buildkite-windows-cpu-autoscaling-group-i-0c55ff5f71b100e98-1\\xgboost\\xgboost-ci-windows\\src\\learner.cc:740: \n",
      "Parameters: { \"use_label_encoder\" } are not used.\n",
      "\n",
      "  warnings.warn(smsg, UserWarning)\n",
      "c:\\Users\\yacin\\AppData\\Local\\Programs\\Python\\Python310\\lib\\site-packages\\xgboost\\core.py:158: UserWarning: [00:21:04] WARNING: C:\\buildkite-agent\\builds\\buildkite-windows-cpu-autoscaling-group-i-0c55ff5f71b100e98-1\\xgboost\\xgboost-ci-windows\\src\\learner.cc:740: \n",
      "Parameters: { \"use_label_encoder\" } are not used.\n",
      "\n",
      "  warnings.warn(smsg, UserWarning)\n",
      "c:\\Users\\yacin\\AppData\\Local\\Programs\\Python\\Python310\\lib\\site-packages\\xgboost\\core.py:158: UserWarning: [00:21:05] WARNING: C:\\buildkite-agent\\builds\\buildkite-windows-cpu-autoscaling-group-i-0c55ff5f71b100e98-1\\xgboost\\xgboost-ci-windows\\src\\learner.cc:740: \n",
      "Parameters: { \"use_label_encoder\" } are not used.\n",
      "\n",
      "  warnings.warn(smsg, UserWarning)\n",
      "c:\\Users\\yacin\\AppData\\Local\\Programs\\Python\\Python310\\lib\\site-packages\\xgboost\\core.py:158: UserWarning: [00:21:05] WARNING: C:\\buildkite-agent\\builds\\buildkite-windows-cpu-autoscaling-group-i-0c55ff5f71b100e98-1\\xgboost\\xgboost-ci-windows\\src\\learner.cc:740: \n",
      "Parameters: { \"use_label_encoder\" } are not used.\n",
      "\n",
      "  warnings.warn(smsg, UserWarning)\n",
      "c:\\Users\\yacin\\AppData\\Local\\Programs\\Python\\Python310\\lib\\site-packages\\xgboost\\core.py:158: UserWarning: [00:21:06] WARNING: C:\\buildkite-agent\\builds\\buildkite-windows-cpu-autoscaling-group-i-0c55ff5f71b100e98-1\\xgboost\\xgboost-ci-windows\\src\\learner.cc:740: \n",
      "Parameters: { \"use_label_encoder\" } are not used.\n",
      "\n",
      "  warnings.warn(smsg, UserWarning)\n",
      "c:\\Users\\yacin\\AppData\\Local\\Programs\\Python\\Python310\\lib\\site-packages\\xgboost\\core.py:158: UserWarning: [00:21:06] WARNING: C:\\buildkite-agent\\builds\\buildkite-windows-cpu-autoscaling-group-i-0c55ff5f71b100e98-1\\xgboost\\xgboost-ci-windows\\src\\learner.cc:740: \n",
      "Parameters: { \"use_label_encoder\" } are not used.\n",
      "\n",
      "  warnings.warn(smsg, UserWarning)\n",
      "c:\\Users\\yacin\\AppData\\Local\\Programs\\Python\\Python310\\lib\\site-packages\\xgboost\\core.py:158: UserWarning: [00:21:07] WARNING: C:\\buildkite-agent\\builds\\buildkite-windows-cpu-autoscaling-group-i-0c55ff5f71b100e98-1\\xgboost\\xgboost-ci-windows\\src\\learner.cc:740: \n",
      "Parameters: { \"use_label_encoder\" } are not used.\n",
      "\n",
      "  warnings.warn(smsg, UserWarning)\n",
      "c:\\Users\\yacin\\AppData\\Local\\Programs\\Python\\Python310\\lib\\site-packages\\xgboost\\core.py:158: UserWarning: [00:21:07] WARNING: C:\\buildkite-agent\\builds\\buildkite-windows-cpu-autoscaling-group-i-0c55ff5f71b100e98-1\\xgboost\\xgboost-ci-windows\\src\\learner.cc:740: \n",
      "Parameters: { \"use_label_encoder\" } are not used.\n",
      "\n",
      "  warnings.warn(smsg, UserWarning)\n",
      "c:\\Users\\yacin\\AppData\\Local\\Programs\\Python\\Python310\\lib\\site-packages\\xgboost\\core.py:158: UserWarning: [00:21:08] WARNING: C:\\buildkite-agent\\builds\\buildkite-windows-cpu-autoscaling-group-i-0c55ff5f71b100e98-1\\xgboost\\xgboost-ci-windows\\src\\learner.cc:740: \n",
      "Parameters: { \"use_label_encoder\" } are not used.\n",
      "\n",
      "  warnings.warn(smsg, UserWarning)\n",
      "c:\\Users\\yacin\\AppData\\Local\\Programs\\Python\\Python310\\lib\\site-packages\\xgboost\\core.py:158: UserWarning: [00:21:09] WARNING: C:\\buildkite-agent\\builds\\buildkite-windows-cpu-autoscaling-group-i-0c55ff5f71b100e98-1\\xgboost\\xgboost-ci-windows\\src\\learner.cc:740: \n",
      "Parameters: { \"use_label_encoder\" } are not used.\n",
      "\n",
      "  warnings.warn(smsg, UserWarning)\n",
      "c:\\Users\\yacin\\AppData\\Local\\Programs\\Python\\Python310\\lib\\site-packages\\xgboost\\core.py:158: UserWarning: [00:21:11] WARNING: C:\\buildkite-agent\\builds\\buildkite-windows-cpu-autoscaling-group-i-0c55ff5f71b100e98-1\\xgboost\\xgboost-ci-windows\\src\\learner.cc:740: \n",
      "Parameters: { \"use_label_encoder\" } are not used.\n",
      "\n",
      "  warnings.warn(smsg, UserWarning)\n",
      "c:\\Users\\yacin\\AppData\\Local\\Programs\\Python\\Python310\\lib\\site-packages\\xgboost\\core.py:158: UserWarning: [00:21:12] WARNING: C:\\buildkite-agent\\builds\\buildkite-windows-cpu-autoscaling-group-i-0c55ff5f71b100e98-1\\xgboost\\xgboost-ci-windows\\src\\learner.cc:740: \n",
      "Parameters: { \"use_label_encoder\" } are not used.\n",
      "\n",
      "  warnings.warn(smsg, UserWarning)\n",
      "c:\\Users\\yacin\\AppData\\Local\\Programs\\Python\\Python310\\lib\\site-packages\\xgboost\\core.py:158: UserWarning: [00:21:13] WARNING: C:\\buildkite-agent\\builds\\buildkite-windows-cpu-autoscaling-group-i-0c55ff5f71b100e98-1\\xgboost\\xgboost-ci-windows\\src\\learner.cc:740: \n",
      "Parameters: { \"use_label_encoder\" } are not used.\n",
      "\n",
      "  warnings.warn(smsg, UserWarning)\n",
      "c:\\Users\\yacin\\AppData\\Local\\Programs\\Python\\Python310\\lib\\site-packages\\xgboost\\core.py:158: UserWarning: [00:21:14] WARNING: C:\\buildkite-agent\\builds\\buildkite-windows-cpu-autoscaling-group-i-0c55ff5f71b100e98-1\\xgboost\\xgboost-ci-windows\\src\\learner.cc:740: \n",
      "Parameters: { \"use_label_encoder\" } are not used.\n",
      "\n",
      "  warnings.warn(smsg, UserWarning)\n",
      "c:\\Users\\yacin\\AppData\\Local\\Programs\\Python\\Python310\\lib\\site-packages\\xgboost\\core.py:158: UserWarning: [00:21:15] WARNING: C:\\buildkite-agent\\builds\\buildkite-windows-cpu-autoscaling-group-i-0c55ff5f71b100e98-1\\xgboost\\xgboost-ci-windows\\src\\learner.cc:740: \n",
      "Parameters: { \"use_label_encoder\" } are not used.\n",
      "\n",
      "  warnings.warn(smsg, UserWarning)\n",
      "c:\\Users\\yacin\\AppData\\Local\\Programs\\Python\\Python310\\lib\\site-packages\\xgboost\\core.py:158: UserWarning: [00:21:15] WARNING: C:\\buildkite-agent\\builds\\buildkite-windows-cpu-autoscaling-group-i-0c55ff5f71b100e98-1\\xgboost\\xgboost-ci-windows\\src\\learner.cc:740: \n",
      "Parameters: { \"use_label_encoder\" } are not used.\n",
      "\n",
      "  warnings.warn(smsg, UserWarning)\n",
      "c:\\Users\\yacin\\AppData\\Local\\Programs\\Python\\Python310\\lib\\site-packages\\xgboost\\core.py:158: UserWarning: [00:21:16] WARNING: C:\\buildkite-agent\\builds\\buildkite-windows-cpu-autoscaling-group-i-0c55ff5f71b100e98-1\\xgboost\\xgboost-ci-windows\\src\\learner.cc:740: \n",
      "Parameters: { \"use_label_encoder\" } are not used.\n",
      "\n",
      "  warnings.warn(smsg, UserWarning)\n",
      "c:\\Users\\yacin\\AppData\\Local\\Programs\\Python\\Python310\\lib\\site-packages\\xgboost\\core.py:158: UserWarning: [00:21:17] WARNING: C:\\buildkite-agent\\builds\\buildkite-windows-cpu-autoscaling-group-i-0c55ff5f71b100e98-1\\xgboost\\xgboost-ci-windows\\src\\learner.cc:740: \n",
      "Parameters: { \"use_label_encoder\" } are not used.\n",
      "\n",
      "  warnings.warn(smsg, UserWarning)\n",
      "c:\\Users\\yacin\\AppData\\Local\\Programs\\Python\\Python310\\lib\\site-packages\\xgboost\\core.py:158: UserWarning: [00:21:18] WARNING: C:\\buildkite-agent\\builds\\buildkite-windows-cpu-autoscaling-group-i-0c55ff5f71b100e98-1\\xgboost\\xgboost-ci-windows\\src\\learner.cc:740: \n",
      "Parameters: { \"use_label_encoder\" } are not used.\n",
      "\n",
      "  warnings.warn(smsg, UserWarning)\n",
      "c:\\Users\\yacin\\AppData\\Local\\Programs\\Python\\Python310\\lib\\site-packages\\xgboost\\core.py:158: UserWarning: [00:21:19] WARNING: C:\\buildkite-agent\\builds\\buildkite-windows-cpu-autoscaling-group-i-0c55ff5f71b100e98-1\\xgboost\\xgboost-ci-windows\\src\\learner.cc:740: \n",
      "Parameters: { \"use_label_encoder\" } are not used.\n",
      "\n",
      "  warnings.warn(smsg, UserWarning)\n",
      "c:\\Users\\yacin\\AppData\\Local\\Programs\\Python\\Python310\\lib\\site-packages\\xgboost\\core.py:158: UserWarning: [00:21:19] WARNING: C:\\buildkite-agent\\builds\\buildkite-windows-cpu-autoscaling-group-i-0c55ff5f71b100e98-1\\xgboost\\xgboost-ci-windows\\src\\learner.cc:740: \n",
      "Parameters: { \"use_label_encoder\" } are not used.\n",
      "\n",
      "  warnings.warn(smsg, UserWarning)\n",
      "c:\\Users\\yacin\\AppData\\Local\\Programs\\Python\\Python310\\lib\\site-packages\\xgboost\\core.py:158: UserWarning: [00:21:20] WARNING: C:\\buildkite-agent\\builds\\buildkite-windows-cpu-autoscaling-group-i-0c55ff5f71b100e98-1\\xgboost\\xgboost-ci-windows\\src\\learner.cc:740: \n",
      "Parameters: { \"use_label_encoder\" } are not used.\n",
      "\n",
      "  warnings.warn(smsg, UserWarning)\n",
      "c:\\Users\\yacin\\AppData\\Local\\Programs\\Python\\Python310\\lib\\site-packages\\xgboost\\core.py:158: UserWarning: [00:21:21] WARNING: C:\\buildkite-agent\\builds\\buildkite-windows-cpu-autoscaling-group-i-0c55ff5f71b100e98-1\\xgboost\\xgboost-ci-windows\\src\\learner.cc:740: \n",
      "Parameters: { \"use_label_encoder\" } are not used.\n",
      "\n",
      "  warnings.warn(smsg, UserWarning)\n",
      "c:\\Users\\yacin\\AppData\\Local\\Programs\\Python\\Python310\\lib\\site-packages\\xgboost\\core.py:158: UserWarning: [00:21:22] WARNING: C:\\buildkite-agent\\builds\\buildkite-windows-cpu-autoscaling-group-i-0c55ff5f71b100e98-1\\xgboost\\xgboost-ci-windows\\src\\learner.cc:740: \n",
      "Parameters: { \"use_label_encoder\" } are not used.\n",
      "\n",
      "  warnings.warn(smsg, UserWarning)\n",
      "c:\\Users\\yacin\\AppData\\Local\\Programs\\Python\\Python310\\lib\\site-packages\\xgboost\\core.py:158: UserWarning: [00:21:22] WARNING: C:\\buildkite-agent\\builds\\buildkite-windows-cpu-autoscaling-group-i-0c55ff5f71b100e98-1\\xgboost\\xgboost-ci-windows\\src\\learner.cc:740: \n",
      "Parameters: { \"use_label_encoder\" } are not used.\n",
      "\n",
      "  warnings.warn(smsg, UserWarning)\n",
      "c:\\Users\\yacin\\AppData\\Local\\Programs\\Python\\Python310\\lib\\site-packages\\xgboost\\core.py:158: UserWarning: [00:21:23] WARNING: C:\\buildkite-agent\\builds\\buildkite-windows-cpu-autoscaling-group-i-0c55ff5f71b100e98-1\\xgboost\\xgboost-ci-windows\\src\\learner.cc:740: \n",
      "Parameters: { \"use_label_encoder\" } are not used.\n",
      "\n",
      "  warnings.warn(smsg, UserWarning)\n",
      "c:\\Users\\yacin\\AppData\\Local\\Programs\\Python\\Python310\\lib\\site-packages\\xgboost\\core.py:158: UserWarning: [00:21:24] WARNING: C:\\buildkite-agent\\builds\\buildkite-windows-cpu-autoscaling-group-i-0c55ff5f71b100e98-1\\xgboost\\xgboost-ci-windows\\src\\learner.cc:740: \n",
      "Parameters: { \"use_label_encoder\" } are not used.\n",
      "\n",
      "  warnings.warn(smsg, UserWarning)\n",
      "c:\\Users\\yacin\\AppData\\Local\\Programs\\Python\\Python310\\lib\\site-packages\\xgboost\\core.py:158: UserWarning: [00:21:24] WARNING: C:\\buildkite-agent\\builds\\buildkite-windows-cpu-autoscaling-group-i-0c55ff5f71b100e98-1\\xgboost\\xgboost-ci-windows\\src\\learner.cc:740: \n",
      "Parameters: { \"use_label_encoder\" } are not used.\n",
      "\n",
      "  warnings.warn(smsg, UserWarning)\n",
      "c:\\Users\\yacin\\AppData\\Local\\Programs\\Python\\Python310\\lib\\site-packages\\xgboost\\core.py:158: UserWarning: [00:21:26] WARNING: C:\\buildkite-agent\\builds\\buildkite-windows-cpu-autoscaling-group-i-0c55ff5f71b100e98-1\\xgboost\\xgboost-ci-windows\\src\\learner.cc:740: \n",
      "Parameters: { \"use_label_encoder\" } are not used.\n",
      "\n",
      "  warnings.warn(smsg, UserWarning)\n",
      "c:\\Users\\yacin\\AppData\\Local\\Programs\\Python\\Python310\\lib\\site-packages\\xgboost\\core.py:158: UserWarning: [00:21:27] WARNING: C:\\buildkite-agent\\builds\\buildkite-windows-cpu-autoscaling-group-i-0c55ff5f71b100e98-1\\xgboost\\xgboost-ci-windows\\src\\learner.cc:740: \n",
      "Parameters: { \"use_label_encoder\" } are not used.\n",
      "\n",
      "  warnings.warn(smsg, UserWarning)\n",
      "c:\\Users\\yacin\\AppData\\Local\\Programs\\Python\\Python310\\lib\\site-packages\\xgboost\\core.py:158: UserWarning: [00:21:29] WARNING: C:\\buildkite-agent\\builds\\buildkite-windows-cpu-autoscaling-group-i-0c55ff5f71b100e98-1\\xgboost\\xgboost-ci-windows\\src\\learner.cc:740: \n",
      "Parameters: { \"use_label_encoder\" } are not used.\n",
      "\n",
      "  warnings.warn(smsg, UserWarning)\n",
      "c:\\Users\\yacin\\AppData\\Local\\Programs\\Python\\Python310\\lib\\site-packages\\xgboost\\core.py:158: UserWarning: [00:21:30] WARNING: C:\\buildkite-agent\\builds\\buildkite-windows-cpu-autoscaling-group-i-0c55ff5f71b100e98-1\\xgboost\\xgboost-ci-windows\\src\\learner.cc:740: \n",
      "Parameters: { \"use_label_encoder\" } are not used.\n",
      "\n",
      "  warnings.warn(smsg, UserWarning)\n",
      "c:\\Users\\yacin\\AppData\\Local\\Programs\\Python\\Python310\\lib\\site-packages\\xgboost\\core.py:158: UserWarning: [00:21:31] WARNING: C:\\buildkite-agent\\builds\\buildkite-windows-cpu-autoscaling-group-i-0c55ff5f71b100e98-1\\xgboost\\xgboost-ci-windows\\src\\learner.cc:740: \n",
      "Parameters: { \"use_label_encoder\" } are not used.\n",
      "\n",
      "  warnings.warn(smsg, UserWarning)\n",
      "c:\\Users\\yacin\\AppData\\Local\\Programs\\Python\\Python310\\lib\\site-packages\\xgboost\\core.py:158: UserWarning: [00:21:33] WARNING: C:\\buildkite-agent\\builds\\buildkite-windows-cpu-autoscaling-group-i-0c55ff5f71b100e98-1\\xgboost\\xgboost-ci-windows\\src\\learner.cc:740: \n",
      "Parameters: { \"use_label_encoder\" } are not used.\n",
      "\n",
      "  warnings.warn(smsg, UserWarning)\n",
      "c:\\Users\\yacin\\AppData\\Local\\Programs\\Python\\Python310\\lib\\site-packages\\xgboost\\core.py:158: UserWarning: [00:21:34] WARNING: C:\\buildkite-agent\\builds\\buildkite-windows-cpu-autoscaling-group-i-0c55ff5f71b100e98-1\\xgboost\\xgboost-ci-windows\\src\\learner.cc:740: \n",
      "Parameters: { \"use_label_encoder\" } are not used.\n",
      "\n",
      "  warnings.warn(smsg, UserWarning)\n",
      "c:\\Users\\yacin\\AppData\\Local\\Programs\\Python\\Python310\\lib\\site-packages\\xgboost\\core.py:158: UserWarning: [00:21:35] WARNING: C:\\buildkite-agent\\builds\\buildkite-windows-cpu-autoscaling-group-i-0c55ff5f71b100e98-1\\xgboost\\xgboost-ci-windows\\src\\learner.cc:740: \n",
      "Parameters: { \"use_label_encoder\" } are not used.\n",
      "\n",
      "  warnings.warn(smsg, UserWarning)\n",
      "c:\\Users\\yacin\\AppData\\Local\\Programs\\Python\\Python310\\lib\\site-packages\\xgboost\\core.py:158: UserWarning: [00:21:37] WARNING: C:\\buildkite-agent\\builds\\buildkite-windows-cpu-autoscaling-group-i-0c55ff5f71b100e98-1\\xgboost\\xgboost-ci-windows\\src\\learner.cc:740: \n",
      "Parameters: { \"use_label_encoder\" } are not used.\n",
      "\n",
      "  warnings.warn(smsg, UserWarning)\n",
      "c:\\Users\\yacin\\AppData\\Local\\Programs\\Python\\Python310\\lib\\site-packages\\xgboost\\core.py:158: UserWarning: [00:21:38] WARNING: C:\\buildkite-agent\\builds\\buildkite-windows-cpu-autoscaling-group-i-0c55ff5f71b100e98-1\\xgboost\\xgboost-ci-windows\\src\\learner.cc:740: \n",
      "Parameters: { \"use_label_encoder\" } are not used.\n",
      "\n",
      "  warnings.warn(smsg, UserWarning)\n",
      "c:\\Users\\yacin\\AppData\\Local\\Programs\\Python\\Python310\\lib\\site-packages\\xgboost\\core.py:158: UserWarning: [00:21:39] WARNING: C:\\buildkite-agent\\builds\\buildkite-windows-cpu-autoscaling-group-i-0c55ff5f71b100e98-1\\xgboost\\xgboost-ci-windows\\src\\learner.cc:740: \n",
      "Parameters: { \"use_label_encoder\" } are not used.\n",
      "\n",
      "  warnings.warn(smsg, UserWarning)\n",
      "c:\\Users\\yacin\\AppData\\Local\\Programs\\Python\\Python310\\lib\\site-packages\\xgboost\\core.py:158: UserWarning: [00:21:39] WARNING: C:\\buildkite-agent\\builds\\buildkite-windows-cpu-autoscaling-group-i-0c55ff5f71b100e98-1\\xgboost\\xgboost-ci-windows\\src\\learner.cc:740: \n",
      "Parameters: { \"use_label_encoder\" } are not used.\n",
      "\n",
      "  warnings.warn(smsg, UserWarning)\n",
      "c:\\Users\\yacin\\AppData\\Local\\Programs\\Python\\Python310\\lib\\site-packages\\xgboost\\core.py:158: UserWarning: [00:21:39] WARNING: C:\\buildkite-agent\\builds\\buildkite-windows-cpu-autoscaling-group-i-0c55ff5f71b100e98-1\\xgboost\\xgboost-ci-windows\\src\\learner.cc:740: \n",
      "Parameters: { \"use_label_encoder\" } are not used.\n",
      "\n",
      "  warnings.warn(smsg, UserWarning)\n",
      "c:\\Users\\yacin\\AppData\\Local\\Programs\\Python\\Python310\\lib\\site-packages\\xgboost\\core.py:158: UserWarning: [00:21:40] WARNING: C:\\buildkite-agent\\builds\\buildkite-windows-cpu-autoscaling-group-i-0c55ff5f71b100e98-1\\xgboost\\xgboost-ci-windows\\src\\learner.cc:740: \n",
      "Parameters: { \"use_label_encoder\" } are not used.\n",
      "\n",
      "  warnings.warn(smsg, UserWarning)\n",
      "c:\\Users\\yacin\\AppData\\Local\\Programs\\Python\\Python310\\lib\\site-packages\\xgboost\\core.py:158: UserWarning: [00:21:40] WARNING: C:\\buildkite-agent\\builds\\buildkite-windows-cpu-autoscaling-group-i-0c55ff5f71b100e98-1\\xgboost\\xgboost-ci-windows\\src\\learner.cc:740: \n",
      "Parameters: { \"use_label_encoder\" } are not used.\n",
      "\n",
      "  warnings.warn(smsg, UserWarning)\n",
      "c:\\Users\\yacin\\AppData\\Local\\Programs\\Python\\Python310\\lib\\site-packages\\xgboost\\core.py:158: UserWarning: [00:21:41] WARNING: C:\\buildkite-agent\\builds\\buildkite-windows-cpu-autoscaling-group-i-0c55ff5f71b100e98-1\\xgboost\\xgboost-ci-windows\\src\\learner.cc:740: \n",
      "Parameters: { \"use_label_encoder\" } are not used.\n",
      "\n",
      "  warnings.warn(smsg, UserWarning)\n",
      "c:\\Users\\yacin\\AppData\\Local\\Programs\\Python\\Python310\\lib\\site-packages\\xgboost\\core.py:158: UserWarning: [00:21:41] WARNING: C:\\buildkite-agent\\builds\\buildkite-windows-cpu-autoscaling-group-i-0c55ff5f71b100e98-1\\xgboost\\xgboost-ci-windows\\src\\learner.cc:740: \n",
      "Parameters: { \"use_label_encoder\" } are not used.\n",
      "\n",
      "  warnings.warn(smsg, UserWarning)\n",
      "c:\\Users\\yacin\\AppData\\Local\\Programs\\Python\\Python310\\lib\\site-packages\\xgboost\\core.py:158: UserWarning: [00:21:41] WARNING: C:\\buildkite-agent\\builds\\buildkite-windows-cpu-autoscaling-group-i-0c55ff5f71b100e98-1\\xgboost\\xgboost-ci-windows\\src\\learner.cc:740: \n",
      "Parameters: { \"use_label_encoder\" } are not used.\n",
      "\n",
      "  warnings.warn(smsg, UserWarning)\n",
      "c:\\Users\\yacin\\AppData\\Local\\Programs\\Python\\Python310\\lib\\site-packages\\xgboost\\core.py:158: UserWarning: [00:21:42] WARNING: C:\\buildkite-agent\\builds\\buildkite-windows-cpu-autoscaling-group-i-0c55ff5f71b100e98-1\\xgboost\\xgboost-ci-windows\\src\\learner.cc:740: \n",
      "Parameters: { \"use_label_encoder\" } are not used.\n",
      "\n",
      "  warnings.warn(smsg, UserWarning)\n",
      "c:\\Users\\yacin\\AppData\\Local\\Programs\\Python\\Python310\\lib\\site-packages\\xgboost\\core.py:158: UserWarning: [00:21:42] WARNING: C:\\buildkite-agent\\builds\\buildkite-windows-cpu-autoscaling-group-i-0c55ff5f71b100e98-1\\xgboost\\xgboost-ci-windows\\src\\learner.cc:740: \n",
      "Parameters: { \"use_label_encoder\" } are not used.\n",
      "\n",
      "  warnings.warn(smsg, UserWarning)\n",
      "c:\\Users\\yacin\\AppData\\Local\\Programs\\Python\\Python310\\lib\\site-packages\\xgboost\\core.py:158: UserWarning: [00:21:43] WARNING: C:\\buildkite-agent\\builds\\buildkite-windows-cpu-autoscaling-group-i-0c55ff5f71b100e98-1\\xgboost\\xgboost-ci-windows\\src\\learner.cc:740: \n",
      "Parameters: { \"use_label_encoder\" } are not used.\n",
      "\n",
      "  warnings.warn(smsg, UserWarning)\n",
      "c:\\Users\\yacin\\AppData\\Local\\Programs\\Python\\Python310\\lib\\site-packages\\xgboost\\core.py:158: UserWarning: [00:21:44] WARNING: C:\\buildkite-agent\\builds\\buildkite-windows-cpu-autoscaling-group-i-0c55ff5f71b100e98-1\\xgboost\\xgboost-ci-windows\\src\\learner.cc:740: \n",
      "Parameters: { \"use_label_encoder\" } are not used.\n",
      "\n",
      "  warnings.warn(smsg, UserWarning)\n",
      "c:\\Users\\yacin\\AppData\\Local\\Programs\\Python\\Python310\\lib\\site-packages\\xgboost\\core.py:158: UserWarning: [00:21:44] WARNING: C:\\buildkite-agent\\builds\\buildkite-windows-cpu-autoscaling-group-i-0c55ff5f71b100e98-1\\xgboost\\xgboost-ci-windows\\src\\learner.cc:740: \n",
      "Parameters: { \"use_label_encoder\" } are not used.\n",
      "\n",
      "  warnings.warn(smsg, UserWarning)\n",
      "c:\\Users\\yacin\\AppData\\Local\\Programs\\Python\\Python310\\lib\\site-packages\\xgboost\\core.py:158: UserWarning: [00:21:45] WARNING: C:\\buildkite-agent\\builds\\buildkite-windows-cpu-autoscaling-group-i-0c55ff5f71b100e98-1\\xgboost\\xgboost-ci-windows\\src\\learner.cc:740: \n",
      "Parameters: { \"use_label_encoder\" } are not used.\n",
      "\n",
      "  warnings.warn(smsg, UserWarning)\n",
      "c:\\Users\\yacin\\AppData\\Local\\Programs\\Python\\Python310\\lib\\site-packages\\xgboost\\core.py:158: UserWarning: [00:21:46] WARNING: C:\\buildkite-agent\\builds\\buildkite-windows-cpu-autoscaling-group-i-0c55ff5f71b100e98-1\\xgboost\\xgboost-ci-windows\\src\\learner.cc:740: \n",
      "Parameters: { \"use_label_encoder\" } are not used.\n",
      "\n",
      "  warnings.warn(smsg, UserWarning)\n",
      "c:\\Users\\yacin\\AppData\\Local\\Programs\\Python\\Python310\\lib\\site-packages\\xgboost\\core.py:158: UserWarning: [00:21:46] WARNING: C:\\buildkite-agent\\builds\\buildkite-windows-cpu-autoscaling-group-i-0c55ff5f71b100e98-1\\xgboost\\xgboost-ci-windows\\src\\learner.cc:740: \n",
      "Parameters: { \"use_label_encoder\" } are not used.\n",
      "\n",
      "  warnings.warn(smsg, UserWarning)\n",
      "c:\\Users\\yacin\\AppData\\Local\\Programs\\Python\\Python310\\lib\\site-packages\\xgboost\\core.py:158: UserWarning: [00:21:47] WARNING: C:\\buildkite-agent\\builds\\buildkite-windows-cpu-autoscaling-group-i-0c55ff5f71b100e98-1\\xgboost\\xgboost-ci-windows\\src\\learner.cc:740: \n",
      "Parameters: { \"use_label_encoder\" } are not used.\n",
      "\n",
      "  warnings.warn(smsg, UserWarning)\n",
      "c:\\Users\\yacin\\AppData\\Local\\Programs\\Python\\Python310\\lib\\site-packages\\xgboost\\core.py:158: UserWarning: [00:21:48] WARNING: C:\\buildkite-agent\\builds\\buildkite-windows-cpu-autoscaling-group-i-0c55ff5f71b100e98-1\\xgboost\\xgboost-ci-windows\\src\\learner.cc:740: \n",
      "Parameters: { \"use_label_encoder\" } are not used.\n",
      "\n",
      "  warnings.warn(smsg, UserWarning)\n",
      "c:\\Users\\yacin\\AppData\\Local\\Programs\\Python\\Python310\\lib\\site-packages\\xgboost\\core.py:158: UserWarning: [00:21:48] WARNING: C:\\buildkite-agent\\builds\\buildkite-windows-cpu-autoscaling-group-i-0c55ff5f71b100e98-1\\xgboost\\xgboost-ci-windows\\src\\learner.cc:740: \n",
      "Parameters: { \"use_label_encoder\" } are not used.\n",
      "\n",
      "  warnings.warn(smsg, UserWarning)\n",
      "c:\\Users\\yacin\\AppData\\Local\\Programs\\Python\\Python310\\lib\\site-packages\\xgboost\\core.py:158: UserWarning: [00:21:49] WARNING: C:\\buildkite-agent\\builds\\buildkite-windows-cpu-autoscaling-group-i-0c55ff5f71b100e98-1\\xgboost\\xgboost-ci-windows\\src\\learner.cc:740: \n",
      "Parameters: { \"use_label_encoder\" } are not used.\n",
      "\n",
      "  warnings.warn(smsg, UserWarning)\n",
      "c:\\Users\\yacin\\AppData\\Local\\Programs\\Python\\Python310\\lib\\site-packages\\xgboost\\core.py:158: UserWarning: [00:21:50] WARNING: C:\\buildkite-agent\\builds\\buildkite-windows-cpu-autoscaling-group-i-0c55ff5f71b100e98-1\\xgboost\\xgboost-ci-windows\\src\\learner.cc:740: \n",
      "Parameters: { \"use_label_encoder\" } are not used.\n",
      "\n",
      "  warnings.warn(smsg, UserWarning)\n",
      "c:\\Users\\yacin\\AppData\\Local\\Programs\\Python\\Python310\\lib\\site-packages\\xgboost\\core.py:158: UserWarning: [00:21:50] WARNING: C:\\buildkite-agent\\builds\\buildkite-windows-cpu-autoscaling-group-i-0c55ff5f71b100e98-1\\xgboost\\xgboost-ci-windows\\src\\learner.cc:740: \n",
      "Parameters: { \"use_label_encoder\" } are not used.\n",
      "\n",
      "  warnings.warn(smsg, UserWarning)\n",
      "c:\\Users\\yacin\\AppData\\Local\\Programs\\Python\\Python310\\lib\\site-packages\\xgboost\\core.py:158: UserWarning: [00:21:51] WARNING: C:\\buildkite-agent\\builds\\buildkite-windows-cpu-autoscaling-group-i-0c55ff5f71b100e98-1\\xgboost\\xgboost-ci-windows\\src\\learner.cc:740: \n",
      "Parameters: { \"use_label_encoder\" } are not used.\n",
      "\n",
      "  warnings.warn(smsg, UserWarning)\n",
      "c:\\Users\\yacin\\AppData\\Local\\Programs\\Python\\Python310\\lib\\site-packages\\xgboost\\core.py:158: UserWarning: [00:21:51] WARNING: C:\\buildkite-agent\\builds\\buildkite-windows-cpu-autoscaling-group-i-0c55ff5f71b100e98-1\\xgboost\\xgboost-ci-windows\\src\\learner.cc:740: \n",
      "Parameters: { \"use_label_encoder\" } are not used.\n",
      "\n",
      "  warnings.warn(smsg, UserWarning)\n",
      "c:\\Users\\yacin\\AppData\\Local\\Programs\\Python\\Python310\\lib\\site-packages\\xgboost\\core.py:158: UserWarning: [00:21:52] WARNING: C:\\buildkite-agent\\builds\\buildkite-windows-cpu-autoscaling-group-i-0c55ff5f71b100e98-1\\xgboost\\xgboost-ci-windows\\src\\learner.cc:740: \n",
      "Parameters: { \"use_label_encoder\" } are not used.\n",
      "\n",
      "  warnings.warn(smsg, UserWarning)\n",
      "c:\\Users\\yacin\\AppData\\Local\\Programs\\Python\\Python310\\lib\\site-packages\\xgboost\\core.py:158: UserWarning: [00:21:52] WARNING: C:\\buildkite-agent\\builds\\buildkite-windows-cpu-autoscaling-group-i-0c55ff5f71b100e98-1\\xgboost\\xgboost-ci-windows\\src\\learner.cc:740: \n",
      "Parameters: { \"use_label_encoder\" } are not used.\n",
      "\n",
      "  warnings.warn(smsg, UserWarning)\n",
      "c:\\Users\\yacin\\AppData\\Local\\Programs\\Python\\Python310\\lib\\site-packages\\xgboost\\core.py:158: UserWarning: [00:21:53] WARNING: C:\\buildkite-agent\\builds\\buildkite-windows-cpu-autoscaling-group-i-0c55ff5f71b100e98-1\\xgboost\\xgboost-ci-windows\\src\\learner.cc:740: \n",
      "Parameters: { \"use_label_encoder\" } are not used.\n",
      "\n",
      "  warnings.warn(smsg, UserWarning)\n",
      "c:\\Users\\yacin\\AppData\\Local\\Programs\\Python\\Python310\\lib\\site-packages\\xgboost\\core.py:158: UserWarning: [00:21:53] WARNING: C:\\buildkite-agent\\builds\\buildkite-windows-cpu-autoscaling-group-i-0c55ff5f71b100e98-1\\xgboost\\xgboost-ci-windows\\src\\learner.cc:740: \n",
      "Parameters: { \"use_label_encoder\" } are not used.\n",
      "\n",
      "  warnings.warn(smsg, UserWarning)\n",
      "c:\\Users\\yacin\\AppData\\Local\\Programs\\Python\\Python310\\lib\\site-packages\\xgboost\\core.py:158: UserWarning: [00:21:54] WARNING: C:\\buildkite-agent\\builds\\buildkite-windows-cpu-autoscaling-group-i-0c55ff5f71b100e98-1\\xgboost\\xgboost-ci-windows\\src\\learner.cc:740: \n",
      "Parameters: { \"use_label_encoder\" } are not used.\n",
      "\n",
      "  warnings.warn(smsg, UserWarning)\n",
      "c:\\Users\\yacin\\AppData\\Local\\Programs\\Python\\Python310\\lib\\site-packages\\xgboost\\core.py:158: UserWarning: [00:21:54] WARNING: C:\\buildkite-agent\\builds\\buildkite-windows-cpu-autoscaling-group-i-0c55ff5f71b100e98-1\\xgboost\\xgboost-ci-windows\\src\\learner.cc:740: \n",
      "Parameters: { \"use_label_encoder\" } are not used.\n",
      "\n",
      "  warnings.warn(smsg, UserWarning)\n",
      "c:\\Users\\yacin\\AppData\\Local\\Programs\\Python\\Python310\\lib\\site-packages\\xgboost\\core.py:158: UserWarning: [00:21:55] WARNING: C:\\buildkite-agent\\builds\\buildkite-windows-cpu-autoscaling-group-i-0c55ff5f71b100e98-1\\xgboost\\xgboost-ci-windows\\src\\learner.cc:740: \n",
      "Parameters: { \"use_label_encoder\" } are not used.\n",
      "\n",
      "  warnings.warn(smsg, UserWarning)\n",
      "c:\\Users\\yacin\\AppData\\Local\\Programs\\Python\\Python310\\lib\\site-packages\\xgboost\\core.py:158: UserWarning: [00:21:56] WARNING: C:\\buildkite-agent\\builds\\buildkite-windows-cpu-autoscaling-group-i-0c55ff5f71b100e98-1\\xgboost\\xgboost-ci-windows\\src\\learner.cc:740: \n",
      "Parameters: { \"use_label_encoder\" } are not used.\n",
      "\n",
      "  warnings.warn(smsg, UserWarning)\n",
      "c:\\Users\\yacin\\AppData\\Local\\Programs\\Python\\Python310\\lib\\site-packages\\xgboost\\core.py:158: UserWarning: [00:21:57] WARNING: C:\\buildkite-agent\\builds\\buildkite-windows-cpu-autoscaling-group-i-0c55ff5f71b100e98-1\\xgboost\\xgboost-ci-windows\\src\\learner.cc:740: \n",
      "Parameters: { \"use_label_encoder\" } are not used.\n",
      "\n",
      "  warnings.warn(smsg, UserWarning)\n",
      "c:\\Users\\yacin\\AppData\\Local\\Programs\\Python\\Python310\\lib\\site-packages\\xgboost\\core.py:158: UserWarning: [00:21:58] WARNING: C:\\buildkite-agent\\builds\\buildkite-windows-cpu-autoscaling-group-i-0c55ff5f71b100e98-1\\xgboost\\xgboost-ci-windows\\src\\learner.cc:740: \n",
      "Parameters: { \"use_label_encoder\" } are not used.\n",
      "\n",
      "  warnings.warn(smsg, UserWarning)\n",
      "c:\\Users\\yacin\\AppData\\Local\\Programs\\Python\\Python310\\lib\\site-packages\\xgboost\\core.py:158: UserWarning: [00:21:59] WARNING: C:\\buildkite-agent\\builds\\buildkite-windows-cpu-autoscaling-group-i-0c55ff5f71b100e98-1\\xgboost\\xgboost-ci-windows\\src\\learner.cc:740: \n",
      "Parameters: { \"use_label_encoder\" } are not used.\n",
      "\n",
      "  warnings.warn(smsg, UserWarning)\n",
      "c:\\Users\\yacin\\AppData\\Local\\Programs\\Python\\Python310\\lib\\site-packages\\xgboost\\core.py:158: UserWarning: [00:22:00] WARNING: C:\\buildkite-agent\\builds\\buildkite-windows-cpu-autoscaling-group-i-0c55ff5f71b100e98-1\\xgboost\\xgboost-ci-windows\\src\\learner.cc:740: \n",
      "Parameters: { \"use_label_encoder\" } are not used.\n",
      "\n",
      "  warnings.warn(smsg, UserWarning)\n",
      "c:\\Users\\yacin\\AppData\\Local\\Programs\\Python\\Python310\\lib\\site-packages\\xgboost\\core.py:158: UserWarning: [00:22:01] WARNING: C:\\buildkite-agent\\builds\\buildkite-windows-cpu-autoscaling-group-i-0c55ff5f71b100e98-1\\xgboost\\xgboost-ci-windows\\src\\learner.cc:740: \n",
      "Parameters: { \"use_label_encoder\" } are not used.\n",
      "\n",
      "  warnings.warn(smsg, UserWarning)\n",
      "c:\\Users\\yacin\\AppData\\Local\\Programs\\Python\\Python310\\lib\\site-packages\\xgboost\\core.py:158: UserWarning: [00:22:02] WARNING: C:\\buildkite-agent\\builds\\buildkite-windows-cpu-autoscaling-group-i-0c55ff5f71b100e98-1\\xgboost\\xgboost-ci-windows\\src\\learner.cc:740: \n",
      "Parameters: { \"use_label_encoder\" } are not used.\n",
      "\n",
      "  warnings.warn(smsg, UserWarning)\n",
      "c:\\Users\\yacin\\AppData\\Local\\Programs\\Python\\Python310\\lib\\site-packages\\xgboost\\core.py:158: UserWarning: [00:22:03] WARNING: C:\\buildkite-agent\\builds\\buildkite-windows-cpu-autoscaling-group-i-0c55ff5f71b100e98-1\\xgboost\\xgboost-ci-windows\\src\\learner.cc:740: \n",
      "Parameters: { \"use_label_encoder\" } are not used.\n",
      "\n",
      "  warnings.warn(smsg, UserWarning)\n",
      "c:\\Users\\yacin\\AppData\\Local\\Programs\\Python\\Python310\\lib\\site-packages\\xgboost\\core.py:158: UserWarning: [00:22:04] WARNING: C:\\buildkite-agent\\builds\\buildkite-windows-cpu-autoscaling-group-i-0c55ff5f71b100e98-1\\xgboost\\xgboost-ci-windows\\src\\learner.cc:740: \n",
      "Parameters: { \"use_label_encoder\" } are not used.\n",
      "\n",
      "  warnings.warn(smsg, UserWarning)\n",
      "c:\\Users\\yacin\\AppData\\Local\\Programs\\Python\\Python310\\lib\\site-packages\\xgboost\\core.py:158: UserWarning: [00:22:05] WARNING: C:\\buildkite-agent\\builds\\buildkite-windows-cpu-autoscaling-group-i-0c55ff5f71b100e98-1\\xgboost\\xgboost-ci-windows\\src\\learner.cc:740: \n",
      "Parameters: { \"use_label_encoder\" } are not used.\n",
      "\n",
      "  warnings.warn(smsg, UserWarning)\n",
      "c:\\Users\\yacin\\AppData\\Local\\Programs\\Python\\Python310\\lib\\site-packages\\xgboost\\core.py:158: UserWarning: [00:22:06] WARNING: C:\\buildkite-agent\\builds\\buildkite-windows-cpu-autoscaling-group-i-0c55ff5f71b100e98-1\\xgboost\\xgboost-ci-windows\\src\\learner.cc:740: \n",
      "Parameters: { \"use_label_encoder\" } are not used.\n",
      "\n",
      "  warnings.warn(smsg, UserWarning)\n",
      "c:\\Users\\yacin\\AppData\\Local\\Programs\\Python\\Python310\\lib\\site-packages\\xgboost\\core.py:158: UserWarning: [00:22:06] WARNING: C:\\buildkite-agent\\builds\\buildkite-windows-cpu-autoscaling-group-i-0c55ff5f71b100e98-1\\xgboost\\xgboost-ci-windows\\src\\learner.cc:740: \n",
      "Parameters: { \"use_label_encoder\" } are not used.\n",
      "\n",
      "  warnings.warn(smsg, UserWarning)\n",
      "c:\\Users\\yacin\\AppData\\Local\\Programs\\Python\\Python310\\lib\\site-packages\\xgboost\\core.py:158: UserWarning: [00:22:07] WARNING: C:\\buildkite-agent\\builds\\buildkite-windows-cpu-autoscaling-group-i-0c55ff5f71b100e98-1\\xgboost\\xgboost-ci-windows\\src\\learner.cc:740: \n",
      "Parameters: { \"use_label_encoder\" } are not used.\n",
      "\n",
      "  warnings.warn(smsg, UserWarning)\n",
      "c:\\Users\\yacin\\AppData\\Local\\Programs\\Python\\Python310\\lib\\site-packages\\xgboost\\core.py:158: UserWarning: [00:22:08] WARNING: C:\\buildkite-agent\\builds\\buildkite-windows-cpu-autoscaling-group-i-0c55ff5f71b100e98-1\\xgboost\\xgboost-ci-windows\\src\\learner.cc:740: \n",
      "Parameters: { \"use_label_encoder\" } are not used.\n",
      "\n",
      "  warnings.warn(smsg, UserWarning)\n",
      "c:\\Users\\yacin\\AppData\\Local\\Programs\\Python\\Python310\\lib\\site-packages\\xgboost\\core.py:158: UserWarning: [00:22:08] WARNING: C:\\buildkite-agent\\builds\\buildkite-windows-cpu-autoscaling-group-i-0c55ff5f71b100e98-1\\xgboost\\xgboost-ci-windows\\src\\learner.cc:740: \n",
      "Parameters: { \"use_label_encoder\" } are not used.\n",
      "\n",
      "  warnings.warn(smsg, UserWarning)\n",
      "c:\\Users\\yacin\\AppData\\Local\\Programs\\Python\\Python310\\lib\\site-packages\\xgboost\\core.py:158: UserWarning: [00:22:09] WARNING: C:\\buildkite-agent\\builds\\buildkite-windows-cpu-autoscaling-group-i-0c55ff5f71b100e98-1\\xgboost\\xgboost-ci-windows\\src\\learner.cc:740: \n",
      "Parameters: { \"use_label_encoder\" } are not used.\n",
      "\n",
      "  warnings.warn(smsg, UserWarning)\n",
      "c:\\Users\\yacin\\AppData\\Local\\Programs\\Python\\Python310\\lib\\site-packages\\xgboost\\core.py:158: UserWarning: [00:22:10] WARNING: C:\\buildkite-agent\\builds\\buildkite-windows-cpu-autoscaling-group-i-0c55ff5f71b100e98-1\\xgboost\\xgboost-ci-windows\\src\\learner.cc:740: \n",
      "Parameters: { \"use_label_encoder\" } are not used.\n",
      "\n",
      "  warnings.warn(smsg, UserWarning)\n",
      "c:\\Users\\yacin\\AppData\\Local\\Programs\\Python\\Python310\\lib\\site-packages\\xgboost\\core.py:158: UserWarning: [00:22:10] WARNING: C:\\buildkite-agent\\builds\\buildkite-windows-cpu-autoscaling-group-i-0c55ff5f71b100e98-1\\xgboost\\xgboost-ci-windows\\src\\learner.cc:740: \n",
      "Parameters: { \"use_label_encoder\" } are not used.\n",
      "\n",
      "  warnings.warn(smsg, UserWarning)\n",
      "c:\\Users\\yacin\\AppData\\Local\\Programs\\Python\\Python310\\lib\\site-packages\\xgboost\\core.py:158: UserWarning: [00:22:11] WARNING: C:\\buildkite-agent\\builds\\buildkite-windows-cpu-autoscaling-group-i-0c55ff5f71b100e98-1\\xgboost\\xgboost-ci-windows\\src\\learner.cc:740: \n",
      "Parameters: { \"use_label_encoder\" } are not used.\n",
      "\n",
      "  warnings.warn(smsg, UserWarning)\n",
      "c:\\Users\\yacin\\AppData\\Local\\Programs\\Python\\Python310\\lib\\site-packages\\xgboost\\core.py:158: UserWarning: [00:22:13] WARNING: C:\\buildkite-agent\\builds\\buildkite-windows-cpu-autoscaling-group-i-0c55ff5f71b100e98-1\\xgboost\\xgboost-ci-windows\\src\\learner.cc:740: \n",
      "Parameters: { \"use_label_encoder\" } are not used.\n",
      "\n",
      "  warnings.warn(smsg, UserWarning)\n",
      "c:\\Users\\yacin\\AppData\\Local\\Programs\\Python\\Python310\\lib\\site-packages\\xgboost\\core.py:158: UserWarning: [00:22:14] WARNING: C:\\buildkite-agent\\builds\\buildkite-windows-cpu-autoscaling-group-i-0c55ff5f71b100e98-1\\xgboost\\xgboost-ci-windows\\src\\learner.cc:740: \n",
      "Parameters: { \"use_label_encoder\" } are not used.\n",
      "\n",
      "  warnings.warn(smsg, UserWarning)\n",
      "c:\\Users\\yacin\\AppData\\Local\\Programs\\Python\\Python310\\lib\\site-packages\\xgboost\\core.py:158: UserWarning: [00:22:15] WARNING: C:\\buildkite-agent\\builds\\buildkite-windows-cpu-autoscaling-group-i-0c55ff5f71b100e98-1\\xgboost\\xgboost-ci-windows\\src\\learner.cc:740: \n",
      "Parameters: { \"use_label_encoder\" } are not used.\n",
      "\n",
      "  warnings.warn(smsg, UserWarning)\n",
      "c:\\Users\\yacin\\AppData\\Local\\Programs\\Python\\Python310\\lib\\site-packages\\xgboost\\core.py:158: UserWarning: [00:22:17] WARNING: C:\\buildkite-agent\\builds\\buildkite-windows-cpu-autoscaling-group-i-0c55ff5f71b100e98-1\\xgboost\\xgboost-ci-windows\\src\\learner.cc:740: \n",
      "Parameters: { \"use_label_encoder\" } are not used.\n",
      "\n",
      "  warnings.warn(smsg, UserWarning)\n",
      "c:\\Users\\yacin\\AppData\\Local\\Programs\\Python\\Python310\\lib\\site-packages\\xgboost\\core.py:158: UserWarning: [00:22:18] WARNING: C:\\buildkite-agent\\builds\\buildkite-windows-cpu-autoscaling-group-i-0c55ff5f71b100e98-1\\xgboost\\xgboost-ci-windows\\src\\learner.cc:740: \n",
      "Parameters: { \"use_label_encoder\" } are not used.\n",
      "\n",
      "  warnings.warn(smsg, UserWarning)\n",
      "c:\\Users\\yacin\\AppData\\Local\\Programs\\Python\\Python310\\lib\\site-packages\\xgboost\\core.py:158: UserWarning: [00:22:19] WARNING: C:\\buildkite-agent\\builds\\buildkite-windows-cpu-autoscaling-group-i-0c55ff5f71b100e98-1\\xgboost\\xgboost-ci-windows\\src\\learner.cc:740: \n",
      "Parameters: { \"use_label_encoder\" } are not used.\n",
      "\n",
      "  warnings.warn(smsg, UserWarning)\n",
      "c:\\Users\\yacin\\AppData\\Local\\Programs\\Python\\Python310\\lib\\site-packages\\xgboost\\core.py:158: UserWarning: [00:22:21] WARNING: C:\\buildkite-agent\\builds\\buildkite-windows-cpu-autoscaling-group-i-0c55ff5f71b100e98-1\\xgboost\\xgboost-ci-windows\\src\\learner.cc:740: \n",
      "Parameters: { \"use_label_encoder\" } are not used.\n",
      "\n",
      "  warnings.warn(smsg, UserWarning)\n",
      "c:\\Users\\yacin\\AppData\\Local\\Programs\\Python\\Python310\\lib\\site-packages\\xgboost\\core.py:158: UserWarning: [00:22:22] WARNING: C:\\buildkite-agent\\builds\\buildkite-windows-cpu-autoscaling-group-i-0c55ff5f71b100e98-1\\xgboost\\xgboost-ci-windows\\src\\learner.cc:740: \n",
      "Parameters: { \"use_label_encoder\" } are not used.\n",
      "\n",
      "  warnings.warn(smsg, UserWarning)\n",
      "c:\\Users\\yacin\\AppData\\Local\\Programs\\Python\\Python310\\lib\\site-packages\\xgboost\\core.py:158: UserWarning: [00:22:23] WARNING: C:\\buildkite-agent\\builds\\buildkite-windows-cpu-autoscaling-group-i-0c55ff5f71b100e98-1\\xgboost\\xgboost-ci-windows\\src\\learner.cc:740: \n",
      "Parameters: { \"use_label_encoder\" } are not used.\n",
      "\n",
      "  warnings.warn(smsg, UserWarning)\n",
      "c:\\Users\\yacin\\AppData\\Local\\Programs\\Python\\Python310\\lib\\site-packages\\xgboost\\core.py:158: UserWarning: [00:22:24] WARNING: C:\\buildkite-agent\\builds\\buildkite-windows-cpu-autoscaling-group-i-0c55ff5f71b100e98-1\\xgboost\\xgboost-ci-windows\\src\\learner.cc:740: \n",
      "Parameters: { \"use_label_encoder\" } are not used.\n",
      "\n",
      "  warnings.warn(smsg, UserWarning)\n",
      "c:\\Users\\yacin\\AppData\\Local\\Programs\\Python\\Python310\\lib\\site-packages\\xgboost\\core.py:158: UserWarning: [00:22:25] WARNING: C:\\buildkite-agent\\builds\\buildkite-windows-cpu-autoscaling-group-i-0c55ff5f71b100e98-1\\xgboost\\xgboost-ci-windows\\src\\learner.cc:740: \n",
      "Parameters: { \"use_label_encoder\" } are not used.\n",
      "\n",
      "  warnings.warn(smsg, UserWarning)\n",
      "c:\\Users\\yacin\\AppData\\Local\\Programs\\Python\\Python310\\lib\\site-packages\\xgboost\\core.py:158: UserWarning: [00:22:25] WARNING: C:\\buildkite-agent\\builds\\buildkite-windows-cpu-autoscaling-group-i-0c55ff5f71b100e98-1\\xgboost\\xgboost-ci-windows\\src\\learner.cc:740: \n",
      "Parameters: { \"use_label_encoder\" } are not used.\n",
      "\n",
      "  warnings.warn(smsg, UserWarning)\n",
      "c:\\Users\\yacin\\AppData\\Local\\Programs\\Python\\Python310\\lib\\site-packages\\xgboost\\core.py:158: UserWarning: [00:22:26] WARNING: C:\\buildkite-agent\\builds\\buildkite-windows-cpu-autoscaling-group-i-0c55ff5f71b100e98-1\\xgboost\\xgboost-ci-windows\\src\\learner.cc:740: \n",
      "Parameters: { \"use_label_encoder\" } are not used.\n",
      "\n",
      "  warnings.warn(smsg, UserWarning)\n",
      "c:\\Users\\yacin\\AppData\\Local\\Programs\\Python\\Python310\\lib\\site-packages\\xgboost\\core.py:158: UserWarning: [00:22:26] WARNING: C:\\buildkite-agent\\builds\\buildkite-windows-cpu-autoscaling-group-i-0c55ff5f71b100e98-1\\xgboost\\xgboost-ci-windows\\src\\learner.cc:740: \n",
      "Parameters: { \"use_label_encoder\" } are not used.\n",
      "\n",
      "  warnings.warn(smsg, UserWarning)\n",
      "c:\\Users\\yacin\\AppData\\Local\\Programs\\Python\\Python310\\lib\\site-packages\\xgboost\\core.py:158: UserWarning: [00:22:26] WARNING: C:\\buildkite-agent\\builds\\buildkite-windows-cpu-autoscaling-group-i-0c55ff5f71b100e98-1\\xgboost\\xgboost-ci-windows\\src\\learner.cc:740: \n",
      "Parameters: { \"use_label_encoder\" } are not used.\n",
      "\n",
      "  warnings.warn(smsg, UserWarning)\n",
      "c:\\Users\\yacin\\AppData\\Local\\Programs\\Python\\Python310\\lib\\site-packages\\xgboost\\core.py:158: UserWarning: [00:22:27] WARNING: C:\\buildkite-agent\\builds\\buildkite-windows-cpu-autoscaling-group-i-0c55ff5f71b100e98-1\\xgboost\\xgboost-ci-windows\\src\\learner.cc:740: \n",
      "Parameters: { \"use_label_encoder\" } are not used.\n",
      "\n",
      "  warnings.warn(smsg, UserWarning)\n",
      "c:\\Users\\yacin\\AppData\\Local\\Programs\\Python\\Python310\\lib\\site-packages\\xgboost\\core.py:158: UserWarning: [00:22:27] WARNING: C:\\buildkite-agent\\builds\\buildkite-windows-cpu-autoscaling-group-i-0c55ff5f71b100e98-1\\xgboost\\xgboost-ci-windows\\src\\learner.cc:740: \n",
      "Parameters: { \"use_label_encoder\" } are not used.\n",
      "\n",
      "  warnings.warn(smsg, UserWarning)\n",
      "c:\\Users\\yacin\\AppData\\Local\\Programs\\Python\\Python310\\lib\\site-packages\\xgboost\\core.py:158: UserWarning: [00:22:27] WARNING: C:\\buildkite-agent\\builds\\buildkite-windows-cpu-autoscaling-group-i-0c55ff5f71b100e98-1\\xgboost\\xgboost-ci-windows\\src\\learner.cc:740: \n",
      "Parameters: { \"use_label_encoder\" } are not used.\n",
      "\n",
      "  warnings.warn(smsg, UserWarning)\n",
      "c:\\Users\\yacin\\AppData\\Local\\Programs\\Python\\Python310\\lib\\site-packages\\xgboost\\core.py:158: UserWarning: [00:22:28] WARNING: C:\\buildkite-agent\\builds\\buildkite-windows-cpu-autoscaling-group-i-0c55ff5f71b100e98-1\\xgboost\\xgboost-ci-windows\\src\\learner.cc:740: \n",
      "Parameters: { \"use_label_encoder\" } are not used.\n",
      "\n",
      "  warnings.warn(smsg, UserWarning)\n",
      "c:\\Users\\yacin\\AppData\\Local\\Programs\\Python\\Python310\\lib\\site-packages\\xgboost\\core.py:158: UserWarning: [00:22:28] WARNING: C:\\buildkite-agent\\builds\\buildkite-windows-cpu-autoscaling-group-i-0c55ff5f71b100e98-1\\xgboost\\xgboost-ci-windows\\src\\learner.cc:740: \n",
      "Parameters: { \"use_label_encoder\" } are not used.\n",
      "\n",
      "  warnings.warn(smsg, UserWarning)\n",
      "c:\\Users\\yacin\\AppData\\Local\\Programs\\Python\\Python310\\lib\\site-packages\\xgboost\\core.py:158: UserWarning: [00:22:29] WARNING: C:\\buildkite-agent\\builds\\buildkite-windows-cpu-autoscaling-group-i-0c55ff5f71b100e98-1\\xgboost\\xgboost-ci-windows\\src\\learner.cc:740: \n",
      "Parameters: { \"use_label_encoder\" } are not used.\n",
      "\n",
      "  warnings.warn(smsg, UserWarning)\n",
      "c:\\Users\\yacin\\AppData\\Local\\Programs\\Python\\Python310\\lib\\site-packages\\xgboost\\core.py:158: UserWarning: [00:22:30] WARNING: C:\\buildkite-agent\\builds\\buildkite-windows-cpu-autoscaling-group-i-0c55ff5f71b100e98-1\\xgboost\\xgboost-ci-windows\\src\\learner.cc:740: \n",
      "Parameters: { \"use_label_encoder\" } are not used.\n",
      "\n",
      "  warnings.warn(smsg, UserWarning)\n",
      "c:\\Users\\yacin\\AppData\\Local\\Programs\\Python\\Python310\\lib\\site-packages\\xgboost\\core.py:158: UserWarning: [00:22:30] WARNING: C:\\buildkite-agent\\builds\\buildkite-windows-cpu-autoscaling-group-i-0c55ff5f71b100e98-1\\xgboost\\xgboost-ci-windows\\src\\learner.cc:740: \n",
      "Parameters: { \"use_label_encoder\" } are not used.\n",
      "\n",
      "  warnings.warn(smsg, UserWarning)\n",
      "c:\\Users\\yacin\\AppData\\Local\\Programs\\Python\\Python310\\lib\\site-packages\\xgboost\\core.py:158: UserWarning: [00:22:31] WARNING: C:\\buildkite-agent\\builds\\buildkite-windows-cpu-autoscaling-group-i-0c55ff5f71b100e98-1\\xgboost\\xgboost-ci-windows\\src\\learner.cc:740: \n",
      "Parameters: { \"use_label_encoder\" } are not used.\n",
      "\n",
      "  warnings.warn(smsg, UserWarning)\n",
      "c:\\Users\\yacin\\AppData\\Local\\Programs\\Python\\Python310\\lib\\site-packages\\xgboost\\core.py:158: UserWarning: [00:22:32] WARNING: C:\\buildkite-agent\\builds\\buildkite-windows-cpu-autoscaling-group-i-0c55ff5f71b100e98-1\\xgboost\\xgboost-ci-windows\\src\\learner.cc:740: \n",
      "Parameters: { \"use_label_encoder\" } are not used.\n",
      "\n",
      "  warnings.warn(smsg, UserWarning)\n",
      "c:\\Users\\yacin\\AppData\\Local\\Programs\\Python\\Python310\\lib\\site-packages\\xgboost\\core.py:158: UserWarning: [00:22:33] WARNING: C:\\buildkite-agent\\builds\\buildkite-windows-cpu-autoscaling-group-i-0c55ff5f71b100e98-1\\xgboost\\xgboost-ci-windows\\src\\learner.cc:740: \n",
      "Parameters: { \"use_label_encoder\" } are not used.\n",
      "\n",
      "  warnings.warn(smsg, UserWarning)\n",
      "c:\\Users\\yacin\\AppData\\Local\\Programs\\Python\\Python310\\lib\\site-packages\\xgboost\\core.py:158: UserWarning: [00:22:33] WARNING: C:\\buildkite-agent\\builds\\buildkite-windows-cpu-autoscaling-group-i-0c55ff5f71b100e98-1\\xgboost\\xgboost-ci-windows\\src\\learner.cc:740: \n",
      "Parameters: { \"use_label_encoder\" } are not used.\n",
      "\n",
      "  warnings.warn(smsg, UserWarning)\n",
      "c:\\Users\\yacin\\AppData\\Local\\Programs\\Python\\Python310\\lib\\site-packages\\xgboost\\core.py:158: UserWarning: [00:22:34] WARNING: C:\\buildkite-agent\\builds\\buildkite-windows-cpu-autoscaling-group-i-0c55ff5f71b100e98-1\\xgboost\\xgboost-ci-windows\\src\\learner.cc:740: \n",
      "Parameters: { \"use_label_encoder\" } are not used.\n",
      "\n",
      "  warnings.warn(smsg, UserWarning)\n",
      "c:\\Users\\yacin\\AppData\\Local\\Programs\\Python\\Python310\\lib\\site-packages\\xgboost\\core.py:158: UserWarning: [00:22:34] WARNING: C:\\buildkite-agent\\builds\\buildkite-windows-cpu-autoscaling-group-i-0c55ff5f71b100e98-1\\xgboost\\xgboost-ci-windows\\src\\learner.cc:740: \n",
      "Parameters: { \"use_label_encoder\" } are not used.\n",
      "\n",
      "  warnings.warn(smsg, UserWarning)\n",
      "c:\\Users\\yacin\\AppData\\Local\\Programs\\Python\\Python310\\lib\\site-packages\\xgboost\\core.py:158: UserWarning: [00:22:35] WARNING: C:\\buildkite-agent\\builds\\buildkite-windows-cpu-autoscaling-group-i-0c55ff5f71b100e98-1\\xgboost\\xgboost-ci-windows\\src\\learner.cc:740: \n",
      "Parameters: { \"use_label_encoder\" } are not used.\n",
      "\n",
      "  warnings.warn(smsg, UserWarning)\n",
      "c:\\Users\\yacin\\AppData\\Local\\Programs\\Python\\Python310\\lib\\site-packages\\xgboost\\core.py:158: UserWarning: [00:22:36] WARNING: C:\\buildkite-agent\\builds\\buildkite-windows-cpu-autoscaling-group-i-0c55ff5f71b100e98-1\\xgboost\\xgboost-ci-windows\\src\\learner.cc:740: \n",
      "Parameters: { \"use_label_encoder\" } are not used.\n",
      "\n",
      "  warnings.warn(smsg, UserWarning)\n",
      "c:\\Users\\yacin\\AppData\\Local\\Programs\\Python\\Python310\\lib\\site-packages\\xgboost\\core.py:158: UserWarning: [00:22:36] WARNING: C:\\buildkite-agent\\builds\\buildkite-windows-cpu-autoscaling-group-i-0c55ff5f71b100e98-1\\xgboost\\xgboost-ci-windows\\src\\learner.cc:740: \n",
      "Parameters: { \"use_label_encoder\" } are not used.\n",
      "\n",
      "  warnings.warn(smsg, UserWarning)\n",
      "c:\\Users\\yacin\\AppData\\Local\\Programs\\Python\\Python310\\lib\\site-packages\\xgboost\\core.py:158: UserWarning: [00:22:37] WARNING: C:\\buildkite-agent\\builds\\buildkite-windows-cpu-autoscaling-group-i-0c55ff5f71b100e98-1\\xgboost\\xgboost-ci-windows\\src\\learner.cc:740: \n",
      "Parameters: { \"use_label_encoder\" } are not used.\n",
      "\n",
      "  warnings.warn(smsg, UserWarning)\n",
      "c:\\Users\\yacin\\AppData\\Local\\Programs\\Python\\Python310\\lib\\site-packages\\xgboost\\core.py:158: UserWarning: [00:22:37] WARNING: C:\\buildkite-agent\\builds\\buildkite-windows-cpu-autoscaling-group-i-0c55ff5f71b100e98-1\\xgboost\\xgboost-ci-windows\\src\\learner.cc:740: \n",
      "Parameters: { \"use_label_encoder\" } are not used.\n",
      "\n",
      "  warnings.warn(smsg, UserWarning)\n",
      "c:\\Users\\yacin\\AppData\\Local\\Programs\\Python\\Python310\\lib\\site-packages\\xgboost\\core.py:158: UserWarning: [00:22:38] WARNING: C:\\buildkite-agent\\builds\\buildkite-windows-cpu-autoscaling-group-i-0c55ff5f71b100e98-1\\xgboost\\xgboost-ci-windows\\src\\learner.cc:740: \n",
      "Parameters: { \"use_label_encoder\" } are not used.\n",
      "\n",
      "  warnings.warn(smsg, UserWarning)\n",
      "c:\\Users\\yacin\\AppData\\Local\\Programs\\Python\\Python310\\lib\\site-packages\\xgboost\\core.py:158: UserWarning: [00:22:38] WARNING: C:\\buildkite-agent\\builds\\buildkite-windows-cpu-autoscaling-group-i-0c55ff5f71b100e98-1\\xgboost\\xgboost-ci-windows\\src\\learner.cc:740: \n",
      "Parameters: { \"use_label_encoder\" } are not used.\n",
      "\n",
      "  warnings.warn(smsg, UserWarning)\n",
      "c:\\Users\\yacin\\AppData\\Local\\Programs\\Python\\Python310\\lib\\site-packages\\xgboost\\core.py:158: UserWarning: [00:22:39] WARNING: C:\\buildkite-agent\\builds\\buildkite-windows-cpu-autoscaling-group-i-0c55ff5f71b100e98-1\\xgboost\\xgboost-ci-windows\\src\\learner.cc:740: \n",
      "Parameters: { \"use_label_encoder\" } are not used.\n",
      "\n",
      "  warnings.warn(smsg, UserWarning)\n",
      "c:\\Users\\yacin\\AppData\\Local\\Programs\\Python\\Python310\\lib\\site-packages\\xgboost\\core.py:158: UserWarning: [00:22:39] WARNING: C:\\buildkite-agent\\builds\\buildkite-windows-cpu-autoscaling-group-i-0c55ff5f71b100e98-1\\xgboost\\xgboost-ci-windows\\src\\learner.cc:740: \n",
      "Parameters: { \"use_label_encoder\" } are not used.\n",
      "\n",
      "  warnings.warn(smsg, UserWarning)\n",
      "c:\\Users\\yacin\\AppData\\Local\\Programs\\Python\\Python310\\lib\\site-packages\\xgboost\\core.py:158: UserWarning: [00:22:40] WARNING: C:\\buildkite-agent\\builds\\buildkite-windows-cpu-autoscaling-group-i-0c55ff5f71b100e98-1\\xgboost\\xgboost-ci-windows\\src\\learner.cc:740: \n",
      "Parameters: { \"use_label_encoder\" } are not used.\n",
      "\n",
      "  warnings.warn(smsg, UserWarning)\n",
      "c:\\Users\\yacin\\AppData\\Local\\Programs\\Python\\Python310\\lib\\site-packages\\xgboost\\core.py:158: UserWarning: [00:22:40] WARNING: C:\\buildkite-agent\\builds\\buildkite-windows-cpu-autoscaling-group-i-0c55ff5f71b100e98-1\\xgboost\\xgboost-ci-windows\\src\\learner.cc:740: \n",
      "Parameters: { \"use_label_encoder\" } are not used.\n",
      "\n",
      "  warnings.warn(smsg, UserWarning)\n",
      "c:\\Users\\yacin\\AppData\\Local\\Programs\\Python\\Python310\\lib\\site-packages\\xgboost\\core.py:158: UserWarning: [00:22:41] WARNING: C:\\buildkite-agent\\builds\\buildkite-windows-cpu-autoscaling-group-i-0c55ff5f71b100e98-1\\xgboost\\xgboost-ci-windows\\src\\learner.cc:740: \n",
      "Parameters: { \"use_label_encoder\" } are not used.\n",
      "\n",
      "  warnings.warn(smsg, UserWarning)\n",
      "c:\\Users\\yacin\\AppData\\Local\\Programs\\Python\\Python310\\lib\\site-packages\\xgboost\\core.py:158: UserWarning: [00:22:42] WARNING: C:\\buildkite-agent\\builds\\buildkite-windows-cpu-autoscaling-group-i-0c55ff5f71b100e98-1\\xgboost\\xgboost-ci-windows\\src\\learner.cc:740: \n",
      "Parameters: { \"use_label_encoder\" } are not used.\n",
      "\n",
      "  warnings.warn(smsg, UserWarning)\n",
      "c:\\Users\\yacin\\AppData\\Local\\Programs\\Python\\Python310\\lib\\site-packages\\xgboost\\core.py:158: UserWarning: [00:22:43] WARNING: C:\\buildkite-agent\\builds\\buildkite-windows-cpu-autoscaling-group-i-0c55ff5f71b100e98-1\\xgboost\\xgboost-ci-windows\\src\\learner.cc:740: \n",
      "Parameters: { \"use_label_encoder\" } are not used.\n",
      "\n",
      "  warnings.warn(smsg, UserWarning)\n",
      "c:\\Users\\yacin\\AppData\\Local\\Programs\\Python\\Python310\\lib\\site-packages\\xgboost\\core.py:158: UserWarning: [00:22:45] WARNING: C:\\buildkite-agent\\builds\\buildkite-windows-cpu-autoscaling-group-i-0c55ff5f71b100e98-1\\xgboost\\xgboost-ci-windows\\src\\learner.cc:740: \n",
      "Parameters: { \"use_label_encoder\" } are not used.\n",
      "\n",
      "  warnings.warn(smsg, UserWarning)\n",
      "c:\\Users\\yacin\\AppData\\Local\\Programs\\Python\\Python310\\lib\\site-packages\\xgboost\\core.py:158: UserWarning: [00:22:46] WARNING: C:\\buildkite-agent\\builds\\buildkite-windows-cpu-autoscaling-group-i-0c55ff5f71b100e98-1\\xgboost\\xgboost-ci-windows\\src\\learner.cc:740: \n",
      "Parameters: { \"use_label_encoder\" } are not used.\n",
      "\n",
      "  warnings.warn(smsg, UserWarning)\n",
      "c:\\Users\\yacin\\AppData\\Local\\Programs\\Python\\Python310\\lib\\site-packages\\xgboost\\core.py:158: UserWarning: [00:22:46] WARNING: C:\\buildkite-agent\\builds\\buildkite-windows-cpu-autoscaling-group-i-0c55ff5f71b100e98-1\\xgboost\\xgboost-ci-windows\\src\\learner.cc:740: \n",
      "Parameters: { \"use_label_encoder\" } are not used.\n",
      "\n",
      "  warnings.warn(smsg, UserWarning)\n",
      "c:\\Users\\yacin\\AppData\\Local\\Programs\\Python\\Python310\\lib\\site-packages\\xgboost\\core.py:158: UserWarning: [00:22:47] WARNING: C:\\buildkite-agent\\builds\\buildkite-windows-cpu-autoscaling-group-i-0c55ff5f71b100e98-1\\xgboost\\xgboost-ci-windows\\src\\learner.cc:740: \n",
      "Parameters: { \"use_label_encoder\" } are not used.\n",
      "\n",
      "  warnings.warn(smsg, UserWarning)\n",
      "c:\\Users\\yacin\\AppData\\Local\\Programs\\Python\\Python310\\lib\\site-packages\\xgboost\\core.py:158: UserWarning: [00:22:48] WARNING: C:\\buildkite-agent\\builds\\buildkite-windows-cpu-autoscaling-group-i-0c55ff5f71b100e98-1\\xgboost\\xgboost-ci-windows\\src\\learner.cc:740: \n",
      "Parameters: { \"use_label_encoder\" } are not used.\n",
      "\n",
      "  warnings.warn(smsg, UserWarning)\n",
      "c:\\Users\\yacin\\AppData\\Local\\Programs\\Python\\Python310\\lib\\site-packages\\xgboost\\core.py:158: UserWarning: [00:22:49] WARNING: C:\\buildkite-agent\\builds\\buildkite-windows-cpu-autoscaling-group-i-0c55ff5f71b100e98-1\\xgboost\\xgboost-ci-windows\\src\\learner.cc:740: \n",
      "Parameters: { \"use_label_encoder\" } are not used.\n",
      "\n",
      "  warnings.warn(smsg, UserWarning)\n",
      "c:\\Users\\yacin\\AppData\\Local\\Programs\\Python\\Python310\\lib\\site-packages\\xgboost\\core.py:158: UserWarning: [00:22:50] WARNING: C:\\buildkite-agent\\builds\\buildkite-windows-cpu-autoscaling-group-i-0c55ff5f71b100e98-1\\xgboost\\xgboost-ci-windows\\src\\learner.cc:740: \n",
      "Parameters: { \"use_label_encoder\" } are not used.\n",
      "\n",
      "  warnings.warn(smsg, UserWarning)\n",
      "c:\\Users\\yacin\\AppData\\Local\\Programs\\Python\\Python310\\lib\\site-packages\\xgboost\\core.py:158: UserWarning: [00:22:51] WARNING: C:\\buildkite-agent\\builds\\buildkite-windows-cpu-autoscaling-group-i-0c55ff5f71b100e98-1\\xgboost\\xgboost-ci-windows\\src\\learner.cc:740: \n",
      "Parameters: { \"use_label_encoder\" } are not used.\n",
      "\n",
      "  warnings.warn(smsg, UserWarning)\n",
      "c:\\Users\\yacin\\AppData\\Local\\Programs\\Python\\Python310\\lib\\site-packages\\xgboost\\core.py:158: UserWarning: [00:22:51] WARNING: C:\\buildkite-agent\\builds\\buildkite-windows-cpu-autoscaling-group-i-0c55ff5f71b100e98-1\\xgboost\\xgboost-ci-windows\\src\\learner.cc:740: \n",
      "Parameters: { \"use_label_encoder\" } are not used.\n",
      "\n",
      "  warnings.warn(smsg, UserWarning)\n",
      "c:\\Users\\yacin\\AppData\\Local\\Programs\\Python\\Python310\\lib\\site-packages\\xgboost\\core.py:158: UserWarning: [00:22:52] WARNING: C:\\buildkite-agent\\builds\\buildkite-windows-cpu-autoscaling-group-i-0c55ff5f71b100e98-1\\xgboost\\xgboost-ci-windows\\src\\learner.cc:740: \n",
      "Parameters: { \"use_label_encoder\" } are not used.\n",
      "\n",
      "  warnings.warn(smsg, UserWarning)\n",
      "c:\\Users\\yacin\\AppData\\Local\\Programs\\Python\\Python310\\lib\\site-packages\\xgboost\\core.py:158: UserWarning: [00:22:53] WARNING: C:\\buildkite-agent\\builds\\buildkite-windows-cpu-autoscaling-group-i-0c55ff5f71b100e98-1\\xgboost\\xgboost-ci-windows\\src\\learner.cc:740: \n",
      "Parameters: { \"use_label_encoder\" } are not used.\n",
      "\n",
      "  warnings.warn(smsg, UserWarning)\n",
      "c:\\Users\\yacin\\AppData\\Local\\Programs\\Python\\Python310\\lib\\site-packages\\xgboost\\core.py:158: UserWarning: [00:22:54] WARNING: C:\\buildkite-agent\\builds\\buildkite-windows-cpu-autoscaling-group-i-0c55ff5f71b100e98-1\\xgboost\\xgboost-ci-windows\\src\\learner.cc:740: \n",
      "Parameters: { \"use_label_encoder\" } are not used.\n",
      "\n",
      "  warnings.warn(smsg, UserWarning)\n",
      "c:\\Users\\yacin\\AppData\\Local\\Programs\\Python\\Python310\\lib\\site-packages\\xgboost\\core.py:158: UserWarning: [00:22:54] WARNING: C:\\buildkite-agent\\builds\\buildkite-windows-cpu-autoscaling-group-i-0c55ff5f71b100e98-1\\xgboost\\xgboost-ci-windows\\src\\learner.cc:740: \n",
      "Parameters: { \"use_label_encoder\" } are not used.\n",
      "\n",
      "  warnings.warn(smsg, UserWarning)\n",
      "c:\\Users\\yacin\\AppData\\Local\\Programs\\Python\\Python310\\lib\\site-packages\\xgboost\\core.py:158: UserWarning: [00:22:55] WARNING: C:\\buildkite-agent\\builds\\buildkite-windows-cpu-autoscaling-group-i-0c55ff5f71b100e98-1\\xgboost\\xgboost-ci-windows\\src\\learner.cc:740: \n",
      "Parameters: { \"use_label_encoder\" } are not used.\n",
      "\n",
      "  warnings.warn(smsg, UserWarning)\n",
      "c:\\Users\\yacin\\AppData\\Local\\Programs\\Python\\Python310\\lib\\site-packages\\xgboost\\core.py:158: UserWarning: [00:22:56] WARNING: C:\\buildkite-agent\\builds\\buildkite-windows-cpu-autoscaling-group-i-0c55ff5f71b100e98-1\\xgboost\\xgboost-ci-windows\\src\\learner.cc:740: \n",
      "Parameters: { \"use_label_encoder\" } are not used.\n",
      "\n",
      "  warnings.warn(smsg, UserWarning)\n",
      "c:\\Users\\yacin\\AppData\\Local\\Programs\\Python\\Python310\\lib\\site-packages\\xgboost\\core.py:158: UserWarning: [00:22:56] WARNING: C:\\buildkite-agent\\builds\\buildkite-windows-cpu-autoscaling-group-i-0c55ff5f71b100e98-1\\xgboost\\xgboost-ci-windows\\src\\learner.cc:740: \n",
      "Parameters: { \"use_label_encoder\" } are not used.\n",
      "\n",
      "  warnings.warn(smsg, UserWarning)\n",
      "c:\\Users\\yacin\\AppData\\Local\\Programs\\Python\\Python310\\lib\\site-packages\\xgboost\\core.py:158: UserWarning: [00:22:57] WARNING: C:\\buildkite-agent\\builds\\buildkite-windows-cpu-autoscaling-group-i-0c55ff5f71b100e98-1\\xgboost\\xgboost-ci-windows\\src\\learner.cc:740: \n",
      "Parameters: { \"use_label_encoder\" } are not used.\n",
      "\n",
      "  warnings.warn(smsg, UserWarning)\n",
      "c:\\Users\\yacin\\AppData\\Local\\Programs\\Python\\Python310\\lib\\site-packages\\xgboost\\core.py:158: UserWarning: [00:22:58] WARNING: C:\\buildkite-agent\\builds\\buildkite-windows-cpu-autoscaling-group-i-0c55ff5f71b100e98-1\\xgboost\\xgboost-ci-windows\\src\\learner.cc:740: \n",
      "Parameters: { \"use_label_encoder\" } are not used.\n",
      "\n",
      "  warnings.warn(smsg, UserWarning)\n",
      "c:\\Users\\yacin\\AppData\\Local\\Programs\\Python\\Python310\\lib\\site-packages\\xgboost\\core.py:158: UserWarning: [00:23:00] WARNING: C:\\buildkite-agent\\builds\\buildkite-windows-cpu-autoscaling-group-i-0c55ff5f71b100e98-1\\xgboost\\xgboost-ci-windows\\src\\learner.cc:740: \n",
      "Parameters: { \"use_label_encoder\" } are not used.\n",
      "\n",
      "  warnings.warn(smsg, UserWarning)\n",
      "c:\\Users\\yacin\\AppData\\Local\\Programs\\Python\\Python310\\lib\\site-packages\\xgboost\\core.py:158: UserWarning: [00:23:01] WARNING: C:\\buildkite-agent\\builds\\buildkite-windows-cpu-autoscaling-group-i-0c55ff5f71b100e98-1\\xgboost\\xgboost-ci-windows\\src\\learner.cc:740: \n",
      "Parameters: { \"use_label_encoder\" } are not used.\n",
      "\n",
      "  warnings.warn(smsg, UserWarning)\n",
      "c:\\Users\\yacin\\AppData\\Local\\Programs\\Python\\Python310\\lib\\site-packages\\xgboost\\core.py:158: UserWarning: [00:23:03] WARNING: C:\\buildkite-agent\\builds\\buildkite-windows-cpu-autoscaling-group-i-0c55ff5f71b100e98-1\\xgboost\\xgboost-ci-windows\\src\\learner.cc:740: \n",
      "Parameters: { \"use_label_encoder\" } are not used.\n",
      "\n",
      "  warnings.warn(smsg, UserWarning)\n",
      "c:\\Users\\yacin\\AppData\\Local\\Programs\\Python\\Python310\\lib\\site-packages\\xgboost\\core.py:158: UserWarning: [00:23:04] WARNING: C:\\buildkite-agent\\builds\\buildkite-windows-cpu-autoscaling-group-i-0c55ff5f71b100e98-1\\xgboost\\xgboost-ci-windows\\src\\learner.cc:740: \n",
      "Parameters: { \"use_label_encoder\" } are not used.\n",
      "\n",
      "  warnings.warn(smsg, UserWarning)\n",
      "c:\\Users\\yacin\\AppData\\Local\\Programs\\Python\\Python310\\lib\\site-packages\\xgboost\\core.py:158: UserWarning: [00:23:05] WARNING: C:\\buildkite-agent\\builds\\buildkite-windows-cpu-autoscaling-group-i-0c55ff5f71b100e98-1\\xgboost\\xgboost-ci-windows\\src\\learner.cc:740: \n",
      "Parameters: { \"use_label_encoder\" } are not used.\n",
      "\n",
      "  warnings.warn(smsg, UserWarning)\n",
      "c:\\Users\\yacin\\AppData\\Local\\Programs\\Python\\Python310\\lib\\site-packages\\xgboost\\core.py:158: UserWarning: [00:23:06] WARNING: C:\\buildkite-agent\\builds\\buildkite-windows-cpu-autoscaling-group-i-0c55ff5f71b100e98-1\\xgboost\\xgboost-ci-windows\\src\\learner.cc:740: \n",
      "Parameters: { \"use_label_encoder\" } are not used.\n",
      "\n",
      "  warnings.warn(smsg, UserWarning)\n",
      "c:\\Users\\yacin\\AppData\\Local\\Programs\\Python\\Python310\\lib\\site-packages\\xgboost\\core.py:158: UserWarning: [00:23:08] WARNING: C:\\buildkite-agent\\builds\\buildkite-windows-cpu-autoscaling-group-i-0c55ff5f71b100e98-1\\xgboost\\xgboost-ci-windows\\src\\learner.cc:740: \n",
      "Parameters: { \"use_label_encoder\" } are not used.\n",
      "\n",
      "  warnings.warn(smsg, UserWarning)\n",
      "c:\\Users\\yacin\\AppData\\Local\\Programs\\Python\\Python310\\lib\\site-packages\\xgboost\\core.py:158: UserWarning: [00:23:09] WARNING: C:\\buildkite-agent\\builds\\buildkite-windows-cpu-autoscaling-group-i-0c55ff5f71b100e98-1\\xgboost\\xgboost-ci-windows\\src\\learner.cc:740: \n",
      "Parameters: { \"use_label_encoder\" } are not used.\n",
      "\n",
      "  warnings.warn(smsg, UserWarning)\n",
      "c:\\Users\\yacin\\AppData\\Local\\Programs\\Python\\Python310\\lib\\site-packages\\xgboost\\core.py:158: UserWarning: [00:23:10] WARNING: C:\\buildkite-agent\\builds\\buildkite-windows-cpu-autoscaling-group-i-0c55ff5f71b100e98-1\\xgboost\\xgboost-ci-windows\\src\\learner.cc:740: \n",
      "Parameters: { \"use_label_encoder\" } are not used.\n",
      "\n",
      "  warnings.warn(smsg, UserWarning)\n"
     ]
    },
    {
     "name": "stdout",
     "output_type": "stream",
     "text": [
      "Meilleurs paramètres XGBoost : {'learning_rate': 0.2, 'max_depth': 3, 'n_estimators': 200, 'subsample': 0.8}\n",
      "Meilleur score ROC AUC XGBoost : 0.9510177616731941\n"
     ]
    }
   ],
   "source": [
    "from xgboost import XGBClassifier\n",
    "from sklearn.model_selection import GridSearchCV\n",
    "\n",
    "# Définir les hyperparamètres à tester\n",
    "param_grid_xgb = {\n",
    "    'n_estimators': [100, 200],\n",
    "    'max_depth': [3, 5, 7],\n",
    "    'learning_rate': [0.01, 0.1, 0.2],\n",
    "    'subsample': [0.8, 1.0]\n",
    "}\n",
    "\n",
    "# Instancier le modèle\n",
    "model_xgb = XGBClassifier(use_label_encoder=False, eval_metric='logloss')\n",
    "\n",
    "# Effectuer la recherche sur grille\n",
    "grid_search_xgb = GridSearchCV(model_xgb, param_grid_xgb, cv=5, scoring='roc_auc')\n",
    "grid_search_xgb.fit(X, y)\n",
    "\n",
    "# Afficher les meilleurs paramètres et le score\n",
    "print(\"Meilleurs paramètres XGBoost :\", grid_search_xgb.best_params_)\n",
    "print(\"Meilleur score ROC AUC XGBoost :\", grid_search_xgb.best_score_)\n"
   ]
  },
  {
   "cell_type": "markdown",
   "id": "2b5f7442",
   "metadata": {
    "papermill": {
     "duration": 0.033126,
     "end_time": "2024-10-09T21:03:26.666805",
     "exception": false,
     "start_time": "2024-10-09T21:03:26.633679",
     "status": "completed"
    },
    "tags": []
   },
   "source": []
  },
  {
   "cell_type": "markdown",
   "id": "edf2b22c",
   "metadata": {
    "papermill": {
     "duration": 0.032785,
     "end_time": "2024-10-09T21:03:26.732566",
     "exception": false,
     "start_time": "2024-10-09T21:03:26.699781",
     "status": "completed"
    },
    "tags": []
   },
   "source": [
    "7. Modèle LightGBM "
   ]
  },
  {
   "cell_type": "code",
   "execution_count": 35,
   "id": "0a74598b",
   "metadata": {
    "execution": {
     "iopub.execute_input": "2024-10-09T21:03:26.799671Z",
     "iopub.status.busy": "2024-10-09T21:03:26.799239Z",
     "iopub.status.idle": "2024-10-09T21:03:38.074540Z",
     "shell.execute_reply": "2024-10-09T21:03:38.073326Z"
    },
    "papermill": {
     "duration": 11.312199,
     "end_time": "2024-10-09T21:03:38.077183",
     "exception": false,
     "start_time": "2024-10-09T21:03:26.764984",
     "status": "completed"
    },
    "tags": []
   },
   "outputs": [
    {
     "ename": "ModuleNotFoundError",
     "evalue": "No module named 'lightgbm'",
     "output_type": "error",
     "traceback": [
      "\u001b[1;31m---------------------------------------------------------------------------\u001b[0m",
      "\u001b[1;31mModuleNotFoundError\u001b[0m                       Traceback (most recent call last)",
      "Cell \u001b[1;32mIn[35], line 1\u001b[0m\n\u001b[1;32m----> 1\u001b[0m \u001b[38;5;28;01mfrom\u001b[39;00m \u001b[38;5;21;01mlightgbm\u001b[39;00m \u001b[38;5;28;01mimport\u001b[39;00m LGBMClassifier\n\u001b[0;32m      3\u001b[0m \u001b[38;5;66;03m# Initialiser le modèle LightGBM\u001b[39;00m\n\u001b[0;32m      4\u001b[0m model_lgbm \u001b[38;5;241m=\u001b[39m LGBMClassifier()\n",
      "\u001b[1;31mModuleNotFoundError\u001b[0m: No module named 'lightgbm'"
     ]
    }
   ],
   "source": [
    "from lightgbm import LGBMClassifier\n",
    "\n",
    "# Initialiser le modèle LightGBM\n",
    "model_lgbm = LGBMClassifier()\n",
    "\n",
    "# Entraînement du modèle\n",
    "model_lgbm.fit(X_train, y_train)\n",
    "\n",
    "# Évaluation du modèle avec cross-validation\n",
    "lgbm_acc = cross_val_score(model_lgbm, X_train, y_train, cv=5, scoring='accuracy').mean()\n",
    "lgbm_roc_auc = cross_val_score(model_lgbm, X_train, y_train, cv=5, scoring='roc_auc').mean()\n",
    "\n",
    "print(f\"LightGBM - Accuracy: {lgbm_acc:.4f}, ROC AUC (CV 5 folds): {lgbm_roc_auc:.4f}\")\n"
   ]
  },
  {
   "cell_type": "markdown",
   "id": "0af37991",
   "metadata": {
    "papermill": {
     "duration": 0.033412,
     "end_time": "2024-10-09T21:03:38.145390",
     "exception": false,
     "start_time": "2024-10-09T21:03:38.111978",
     "status": "completed"
    },
    "tags": []
   },
   "source": [
    "On à un meilleur résultat avec ce modèles que les autres."
   ]
  },
  {
   "cell_type": "markdown",
   "id": "20143b05",
   "metadata": {
    "papermill": {
     "duration": 0.03428,
     "end_time": "2024-10-09T21:03:38.214013",
     "exception": false,
     "start_time": "2024-10-09T21:03:38.179733",
     "status": "completed"
    },
    "tags": []
   },
   "source": []
  },
  {
   "cell_type": "markdown",
   "id": "a7e88eeb",
   "metadata": {
    "papermill": {
     "duration": 0.033749,
     "end_time": "2024-10-09T21:03:38.282557",
     "exception": false,
     "start_time": "2024-10-09T21:03:38.248808",
     "status": "completed"
    },
    "tags": []
   },
   "source": [
    "Usage des Piplines "
   ]
  },
  {
   "cell_type": "code",
   "execution_count": null,
   "id": "64f027cc",
   "metadata": {
    "execution": {
     "iopub.execute_input": "2024-10-09T21:03:38.353874Z",
     "iopub.status.busy": "2024-10-09T21:03:38.353186Z",
     "iopub.status.idle": "2024-10-09T21:03:39.567538Z",
     "shell.execute_reply": "2024-10-09T21:03:39.566328Z"
    },
    "papermill": {
     "duration": 1.252115,
     "end_time": "2024-10-09T21:03:39.570104",
     "exception": false,
     "start_time": "2024-10-09T21:03:38.317989",
     "status": "completed"
    },
    "tags": []
   },
   "outputs": [
    {
     "name": "stdout",
     "output_type": "stream",
     "text": [
      "[LightGBM] [Info] Number of positive: 6708, number of negative: 40208\n",
      "[LightGBM] [Info] Auto-choosing col-wise multi-threading, the overhead of testing was 0.017544 seconds.\n",
      "You can set `force_col_wise=true` to remove the overhead.\n",
      "[LightGBM] [Info] Total Bins 1095\n",
      "[LightGBM] [Info] Number of data points in the train set: 46916, number of used features: 12\n",
      "[LightGBM] [Info] [binary:BoostFromScore]: pavg=0.142979 -> initscore=-1.790765\n",
      "[LightGBM] [Info] Start training from score -1.790765\n",
      "Accuracy: 0.9525, ROC AUC: 0.9580\n"
     ]
    }
   ],
   "source": [
    "from sklearn.pipeline import Pipeline\n",
    "from lightgbm import LGBMClassifier\n",
    "from sklearn.model_selection import train_test_split\n",
    "from sklearn.metrics import accuracy_score, roc_auc_score\n",
    "\n",
    "# Supposons que tu aies déjà X et y\n",
    "X_train, X_test, y_train, y_test = train_test_split(X, y, test_size=0.2, random_state=42)\n",
    "\n",
    "# Créer un pipeline avec LGBMClassifier\n",
    "pipeline_lgbm = Pipeline(steps=[\n",
    "    ('classifier', LGBMClassifier(objective='binary', metric='auc'))\n",
    "])\n",
    "\n",
    "# Entraîner le modèle\n",
    "pipeline_lgbm.fit(X_train, y_train)\n",
    "\n",
    "# Prédictions\n",
    "y_pred = pipeline_lgbm.predict(X_test)\n",
    "\n",
    "# Évaluer le modèle\n",
    "accuracy = accuracy_score(y_test, y_pred)\n",
    "roc_auc = roc_auc_score(y_test, pipeline_lgbm.predict_proba(X_test)[:, 1])\n",
    "\n",
    "print(f\"Accuracy: {accuracy:.4f}, ROC AUC: {roc_auc:.4f}\")\n"
   ]
  },
  {
   "cell_type": "code",
   "execution_count": null,
   "id": "1a86f120",
   "metadata": {
    "execution": {
     "iopub.execute_input": "2024-10-09T21:03:39.640007Z",
     "iopub.status.busy": "2024-10-09T21:03:39.639505Z",
     "iopub.status.idle": "2024-10-09T21:03:39.644865Z",
     "shell.execute_reply": "2024-10-09T21:03:39.643623Z"
    },
    "papermill": {
     "duration": 0.043317,
     "end_time": "2024-10-09T21:03:39.647550",
     "exception": false,
     "start_time": "2024-10-09T21:03:39.604233",
     "status": "completed"
    },
    "tags": []
   },
   "outputs": [],
   "source": [
    "# On remarque une amélioration des résultats !"
   ]
  },
  {
   "cell_type": "markdown",
   "id": "d4591db8",
   "metadata": {
    "papermill": {
     "duration": 0.034098,
     "end_time": "2024-10-09T21:03:39.716072",
     "exception": false,
     "start_time": "2024-10-09T21:03:39.681974",
     "status": "completed"
    },
    "tags": []
   },
   "source": [
    "Optimisation des hyperparamettres "
   ]
  },
  {
   "cell_type": "code",
   "execution_count": null,
   "id": "0485480d",
   "metadata": {
    "execution": {
     "iopub.execute_input": "2024-10-09T21:03:39.787198Z",
     "iopub.status.busy": "2024-10-09T21:03:39.786761Z",
     "iopub.status.idle": "2024-10-09T21:03:40.076918Z",
     "shell.execute_reply": "2024-10-09T21:03:40.075764Z"
    },
    "papermill": {
     "duration": 0.328569,
     "end_time": "2024-10-09T21:03:40.079571",
     "exception": false,
     "start_time": "2024-10-09T21:03:39.751002",
     "status": "completed"
    },
    "tags": []
   },
   "outputs": [
    {
     "name": "stdout",
     "output_type": "stream",
     "text": [
      "[LightGBM] [Info] Number of positive: 857, number of negative: 5007\n",
      "[LightGBM] [Info] Auto-choosing col-wise multi-threading, the overhead of testing was 0.002153 seconds.\n",
      "You can set `force_col_wise=true` to remove the overhead.\n",
      "[LightGBM] [Info] Total Bins 1003\n",
      "[LightGBM] [Info] Number of data points in the train set: 5864, number of used features: 12\n",
      "[LightGBM] [Info] [binary:BoostFromScore]: pavg=0.146146 -> initscore=-1.765154\n",
      "[LightGBM] [Info] Start training from score -1.765154\n",
      "Accuracy: 0.9841, ROC AUC: 0.9992\n"
     ]
    }
   ],
   "source": [
    "from sklearn.model_selection import train_test_split\n",
    "from lightgbm import LGBMClassifier\n",
    "from sklearn.pipeline import Pipeline\n",
    "from sklearn.metrics import accuracy_score, roc_auc_score\n",
    "\n",
    "# Échantillonner les données\n",
    "X_sample, _, y_sample, _ = train_test_split(X, y, test_size=0.9, random_state=42)\n",
    "\n",
    "# Définir le modèle\n",
    "model = LGBMClassifier()\n",
    "model.fit(X_sample, y_sample)\n",
    "\n",
    "# Prédictions\n",
    "y_pred = model.predict(X_sample)\n",
    "accuracy = accuracy_score(y_sample, y_pred)\n",
    "roc_auc = roc_auc_score(y_sample, model.predict_proba(X_sample)[:, 1])\n",
    "\n",
    "print(f\"Accuracy: {accuracy:.4f}, ROC AUC: {roc_auc:.4f}\")\n"
   ]
  },
  {
   "cell_type": "code",
   "execution_count": null,
   "id": "c3c4e604",
   "metadata": {
    "execution": {
     "iopub.execute_input": "2024-10-09T21:03:40.150785Z",
     "iopub.status.busy": "2024-10-09T21:03:40.150341Z",
     "iopub.status.idle": "2024-10-09T21:03:40.156893Z",
     "shell.execute_reply": "2024-10-09T21:03:40.155853Z"
    },
    "papermill": {
     "duration": 0.044814,
     "end_time": "2024-10-09T21:03:40.159425",
     "exception": false,
     "start_time": "2024-10-09T21:03:40.114611",
     "status": "completed"
    },
    "tags": []
   },
   "outputs": [],
   "source": [
    "# Sur un petit échantiant on pu avoir un sccore parfait !"
   ]
  },
  {
   "cell_type": "code",
   "execution_count": null,
   "id": "8d62f9c7",
   "metadata": {
    "execution": {
     "iopub.execute_input": "2024-10-09T21:03:40.230851Z",
     "iopub.status.busy": "2024-10-09T21:03:40.230418Z",
     "iopub.status.idle": "2024-10-09T21:03:40.504900Z",
     "shell.execute_reply": "2024-10-09T21:03:40.503708Z"
    },
    "papermill": {
     "duration": 0.314146,
     "end_time": "2024-10-09T21:03:40.508038",
     "exception": false,
     "start_time": "2024-10-09T21:03:40.193892",
     "status": "completed"
    },
    "tags": []
   },
   "outputs": [],
   "source": [
    "from imblearn.over_sampling import SMOTE\n",
    "\n",
    "# Création d'une instance de SMOTE\n",
    "smote = SMOTE(random_state=42)\n",
    "\n",
    "# Application de SMOTE\n",
    "X_resampled, y_resampled = smote.fit_resample(X, y)\n"
   ]
  },
  {
   "cell_type": "markdown",
   "id": "0ec2fe02",
   "metadata": {
    "papermill": {
     "duration": 0.034181,
     "end_time": "2024-10-09T21:03:40.578133",
     "exception": false,
     "start_time": "2024-10-09T21:03:40.543952",
     "status": "completed"
    },
    "tags": []
   },
   "source": [
    "Cela va générer de nouvelles instances pour la classe minoritaire, ce qui peut améliorer la performance de ton modèle."
   ]
  },
  {
   "cell_type": "markdown",
   "id": "fae8fc88",
   "metadata": {
    "papermill": {
     "duration": 0.034529,
     "end_time": "2024-10-09T21:03:40.647981",
     "exception": false,
     "start_time": "2024-10-09T21:03:40.613452",
     "status": "completed"
    },
    "tags": []
   },
   "source": [
    "# Prediction sur le Test_csv"
   ]
  },
  {
   "cell_type": "markdown",
   "id": "a304ebe9",
   "metadata": {
    "papermill": {
     "duration": 0.034233,
     "end_time": "2024-10-09T21:03:40.716958",
     "exception": false,
     "start_time": "2024-10-09T21:03:40.682725",
     "status": "completed"
    },
    "tags": []
   },
   "source": [
    "1. Prédiction RandomForest"
   ]
  },
  {
   "cell_type": "code",
   "execution_count": null,
   "id": "21e062d3",
   "metadata": {
    "execution": {
     "iopub.execute_input": "2024-10-09T21:03:40.788124Z",
     "iopub.status.busy": "2024-10-09T21:03:40.787439Z",
     "iopub.status.idle": "2024-10-09T21:03:50.508342Z",
     "shell.execute_reply": "2024-10-09T21:03:50.507087Z"
    },
    "papermill": {
     "duration": 9.759446,
     "end_time": "2024-10-09T21:03:50.511041",
     "exception": false,
     "start_time": "2024-10-09T21:03:40.751595",
     "status": "completed"
    },
    "tags": []
   },
   "outputs": [
    {
     "name": "stdout",
     "output_type": "stream",
     "text": [
      "Fichier de soumission créé avec succès dans /kaggle/working/submission.csv\n"
     ]
    }
   ],
   "source": [
    "# Meilleurs paramètres pour RandomForest\n",
    "best_model = RandomForestClassifier(\n",
    "    n_estimators=100,\n",
    "    max_depth=None,\n",
    "    min_samples_split=2\n",
    ")\n",
    "\n",
    "# Entraînement du modèle sur df_train\n",
    "best_model.fit(X_train, y_train)\n",
    "\n",
    "# Faire des prédictions sur df_test\n",
    "y_test_pred_proba = best_model.predict_proba(df_test)[:, 1]  # Obtenir les probabilités\n",
    "\n",
    "# Créer un fichier de soumission\n",
    "submission = pd.DataFrame({\n",
    "    'id': df_test['id'],  \n",
    "    'loan_status': y_test_pred_proba  # Utiliser les probabilités ici\n",
    "})\n",
    "\n",
    "# Sauvegarder le fichier de soumission\n",
    "chemin_fichier = '/kaggle/working/submission.csv'\n",
    "submission.to_csv(chemin_fichier, index=False)\n",
    "print(f\"Fichier de soumission créé avec succès dans {chemin_fichier}\")\n"
   ]
  },
  {
   "cell_type": "code",
   "execution_count": null,
   "id": "ee3f803c",
   "metadata": {
    "execution": {
     "iopub.execute_input": "2024-10-09T21:03:50.586665Z",
     "iopub.status.busy": "2024-10-09T21:03:50.586210Z",
     "iopub.status.idle": "2024-10-09T21:03:50.597357Z",
     "shell.execute_reply": "2024-10-09T21:03:50.596000Z"
    },
    "papermill": {
     "duration": 0.053511,
     "end_time": "2024-10-09T21:03:50.600068",
     "exception": false,
     "start_time": "2024-10-09T21:03:50.546557",
     "status": "completed"
    },
    "tags": []
   },
   "outputs": [
    {
     "name": "stdout",
     "output_type": "stream",
     "text": [
      "       id  loan_status_pred\n",
      "0   58645              0.97\n",
      "1   58646              0.07\n",
      "2   58647              0.49\n",
      "3   58648              0.17\n",
      "4   58649              0.10\n",
      "5   58650              0.90\n",
      "6   58651              0.10\n",
      "7   58652              0.03\n",
      "8   58653              0.33\n",
      "9   58654              0.06\n",
      "10  58655              0.17\n",
      "11  58656              0.22\n",
      "12  58657              0.12\n",
      "13  58658              0.03\n",
      "14  58659              0.26\n",
      "15  58660              0.36\n",
      "16  58661              0.14\n",
      "17  58662              0.04\n",
      "18  58663              0.15\n",
      "19  58664              0.15\n"
     ]
    }
   ],
   "source": [
    "# Afficher les 20 premières lignes des prédictions\n",
    "result = pd.DataFrame({\n",
    "    'id': df_test['id'],\n",
    "    'loan_status_pred': y_test_pred_proba\n",
    "})\n",
    "print(result.head(20))"
   ]
  },
  {
   "cell_type": "code",
   "execution_count": null,
   "id": "6914bdd8",
   "metadata": {
    "execution": {
     "iopub.execute_input": "2024-10-09T21:03:50.671562Z",
     "iopub.status.busy": "2024-10-09T21:03:50.670669Z",
     "iopub.status.idle": "2024-10-09T21:03:51.513079Z",
     "shell.execute_reply": "2024-10-09T21:03:51.511933Z"
    },
    "papermill": {
     "duration": 0.880911,
     "end_time": "2024-10-09T21:03:51.515697",
     "exception": false,
     "start_time": "2024-10-09T21:03:50.634786",
     "status": "completed"
    },
    "tags": []
   },
   "outputs": [
    {
     "data": {
      "image/png": "[encoded data removed]",
      "text/plain": [
       "<Figure size 800x500 with 1 Axes>"
      ]
     },
     "metadata": {},
     "output_type": "display_data"
    }
   ],
   "source": [
    "# Prédictions sur df_test\n",
    "y_test_pred = best_model.predict(df_test)\n",
    "\n",
    "# Affichage des résultats\n",
    "result_counts = pd.Series(y_test_pred).value_counts()\n",
    "\n",
    "# Créer un graphique à barres\n",
    "plt.figure(figsize=(8, 5))\n",
    "sns.barplot(x=result_counts.index, y=result_counts.values, palette='viridis')\n",
    "\n",
    "# Ajouter les labels et le titre\n",
    "plt.title('Prédictions de Random Forest sur df_test')\n",
    "plt.xlabel('Loan Status')\n",
    "plt.ylabel('Count')\n",
    "plt.xticks(ticks=result_counts.index, labels=result_counts.index, rotation=0)\n",
    "\n",
    "# Ajouter le pourcentage au-dessus de chaque barre\n",
    "total_count = result_counts.sum()\n",
    "for index, value in enumerate(result_counts):\n",
    "    percentage = (value / total_count) * 100\n",
    "    plt.text(index, value, f'{percentage:.1f}%', ha='center', va='bottom')\n",
    "\n",
    "plt.show()"
   ]
  },
  {
   "cell_type": "markdown",
   "id": "d0224f4f",
   "metadata": {
    "papermill": {
     "duration": 0.034479,
     "end_time": "2024-10-09T21:03:51.584997",
     "exception": false,
     "start_time": "2024-10-09T21:03:51.550518",
     "status": "completed"
    },
    "tags": []
   },
   "source": [
    "2. Prédiction XGBOOST"
   ]
  },
  {
   "cell_type": "code",
   "execution_count": null,
   "id": "6b9750b8",
   "metadata": {
    "execution": {
     "iopub.execute_input": "2024-10-09T21:03:51.656486Z",
     "iopub.status.busy": "2024-10-09T21:03:51.655667Z",
     "iopub.status.idle": "2024-10-09T21:03:53.001495Z",
     "shell.execute_reply": "2024-10-09T21:03:53.000113Z"
    },
    "papermill": {
     "duration": 1.384554,
     "end_time": "2024-10-09T21:03:53.004219",
     "exception": false,
     "start_time": "2024-10-09T21:03:51.619665",
     "status": "completed"
    },
    "tags": []
   },
   "outputs": [
    {
     "name": "stdout",
     "output_type": "stream",
     "text": [
      "Fichier de soumission XGBoost créé avec succès.\n"
     ]
    }
   ],
   "source": [
    "from xgboost import XGBClassifier\n",
    "\n",
    "# Meilleurs paramètres pour XGBoost\n",
    "best_model_xgb = XGBClassifier(\n",
    "    learning_rate=0.01,\n",
    "    max_depth=3,\n",
    "    n_estimators=200,\n",
    "    use_label_encoder=False,\n",
    "    eval_metric='logloss'\n",
    ")\n",
    "\n",
    "# Entraînement du modèle sur les données d'entraînement\n",
    "best_model_xgb.fit(X_train, y_train)\n",
    "\n",
    "# Faire des prédictions sur df_test\n",
    "y_test_pred_proba_xgb = best_model_xgb.predict_proba(df_test)[:, 1]  # Obtenir les probabilités\n",
    "\n",
    "# Créer un fichier de soumission pour XGBoost\n",
    "submission_xgb = pd.DataFrame({\n",
    "    'id': df_test['id'],  \n",
    "    'loan_status': y_test_pred_proba_xgb\n",
    "})\n",
    "\n",
    "# Sauvegarder le fichier de soumission en CSV\n",
    "submission_xgb.to_csv('submission_XGBoost.csv', index=False)\n",
    "\n",
    "print(\"Fichier de soumission XGBoost créé avec succès.\")\n"
   ]
  },
  {
   "cell_type": "code",
   "execution_count": null,
   "id": "04439ebf",
   "metadata": {
    "execution": {
     "iopub.execute_input": "2024-10-09T21:03:53.077683Z",
     "iopub.status.busy": "2024-10-09T21:03:53.077223Z",
     "iopub.status.idle": "2024-10-09T21:03:53.087328Z",
     "shell.execute_reply": "2024-10-09T21:03:53.085808Z"
    },
    "papermill": {
     "duration": 0.04933,
     "end_time": "2024-10-09T21:03:53.089827",
     "exception": false,
     "start_time": "2024-10-09T21:03:53.040497",
     "status": "completed"
    },
    "tags": []
   },
   "outputs": [
    {
     "name": "stdout",
     "output_type": "stream",
     "text": [
      "       id  loan_status_pred\n",
      "0   58645          0.816106\n",
      "1   58646          0.067144\n",
      "2   58647          0.472588\n",
      "3   58648          0.060048\n",
      "4   58649          0.297620\n",
      "5   58650          0.817446\n",
      "6   58651          0.044800\n",
      "7   58652          0.046190\n",
      "8   58653          0.167488\n",
      "9   58654          0.071189\n",
      "10  58655          0.110252\n",
      "11  58656          0.121781\n",
      "12  58657          0.069236\n",
      "13  58658          0.044800\n",
      "14  58659          0.061748\n",
      "15  58660          0.112665\n",
      "16  58661          0.053057\n",
      "17  58662          0.055521\n",
      "18  58663          0.060296\n",
      "19  58664          0.052501\n"
     ]
    }
   ],
   "source": [
    "# Afficher les 20 premières lignes des prédictions XGBoost\n",
    "result_xgb = pd.DataFrame({\n",
    "    'id': df_test['id'],\n",
    "    'loan_status_pred': y_test_pred_proba_xgb\n",
    "})\n",
    "print(result_xgb.head(20))"
   ]
  },
  {
   "cell_type": "code",
   "execution_count": null,
   "id": "34bc5926",
   "metadata": {
    "execution": {
     "iopub.execute_input": "2024-10-09T21:03:53.162654Z",
     "iopub.status.busy": "2024-10-09T21:03:53.162216Z",
     "iopub.status.idle": "2024-10-09T21:04:17.794627Z",
     "shell.execute_reply": "2024-10-09T21:04:17.793544Z"
    },
    "papermill": {
     "duration": 24.671662,
     "end_time": "2024-10-09T21:04:17.797178",
     "exception": false,
     "start_time": "2024-10-09T21:03:53.125516",
     "status": "completed"
    },
    "tags": []
   },
   "outputs": [
    {
     "name": "stdout",
     "output_type": "stream",
     "text": [
      "loan_status_pred\n",
      "0.044800    5542\n",
      "0.053057    3137\n",
      "0.061134    1504\n",
      "0.042611    1287\n",
      "0.092073    1163\n",
      "            ... \n",
      "0.066802       1\n",
      "0.086473       1\n",
      "0.196580       1\n",
      "0.052647       1\n",
      "0.393581       1\n",
      "Name: count, Length: 1905, dtype: int64\n"
     ]
    },
    {
     "data": {
      "image/png": "[encoded data removed]",
      "text/plain": [
       "<Figure size 640x480 with 1 Axes>"
      ]
     },
     "metadata": {},
     "output_type": "display_data"
    }
   ],
   "source": [
    "# Créer un DataFrame pour résumer les prédictions XGBoost\n",
    "predictions_summary_xgb = result_xgb['loan_status_pred'].value_counts()\n",
    "\n",
    "# Calculer les pourcentages pour chaque classe\n",
    "percentages = predictions_summary_xgb / predictions_summary_xgb.sum() * 100\n",
    "\n",
    "# Afficher les valeurs des prédictions\n",
    "print(predictions_summary_xgb)\n",
    "\n",
    "# Créer un graphique à barres pour XGBoost\n",
    "ax = predictions_summary_xgb.plot(kind='bar', color=['lightgreen', 'orange'])\n",
    "\n",
    "# Ajouter les pourcentages ou les valeurs au-dessus des barres\n",
    "for i in ax.containers:\n",
    "    ax.bar_label(i, labels=[f'{val:.1f}%' for val in percentages], label_type='edge')\n",
    "\n",
    "# Ajouter les titres et étiquettes\n",
    "plt.title('Répartition des prédictions avec XGBoost - Prêt accepté vs rejeté')\n",
    "plt.xlabel('Statut du prêt (0 = rejeté, 1 = accepté)')\n",
    "plt.ylabel('Nombre de prédictions')\n",
    "plt.xticks(rotation=0)\n",
    "\n",
    "# Afficher le graphique\n",
    "plt.show()"
   ]
  },
  {
   "cell_type": "markdown",
   "id": "1176b128",
   "metadata": {
    "papermill": {
     "duration": 0.035642,
     "end_time": "2024-10-09T21:04:17.868811",
     "exception": false,
     "start_time": "2024-10-09T21:04:17.833169",
     "status": "completed"
    },
    "tags": []
   },
   "source": []
  },
  {
   "cell_type": "code",
   "execution_count": null,
   "id": "2df8b9f2",
   "metadata": {
    "execution": {
     "iopub.execute_input": "2024-10-09T21:04:17.943078Z",
     "iopub.status.busy": "2024-10-09T21:04:17.942512Z",
     "iopub.status.idle": "2024-10-09T21:04:19.640427Z",
     "shell.execute_reply": "2024-10-09T21:04:19.639094Z"
    },
    "papermill": {
     "duration": 1.738257,
     "end_time": "2024-10-09T21:04:19.643296",
     "exception": false,
     "start_time": "2024-10-09T21:04:17.905039",
     "status": "completed"
    },
    "tags": []
   },
   "outputs": [
    {
     "name": "stdout",
     "output_type": "stream",
     "text": [
      "[LightGBM] [Info] Number of positive: 8350, number of negative: 50295\n",
      "[LightGBM] [Info] Auto-choosing col-wise multi-threading, the overhead of testing was 0.022692 seconds.\n",
      "You can set `force_col_wise=true` to remove the overhead.\n",
      "[LightGBM] [Info] Total Bins 1098\n",
      "[LightGBM] [Info] Number of data points in the train set: 58645, number of used features: 12\n",
      "[LightGBM] [Info] [binary:BoostFromScore]: pavg=0.142382 -> initscore=-1.795644\n",
      "[LightGBM] [Info] Start training from score -1.795644\n",
      "Fichier de soumission créé avec succès.\n",
      "      id  loan_status\n",
      "0  58645     0.995029\n",
      "1  58646     0.028863\n",
      "2  58647     0.445548\n",
      "3  58648     0.020481\n",
      "4  58649     0.094844\n"
     ]
    }
   ],
   "source": [
    "import pandas as pd\n",
    "from lightgbm import LGBMClassifier\n",
    "\n",
    "\n",
    "# Entraîner le modèle avec les meilleurs hyperparamètres\n",
    "best_model = LGBMClassifier(\n",
    "    learning_rate=0.1,\n",
    "    n_estimators=100,\n",
    "    max_depth=-1,\n",
    "    num_leaves=31\n",
    ")\n",
    "\n",
    "# Entraîner le modèle sur df_train\n",
    "best_model.fit(X, y)\n",
    "\n",
    "# Faire des prédictions sur df_test\n",
    "y_test_pred_proba = best_model.predict_proba(df_test)[:, 1]\n",
    "\n",
    "# Créer un fichier de soumission\n",
    "submission = pd.DataFrame({\n",
    "    'id': df_test['id'],  # Assure-toi que df_test a une colonne 'id'\n",
    "    'loan_status': y_test_pred_proba\n",
    "})\n",
    "\n",
    "# Sauvegarder le fichier de soumission\n",
    "submission.to_csv('submission_LightGBM.csv', index=False)\n",
    "print(\"Fichier de soumission créé avec succès.\")\n",
    "print(submission.head())"
   ]
  },
  {
   "cell_type": "markdown",
   "id": "57ae395b",
   "metadata": {
    "papermill": {
     "duration": 0.035551,
     "end_time": "2024-10-09T21:04:19.714956",
     "exception": false,
     "start_time": "2024-10-09T21:04:19.679405",
     "status": "completed"
    },
    "tags": []
   },
   "source": [
    "## Optimiser Tous les Modèles"
   ]
  },
  {
   "cell_type": "markdown",
   "id": "f21d42d4",
   "metadata": {
    "papermill": {
     "duration": 0.035374,
     "end_time": "2024-10-09T21:04:19.786172",
     "exception": false,
     "start_time": "2024-10-09T21:04:19.750798",
     "status": "completed"
    },
    "tags": []
   },
   "source": [
    "### Conclusion sur le Choix du Modèle\n",
    "Choisir Random Forest pour les prédictions sur df_test est judicieux, notamment parce que ce modèle excelle dans la gestion de datasets comportant de nombreuses variables, tout en offrant des performances solides grâce à son approche basée sur des arbres décisionnels multiples. De plus, il est capable de capter des relations complexes et des interactions entre les variables sans nécessiter de transformation extensive des données.\n"
   ]
  },
  {
   "cell_type": "code",
   "execution_count": null,
   "id": "cc7473ae",
   "metadata": {
    "execution": {
     "iopub.execute_input": "2024-10-09T21:04:19.860848Z",
     "iopub.status.busy": "2024-10-09T21:04:19.859569Z",
     "iopub.status.idle": "2024-10-09T21:04:20.613079Z",
     "shell.execute_reply": "2024-10-09T21:04:20.611805Z"
    },
    "papermill": {
     "duration": 0.793771,
     "end_time": "2024-10-09T21:04:20.615816",
     "exception": false,
     "start_time": "2024-10-09T21:04:19.822045",
     "status": "completed"
    },
    "tags": []
   },
   "outputs": [
    {
     "data": {
      "image/png": "[encoded data removed]",
      "text/plain": [
       "<Figure size 1000x600 with 1 Axes>"
      ]
     },
     "metadata": {},
     "output_type": "display_data"
    }
   ],
   "source": [
    "# Afficher l'importance des variables pour la régression logistique\n",
    "logistic_model = LogisticRegression(max_iter=1000)\n",
    "logistic_model.fit(X, y)\n",
    "\n",
    "# Importance des variables à partir des coefficients\n",
    "importances = np.abs(logistic_model.coef_[0])\n",
    "indices = np.argsort(importances)[::-1]\n",
    "\n",
    "# Tracer l'importance des variables\n",
    "plt.figure(figsize=(10, 6))\n",
    "plt.title(\"Importance des Variables - Logistic Regression\")\n",
    "plt.bar(range(X.shape[1]), importances[indices], align=\"center\")\n",
    "plt.xticks(range(X.shape[1]), X.columns[indices], rotation=90)\n",
    "plt.xlim([-1, X.shape[1]])\n",
    "plt.ylabel(\"Coefficient\")\n",
    "plt.xlabel(\"Variables\")\n",
    "plt.show()"
   ]
  },
  {
   "cell_type": "code",
   "execution_count": null,
   "id": "7c12bc0b",
   "metadata": {
    "execution": {
     "iopub.execute_input": "2024-10-09T21:04:20.691830Z",
     "iopub.status.busy": "2024-10-09T21:04:20.691373Z",
     "iopub.status.idle": "2024-10-09T21:04:32.314878Z",
     "shell.execute_reply": "2024-10-09T21:04:32.313438Z"
    },
    "papermill": {
     "duration": 11.664821,
     "end_time": "2024-10-09T21:04:32.317808",
     "exception": false,
     "start_time": "2024-10-09T21:04:20.652987",
     "status": "completed"
    },
    "tags": []
   },
   "outputs": [
    {
     "data": {
      "image/png": "[encoded data removed]",
      "text/plain": [
       "<Figure size 1000x600 with 1 Axes>"
      ]
     },
     "metadata": {},
     "output_type": "display_data"
    }
   ],
   "source": [
    "# Afficher l'importance des variables pour Random Forest\n",
    "random_forest_model = RandomForestClassifier()\n",
    "random_forest_model.fit(X, y)\n",
    "\n",
    "# Importance des variables\n",
    "importances = random_forest_model.feature_importances_\n",
    "indices = np.argsort(importances)[::-1]\n",
    "\n",
    "# Tracer l'importance des variables\n",
    "plt.figure(figsize=(10, 6))\n",
    "plt.title(\"Importance des Variables - Random Forest\")\n",
    "plt.bar(range(X.shape[1]), importances[indices], align=\"center\")\n",
    "plt.xticks(range(X.shape[1]), X.columns[indices], rotation=90)\n",
    "plt.xlim([-1, X.shape[1]])\n",
    "plt.ylabel(\"Importance\")\n",
    "plt.xlabel(\"Variables\")\n",
    "plt.show()"
   ]
  },
  {
   "cell_type": "code",
   "execution_count": null,
   "id": "f17e0243",
   "metadata": {
    "execution": {
     "iopub.execute_input": "2024-10-09T21:04:32.397147Z",
     "iopub.status.busy": "2024-10-09T21:04:32.396668Z",
     "iopub.status.idle": "2024-10-09T21:04:33.308398Z",
     "shell.execute_reply": "2024-10-09T21:04:33.307160Z"
    },
    "papermill": {
     "duration": 0.954754,
     "end_time": "2024-10-09T21:04:33.311363",
     "exception": false,
     "start_time": "2024-10-09T21:04:32.356609",
     "status": "completed"
    },
    "tags": []
   },
   "outputs": [
    {
     "data": {
      "image/png": "[encoded data removed]",
      "text/plain": [
       "<Figure size 1000x600 with 1 Axes>"
      ]
     },
     "metadata": {},
     "output_type": "display_data"
    }
   ],
   "source": [
    "# Afficher l'importance des variables pour Decision Tree\n",
    "decision_tree_model = DecisionTreeClassifier()\n",
    "decision_tree_model.fit(X, y)\n",
    "\n",
    "# Importance des variables\n",
    "importances = decision_tree_model.feature_importances_\n",
    "indices = np.argsort(importances)[::-1]\n",
    "\n",
    "# Tracer l'importance des variables\n",
    "plt.figure(figsize=(10, 6))\n",
    "plt.title(\"Importance des Variables - Decision Tree\")\n",
    "plt.bar(range(X.shape[1]), importances[indices], align=\"center\")\n",
    "plt.xticks(range(X.shape[1]), X.columns[indices], rotation=90)\n",
    "plt.xlim([-1, X.shape[1]])\n",
    "plt.ylabel(\"Importance\")\n",
    "plt.xlabel(\"Variables\")\n",
    "plt.show()"
   ]
  },
  {
   "cell_type": "code",
   "execution_count": null,
   "id": "904a2afe",
   "metadata": {
    "execution": {
     "iopub.execute_input": "2024-10-09T21:04:33.391817Z",
     "iopub.status.busy": "2024-10-09T21:04:33.391377Z",
     "iopub.status.idle": "2024-10-09T21:04:34.708651Z",
     "shell.execute_reply": "2024-10-09T21:04:34.707331Z"
    },
    "papermill": {
     "duration": 1.360809,
     "end_time": "2024-10-09T21:04:34.711482",
     "exception": false,
     "start_time": "2024-10-09T21:04:33.350673",
     "status": "completed"
    },
    "tags": []
   },
   "outputs": [
    {
     "data": {
      "image/png": "[encoded data removed]",
      "text/plain": [
       "<Figure size 1000x600 with 1 Axes>"
      ]
     },
     "metadata": {},
     "output_type": "display_data"
    }
   ],
   "source": [
    "# Afficher l'importance des variables pour XGBoost\n",
    "xgb_model = XGBClassifier(use_label_encoder=False, eval_metric='logloss')\n",
    "xgb_model.fit(X, y)\n",
    "\n",
    "# Importance des variables\n",
    "importances = xgb_model.feature_importances_\n",
    "indices = np.argsort(importances)[::-1]\n",
    "\n",
    "# Tracer l'importance des variables\n",
    "plt.figure(figsize=(10, 6))\n",
    "plt.title(\"Importance des Variables - XGBoost\")\n",
    "plt.bar(range(X.shape[1]), importances[indices], align=\"center\")\n",
    "plt.xticks(range(X.shape[1]), X.columns[indices], rotation=90)\n",
    "plt.xlim([-1, X.shape[1]])\n",
    "plt.ylabel(\"Importance\")\n",
    "plt.xlabel(\"Variables\")\n",
    "plt.show()"
   ]
  }
 ],
 "metadata": {
  "kaggle": {
   "accelerator": "none",
   "dataSources": [
    {
     "databundleVersionId": 9709193,
     "sourceId": 84894,
     "sourceType": "competition"
    }
   ],
   "dockerImageVersionId": 30786,
   "isGpuEnabled": false,
   "isInternetEnabled": true,
   "language": "python",
   "sourceType": "notebook"
  },
  "kernelspec": {
   "display_name": "Python 3",
   "language": "python",
   "name": "python3"
  },
  "language_info": {
   "codemirror_mode": {
    "name": "ipython",
    "version": 3
   },
   "file_extension": ".py",
   "mimetype": "text/x-python",
   "name": "python",
   "nbconvert_exporter": "python",
   "pygments_lexer": "ipython3",
   "version": "3.10.11"
  },
  "papermill": {
   "default_parameters": {},
   "duration": 1137.094675,
   "end_time": "2024-10-09T21:04:36.076701",
   "environment_variables": {},
   "exception": null,
   "input_path": "__notebook__.ipynb",
   "output_path": "__notebook__.ipynb",
   "parameters": {},
   "start_time": "2024-10-09T20:45:38.982026",
   "version": "2.6.0"
  }
 },
 "nbformat": 4,
 "nbformat_minor": 5
}
